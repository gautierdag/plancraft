{
 "cells": [
  {
   "cell_type": "markdown",
   "metadata": {},
   "source": [
    "# Minecraft Text Planning Task"
   ]
  },
  {
   "cell_type": "code",
   "execution_count": 3,
   "metadata": {},
   "outputs": [
    {
     "name": "stdout",
     "output_type": "stream",
     "text": [
      "Loading dialogue dataset\n",
      "Loading dialogue dataset\n"
     ]
    }
   ],
   "source": [
    "from plancraft.train.dataset import get_dataset_and_collate\n",
    "\n",
    "base_model = \"llama3.1\"\n",
    "max_seq_length = 8142\n",
    "max_message_window = 40\n",
    "trace_mode = \"ota\"\n",
    "\n",
    "\n",
    "train_dataset, val_dataset, collate_fn = get_dataset_and_collate(\n",
    "        # template_name=cfg.training.base_model,\n",
    "        # max_length=cfg.training.max_seq_length,\n",
    "        # max_message_window=cfg.training.max_message_window,\n",
    "        # trace_mode=cfg.training.trace_mode,\n",
    "        template_name=base_model,\n",
    "        max_length=max_seq_length,\n",
    "        max_message_window=max_message_window,\n",
    "        trace_mode=trace_mode,\n",
    "    )"
   ]
  },
  {
   "cell_type": "code",
   "execution_count": 9,
   "metadata": {},
   "outputs": [
    {
     "data": {
      "text/plain": [
       "([{'role': 'user',\n",
       "   'content': 'Craft an item of type: blue_banner\\ninventory=[{\"type\": \"purple_banner\", \"quantity\": 13, \"index\": 11}, {\"type\": \"melon\", \"quantity\": 43, \"index\": 13}, {\"type\": \"music_disc_strad\", \"quantity\": 1, \"index\": 14}, {\"type\": \"creeper_spawn_egg\", \"quantity\": 59, \"index\": 15}, {\"type\": \"cooked_mutton\", \"quantity\": 21, \"index\": 16}, {\"type\": \"blue_dye\", \"quantity\": 6, \"index\": 17}, {\"type\": \"crimson_planks\", \"quantity\": 1, \"index\": 18}, {\"type\": \"blackstone_slab\", \"quantity\": 47, \"index\": 21}, {\"type\": \"cut_sandstone_slab\", \"quantity\": 2, \"index\": 22}, {\"type\": \"light_gray_banner\", \"quantity\": 13, \"index\": 27}, {\"type\": \"oak_boat\", \"quantity\": 1, \"index\": 30}, {\"type\": \"sandstone_slab\", \"quantity\": 24, \"index\": 31}, {\"type\": \"purple_terracotta\", \"quantity\": 45, \"index\": 36}, {\"type\": \"gold_block\", \"quantity\": 13, \"index\": 37}, {\"type\": \"slime_ball\", \"quantity\": 16, \"index\": 40}, {\"type\": \"fletching_table\", \"quantity\": 24, \"index\": 41}, {\"type\": \"white_wool\", \"quantity\": 6, \"index\": 42}, {\"type\": \"coarse_dirt\", \"quantity\": 21, \"index\": 43}, {\"type\": \"stripped_birch_log\", \"quantity\": 1, \"index\": 44}, {\"type\": \"light_blue_dye\", \"quantity\": 22, \"index\": 45}]'},\n",
       "  {'role': 'assistant',\n",
       "   'content': 'thought: I have already placed one blue dye in the crafting grid. Now I need to place a white wool next to it to craft blue wool. Therefore, I will move the white wool from slot 42 to slot 2.'},\n",
       "  {'role': 'user', 'content': 'Ok'},\n",
       "  {'role': 'assistant',\n",
       "   'content': 'act: move from slot 42 to slot 2 with quantity 1'},\n",
       "  {'role': 'user',\n",
       "   'content': 'Craft an item of type: blue_banner\\ninventory=[{\"type\": \"blue_wool\", \"quantity\": 1, \"index\": 0}, {\"type\": \"blue_dye\", \"quantity\": 1, \"index\": 1}, {\"type\": \"white_wool\", \"quantity\": 1, \"index\": 2}, {\"type\": \"purple_banner\", \"quantity\": 13, \"index\": 11}, {\"type\": \"melon\", \"quantity\": 43, \"index\": 13}, {\"type\": \"music_disc_strad\", \"quantity\": 1, \"index\": 14}, {\"type\": \"creeper_spawn_egg\", \"quantity\": 59, \"index\": 15}, {\"type\": \"cooked_mutton\", \"quantity\": 21, \"index\": 16}, {\"type\": \"blue_dye\", \"quantity\": 5, \"index\": 17}, {\"type\": \"crimson_planks\", \"quantity\": 1, \"index\": 18}, {\"type\": \"blackstone_slab\", \"quantity\": 47, \"index\": 21}, {\"type\": \"cut_sandstone_slab\", \"quantity\": 2, \"index\": 22}, {\"type\": \"light_gray_banner\", \"quantity\": 13, \"index\": 27}, {\"type\": \"oak_boat\", \"quantity\": 1, \"index\": 30}, {\"type\": \"sandstone_slab\", \"quantity\": 24, \"index\": 31}, {\"type\": \"purple_terracotta\", \"quantity\": 45, \"index\": 36}, {\"type\": \"gold_block\", \"quantity\": 13, \"index\": 37}, {\"type\": \"slime_ball\", \"quantity\": 16, \"index\": 40}, {\"type\": \"fletching_table\", \"quantity\": 24, \"index\": 41}, {\"type\": \"white_wool\", \"quantity\": 5, \"index\": 42}, {\"type\": \"coarse_dirt\", \"quantity\": 21, \"index\": 43}, {\"type\": \"stripped_birch_log\", \"quantity\": 1, \"index\": 44}, {\"type\": \"light_blue_dye\", \"quantity\": 22, \"index\": 45}]'},\n",
       "  {'role': 'assistant',\n",
       "   'content': 'thought: The blue wool has been crafted. Now I need to move it to a free inventory slot (eg., 12) so that I can craft another blue wool.'},\n",
       "  {'role': 'user', 'content': 'Ok'},\n",
       "  {'role': 'assistant',\n",
       "   'content': 'act: move from slot 0 to slot 12 with quantity 1'},\n",
       "  {'role': 'user',\n",
       "   'content': 'Craft an item of type: blue_banner\\ninventory=[{\"type\": \"purple_banner\", \"quantity\": 13, \"index\": 11}, {\"type\": \"blue_wool\", \"quantity\": 1, \"index\": 12}, {\"type\": \"melon\", \"quantity\": 43, \"index\": 13}, {\"type\": \"music_disc_strad\", \"quantity\": 1, \"index\": 14}, {\"type\": \"creeper_spawn_egg\", \"quantity\": 59, \"index\": 15}, {\"type\": \"cooked_mutton\", \"quantity\": 21, \"index\": 16}, {\"type\": \"blue_dye\", \"quantity\": 5, \"index\": 17}, {\"type\": \"crimson_planks\", \"quantity\": 1, \"index\": 18}, {\"type\": \"blackstone_slab\", \"quantity\": 47, \"index\": 21}, {\"type\": \"cut_sandstone_slab\", \"quantity\": 2, \"index\": 22}, {\"type\": \"light_gray_banner\", \"quantity\": 13, \"index\": 27}, {\"type\": \"oak_boat\", \"quantity\": 1, \"index\": 30}, {\"type\": \"sandstone_slab\", \"quantity\": 24, \"index\": 31}, {\"type\": \"purple_terracotta\", \"quantity\": 45, \"index\": 36}, {\"type\": \"gold_block\", \"quantity\": 13, \"index\": 37}, {\"type\": \"slime_ball\", \"quantity\": 16, \"index\": 40}, {\"type\": \"fletching_table\", \"quantity\": 24, \"index\": 41}, {\"type\": \"white_wool\", \"quantity\": 5, \"index\": 42}, {\"type\": \"coarse_dirt\", \"quantity\": 21, \"index\": 43}, {\"type\": \"stripped_birch_log\", \"quantity\": 1, \"index\": 44}, {\"type\": \"light_blue_dye\", \"quantity\": 22, \"index\": 45}]'},\n",
       "  {'role': 'assistant',\n",
       "   'content': 'thought: To make a blue banner, I need to craft blue wool. Blue wool requires blue dye and white wool. I have both of these ingredients, so I will start by moving the blue dye to the crafting grid.'},\n",
       "  {'role': 'user', 'content': 'Ok'},\n",
       "  {'role': 'assistant',\n",
       "   'content': 'act: move from slot 17 to slot 1 with quantity 1'},\n",
       "  {'role': 'user',\n",
       "   'content': 'Craft an item of type: blue_banner\\ninventory=[{\"type\": \"blue_dye\", \"quantity\": 1, \"index\": 1}, {\"type\": \"purple_banner\", \"quantity\": 13, \"index\": 11}, {\"type\": \"blue_wool\", \"quantity\": 1, \"index\": 12}, {\"type\": \"melon\", \"quantity\": 43, \"index\": 13}, {\"type\": \"music_disc_strad\", \"quantity\": 1, \"index\": 14}, {\"type\": \"creeper_spawn_egg\", \"quantity\": 59, \"index\": 15}, {\"type\": \"cooked_mutton\", \"quantity\": 21, \"index\": 16}, {\"type\": \"blue_dye\", \"quantity\": 4, \"index\": 17}, {\"type\": \"crimson_planks\", \"quantity\": 1, \"index\": 18}, {\"type\": \"blackstone_slab\", \"quantity\": 47, \"index\": 21}, {\"type\": \"cut_sandstone_slab\", \"quantity\": 2, \"index\": 22}, {\"type\": \"light_gray_banner\", \"quantity\": 13, \"index\": 27}, {\"type\": \"oak_boat\", \"quantity\": 1, \"index\": 30}, {\"type\": \"sandstone_slab\", \"quantity\": 24, \"index\": 31}, {\"type\": \"purple_terracotta\", \"quantity\": 45, \"index\": 36}, {\"type\": \"gold_block\", \"quantity\": 13, \"index\": 37}, {\"type\": \"slime_ball\", \"quantity\": 16, \"index\": 40}, {\"type\": \"fletching_table\", \"quantity\": 24, \"index\": 41}, {\"type\": \"white_wool\", \"quantity\": 5, \"index\": 42}, {\"type\": \"coarse_dirt\", \"quantity\": 21, \"index\": 43}, {\"type\": \"stripped_birch_log\", \"quantity\": 1, \"index\": 44}, {\"type\": \"light_blue_dye\", \"quantity\": 22, \"index\": 45}]'},\n",
       "  {'role': 'assistant',\n",
       "   'content': 'thought: Now I need to move the white wool to the crafting grid.'},\n",
       "  {'role': 'user', 'content': 'Ok'},\n",
       "  {'role': 'assistant',\n",
       "   'content': 'act: move from slot 42 to slot 2 with quantity 1'},\n",
       "  {'role': 'user',\n",
       "   'content': 'Craft an item of type: blue_banner\\ninventory=[{\"type\": \"blue_wool\", \"quantity\": 1, \"index\": 0}, {\"type\": \"blue_dye\", \"quantity\": 1, \"index\": 1}, {\"type\": \"white_wool\", \"quantity\": 1, \"index\": 2}, {\"type\": \"purple_banner\", \"quantity\": 13, \"index\": 11}, {\"type\": \"blue_wool\", \"quantity\": 1, \"index\": 12}, {\"type\": \"melon\", \"quantity\": 43, \"index\": 13}, {\"type\": \"music_disc_strad\", \"quantity\": 1, \"index\": 14}, {\"type\": \"creeper_spawn_egg\", \"quantity\": 59, \"index\": 15}, {\"type\": \"cooked_mutton\", \"quantity\": 21, \"index\": 16}, {\"type\": \"blue_dye\", \"quantity\": 4, \"index\": 17}, {\"type\": \"crimson_planks\", \"quantity\": 1, \"index\": 18}, {\"type\": \"blackstone_slab\", \"quantity\": 47, \"index\": 21}, {\"type\": \"cut_sandstone_slab\", \"quantity\": 2, \"index\": 22}, {\"type\": \"light_gray_banner\", \"quantity\": 13, \"index\": 27}, {\"type\": \"oak_boat\", \"quantity\": 1, \"index\": 30}, {\"type\": \"sandstone_slab\", \"quantity\": 24, \"index\": 31}, {\"type\": \"purple_terracotta\", \"quantity\": 45, \"index\": 36}, {\"type\": \"gold_block\", \"quantity\": 13, \"index\": 37}, {\"type\": \"slime_ball\", \"quantity\": 16, \"index\": 40}, {\"type\": \"fletching_table\", \"quantity\": 24, \"index\": 41}, {\"type\": \"white_wool\", \"quantity\": 4, \"index\": 42}, {\"type\": \"coarse_dirt\", \"quantity\": 21, \"index\": 43}, {\"type\": \"stripped_birch_log\", \"quantity\": 1, \"index\": 44}, {\"type\": \"light_blue_dye\", \"quantity\": 22, \"index\": 45}]'},\n",
       "  {'role': 'assistant',\n",
       "   'content': 'thought: I have crafted blue wool. I will move it to a free inventory slot (eg., 19).'},\n",
       "  {'role': 'user', 'content': 'Ok'},\n",
       "  {'role': 'assistant',\n",
       "   'content': 'act: move from slot 0 to slot 19 with quantity 1'},\n",
       "  {'role': 'user',\n",
       "   'content': 'Craft an item of type: blue_banner\\ninventory=[{\"type\": \"purple_banner\", \"quantity\": 13, \"index\": 11}, {\"type\": \"blue_wool\", \"quantity\": 1, \"index\": 12}, {\"type\": \"melon\", \"quantity\": 43, \"index\": 13}, {\"type\": \"music_disc_strad\", \"quantity\": 1, \"index\": 14}, {\"type\": \"creeper_spawn_egg\", \"quantity\": 59, \"index\": 15}, {\"type\": \"cooked_mutton\", \"quantity\": 21, \"index\": 16}, {\"type\": \"blue_dye\", \"quantity\": 4, \"index\": 17}, {\"type\": \"crimson_planks\", \"quantity\": 1, \"index\": 18}, {\"type\": \"blue_wool\", \"quantity\": 1, \"index\": 19}, {\"type\": \"blackstone_slab\", \"quantity\": 47, \"index\": 21}, {\"type\": \"cut_sandstone_slab\", \"quantity\": 2, \"index\": 22}, {\"type\": \"light_gray_banner\", \"quantity\": 13, \"index\": 27}, {\"type\": \"oak_boat\", \"quantity\": 1, \"index\": 30}, {\"type\": \"sandstone_slab\", \"quantity\": 24, \"index\": 31}, {\"type\": \"purple_terracotta\", \"quantity\": 45, \"index\": 36}, {\"type\": \"gold_block\", \"quantity\": 13, \"index\": 37}, {\"type\": \"slime_ball\", \"quantity\": 16, \"index\": 40}, {\"type\": \"fletching_table\", \"quantity\": 24, \"index\": 41}, {\"type\": \"white_wool\", \"quantity\": 4, \"index\": 42}, {\"type\": \"coarse_dirt\", \"quantity\": 21, \"index\": 43}, {\"type\": \"stripped_birch_log\", \"quantity\": 1, \"index\": 44}, {\"type\": \"light_blue_dye\", \"quantity\": 22, \"index\": 45}]'},\n",
       "  {'role': 'assistant',\n",
       "   'content': 'thought: To craft a blue_banner, I need to craft 6 blue_wool, which requires 6 white_wool and 6 blue_dye. I already have 2 blue_wool and 4 white_wool, so I only need to move the blue dye into the crafting table.'},\n",
       "  {'role': 'user', 'content': 'Ok'},\n",
       "  {'role': 'assistant',\n",
       "   'content': 'act: move from slot 17 to slot 1 with quantity 1'},\n",
       "  {'role': 'user',\n",
       "   'content': 'Craft an item of type: blue_banner\\ninventory=[{\"type\": \"blue_dye\", \"quantity\": 1, \"index\": 1}, {\"type\": \"purple_banner\", \"quantity\": 13, \"index\": 11}, {\"type\": \"blue_wool\", \"quantity\": 1, \"index\": 12}, {\"type\": \"melon\", \"quantity\": 43, \"index\": 13}, {\"type\": \"music_disc_strad\", \"quantity\": 1, \"index\": 14}, {\"type\": \"creeper_spawn_egg\", \"quantity\": 59, \"index\": 15}, {\"type\": \"cooked_mutton\", \"quantity\": 21, \"index\": 16}, {\"type\": \"blue_dye\", \"quantity\": 3, \"index\": 17}, {\"type\": \"crimson_planks\", \"quantity\": 1, \"index\": 18}, {\"type\": \"blue_wool\", \"quantity\": 1, \"index\": 19}, {\"type\": \"blackstone_slab\", \"quantity\": 47, \"index\": 21}, {\"type\": \"cut_sandstone_slab\", \"quantity\": 2, \"index\": 22}, {\"type\": \"light_gray_banner\", \"quantity\": 13, \"index\": 27}, {\"type\": \"oak_boat\", \"quantity\": 1, \"index\": 30}, {\"type\": \"sandstone_slab\", \"quantity\": 24, \"index\": 31}, {\"type\": \"purple_terracotta\", \"quantity\": 45, \"index\": 36}, {\"type\": \"gold_block\", \"quantity\": 13, \"index\": 37}, {\"type\": \"slime_ball\", \"quantity\": 16, \"index\": 40}, {\"type\": \"fletching_table\", \"quantity\": 24, \"index\": 41}, {\"type\": \"white_wool\", \"quantity\": 4, \"index\": 42}, {\"type\": \"coarse_dirt\", \"quantity\": 21, \"index\": 43}, {\"type\": \"stripped_birch_log\", \"quantity\": 1, \"index\": 44}, {\"type\": \"light_blue_dye\", \"quantity\": 22, \"index\": 45}]'},\n",
       "  {'role': 'assistant',\n",
       "   'content': 'thought: To craft a blue_banner, I need to craft 6 blue_wool, which requires 6 white_wool and 6 blue_dye. I already have 2 blue_wool and 4 white_wool, so I only need to move the blue dye and white wool into the crafting table.'},\n",
       "  {'role': 'user', 'content': 'Ok'},\n",
       "  {'role': 'assistant',\n",
       "   'content': 'act: move from slot 42 to slot 2 with quantity 1'},\n",
       "  {'role': 'user',\n",
       "   'content': 'Craft an item of type: blue_banner\\ninventory=[{\"type\": \"blue_wool\", \"quantity\": 1, \"index\": 0}, {\"type\": \"blue_dye\", \"quantity\": 1, \"index\": 1}, {\"type\": \"white_wool\", \"quantity\": 1, \"index\": 2}, {\"type\": \"purple_banner\", \"quantity\": 13, \"index\": 11}, {\"type\": \"blue_wool\", \"quantity\": 1, \"index\": 12}, {\"type\": \"melon\", \"quantity\": 43, \"index\": 13}, {\"type\": \"music_disc_strad\", \"quantity\": 1, \"index\": 14}, {\"type\": \"creeper_spawn_egg\", \"quantity\": 59, \"index\": 15}, {\"type\": \"cooked_mutton\", \"quantity\": 21, \"index\": 16}, {\"type\": \"blue_dye\", \"quantity\": 3, \"index\": 17}, {\"type\": \"crimson_planks\", \"quantity\": 1, \"index\": 18}, {\"type\": \"blue_wool\", \"quantity\": 1, \"index\": 19}, {\"type\": \"blackstone_slab\", \"quantity\": 47, \"index\": 21}, {\"type\": \"cut_sandstone_slab\", \"quantity\": 2, \"index\": 22}, {\"type\": \"light_gray_banner\", \"quantity\": 13, \"index\": 27}, {\"type\": \"oak_boat\", \"quantity\": 1, \"index\": 30}, {\"type\": \"sandstone_slab\", \"quantity\": 24, \"index\": 31}, {\"type\": \"purple_terracotta\", \"quantity\": 45, \"index\": 36}, {\"type\": \"gold_block\", \"quantity\": 13, \"index\": 37}, {\"type\": \"slime_ball\", \"quantity\": 16, \"index\": 40}, {\"type\": \"fletching_table\", \"quantity\": 24, \"index\": 41}, {\"type\": \"white_wool\", \"quantity\": 3, \"index\": 42}, {\"type\": \"coarse_dirt\", \"quantity\": 21, \"index\": 43}, {\"type\": \"stripped_birch_log\", \"quantity\": 1, \"index\": 44}, {\"type\": \"light_blue_dye\", \"quantity\": 22, \"index\": 45}]'},\n",
       "  {'role': 'assistant',\n",
       "   'content': 'thought: To craft a blue_banner, I need to craft 6 blue_wool, which requires 6 white_wool and 6 blue_dye. I already have 2 blue_wool and 4 white_wool, so I only need to move the blue dye and white wool into the crafting table.'},\n",
       "  {'role': 'user', 'content': 'Ok'},\n",
       "  {'role': 'assistant',\n",
       "   'content': 'act: move from slot 0 to slot 20 with quantity 1'},\n",
       "  {'role': 'user',\n",
       "   'content': 'Craft an item of type: blue_banner\\ninventory=[{\"type\": \"purple_banner\", \"quantity\": 13, \"index\": 11}, {\"type\": \"blue_wool\", \"quantity\": 1, \"index\": 12}, {\"type\": \"melon\", \"quantity\": 43, \"index\": 13}, {\"type\": \"music_disc_strad\", \"quantity\": 1, \"index\": 14}, {\"type\": \"creeper_spawn_egg\", \"quantity\": 59, \"index\": 15}, {\"type\": \"cooked_mutton\", \"quantity\": 21, \"index\": 16}, {\"type\": \"blue_dye\", \"quantity\": 3, \"index\": 17}, {\"type\": \"crimson_planks\", \"quantity\": 1, \"index\": 18}, {\"type\": \"blue_wool\", \"quantity\": 1, \"index\": 19}, {\"type\": \"blue_wool\", \"quantity\": 1, \"index\": 20}, {\"type\": \"blackstone_slab\", \"quantity\": 47, \"index\": 21}, {\"type\": \"cut_sandstone_slab\", \"quantity\": 2, \"index\": 22}, {\"type\": \"light_gray_banner\", \"quantity\": 13, \"index\": 27}, {\"type\": \"oak_boat\", \"quantity\": 1, \"index\": 30}, {\"type\": \"sandstone_slab\", \"quantity\": 24, \"index\": 31}, {\"type\": \"purple_terracotta\", \"quantity\": 45, \"index\": 36}, {\"type\": \"gold_block\", \"quantity\": 13, \"index\": 37}, {\"type\": \"slime_ball\", \"quantity\": 16, \"index\": 40}, {\"type\": \"fletching_table\", \"quantity\": 24, \"index\": 41}, {\"type\": \"white_wool\", \"quantity\": 3, \"index\": 42}, {\"type\": \"coarse_dirt\", \"quantity\": 21, \"index\": 43}, {\"type\": \"stripped_birch_log\", \"quantity\": 1, \"index\": 44}, {\"type\": \"light_blue_dye\", \"quantity\": 22, \"index\": 45}]'},\n",
       "  {'role': 'assistant',\n",
       "   'content': 'thought: To craft a blue banner, we need to place 6 blue wool in the crafting table. We have 3 blue wool in our inventory and one blue dye. Therefore, we will first use the blue dye to craft more blue wool. We will first move the blue dye from slot 17 to slot 1.'},\n",
       "  {'role': 'user', 'content': 'Ok'},\n",
       "  {'role': 'assistant',\n",
       "   'content': 'act: move from slot 17 to slot 1 with quantity 1'},\n",
       "  {'role': 'user',\n",
       "   'content': 'Craft an item of type: blue_banner\\ninventory=[{\"type\": \"blue_dye\", \"quantity\": 1, \"index\": 1}, {\"type\": \"purple_banner\", \"quantity\": 13, \"index\": 11}, {\"type\": \"blue_wool\", \"quantity\": 1, \"index\": 12}, {\"type\": \"melon\", \"quantity\": 43, \"index\": 13}, {\"type\": \"music_disc_strad\", \"quantity\": 1, \"index\": 14}, {\"type\": \"creeper_spawn_egg\", \"quantity\": 59, \"index\": 15}, {\"type\": \"cooked_mutton\", \"quantity\": 21, \"index\": 16}, {\"type\": \"blue_dye\", \"quantity\": 2, \"index\": 17}, {\"type\": \"crimson_planks\", \"quantity\": 1, \"index\": 18}, {\"type\": \"blue_wool\", \"quantity\": 1, \"index\": 19}, {\"type\": \"blue_wool\", \"quantity\": 1, \"index\": 20}, {\"type\": \"blackstone_slab\", \"quantity\": 47, \"index\": 21}, {\"type\": \"cut_sandstone_slab\", \"quantity\": 2, \"index\": 22}, {\"type\": \"light_gray_banner\", \"quantity\": 13, \"index\": 27}, {\"type\": \"oak_boat\", \"quantity\": 1, \"index\": 30}, {\"type\": \"sandstone_slab\", \"quantity\": 24, \"index\": 31}, {\"type\": \"purple_terracotta\", \"quantity\": 45, \"index\": 36}, {\"type\": \"gold_block\", \"quantity\": 13, \"index\": 37}, {\"type\": \"slime_ball\", \"quantity\": 16, \"index\": 40}, {\"type\": \"fletching_table\", \"quantity\": 24, \"index\": 41}, {\"type\": \"white_wool\", \"quantity\": 3, \"index\": 42}, {\"type\": \"coarse_dirt\", \"quantity\": 21, \"index\": 43}, {\"type\": \"stripped_birch_log\", \"quantity\": 1, \"index\": 44}, {\"type\": \"light_blue_dye\", \"quantity\": 22, \"index\": 45}]'},\n",
       "  {'role': 'assistant',\n",
       "   'content': 'thought: We now need to move the white wool to slot 2 so that we can craft the blue wool.'},\n",
       "  {'role': 'user', 'content': 'Ok'},\n",
       "  {'role': 'assistant',\n",
       "   'content': 'act: move from slot 42 to slot 2 with quantity 1'},\n",
       "  {'role': 'user',\n",
       "   'content': 'Craft an item of type: blue_banner\\ninventory=[{\"type\": \"blue_wool\", \"quantity\": 1, \"index\": 0}, {\"type\": \"blue_dye\", \"quantity\": 1, \"index\": 1}, {\"type\": \"white_wool\", \"quantity\": 1, \"index\": 2}, {\"type\": \"purple_banner\", \"quantity\": 13, \"index\": 11}, {\"type\": \"blue_wool\", \"quantity\": 1, \"index\": 12}, {\"type\": \"melon\", \"quantity\": 43, \"index\": 13}, {\"type\": \"music_disc_strad\", \"quantity\": 1, \"index\": 14}, {\"type\": \"creeper_spawn_egg\", \"quantity\": 59, \"index\": 15}, {\"type\": \"cooked_mutton\", \"quantity\": 21, \"index\": 16}, {\"type\": \"blue_dye\", \"quantity\": 2, \"index\": 17}, {\"type\": \"crimson_planks\", \"quantity\": 1, \"index\": 18}, {\"type\": \"blue_wool\", \"quantity\": 1, \"index\": 19}, {\"type\": \"blue_wool\", \"quantity\": 1, \"index\": 20}, {\"type\": \"blackstone_slab\", \"quantity\": 47, \"index\": 21}, {\"type\": \"cut_sandstone_slab\", \"quantity\": 2, \"index\": 22}, {\"type\": \"light_gray_banner\", \"quantity\": 13, \"index\": 27}, {\"type\": \"oak_boat\", \"quantity\": 1, \"index\": 30}, {\"type\": \"sandstone_slab\", \"quantity\": 24, \"index\": 31}, {\"type\": \"purple_terracotta\", \"quantity\": 45, \"index\": 36}, {\"type\": \"gold_block\", \"quantity\": 13, \"index\": 37}, {\"type\": \"slime_ball\", \"quantity\": 16, \"index\": 40}, {\"type\": \"fletching_table\", \"quantity\": 24, \"index\": 41}, {\"type\": \"white_wool\", \"quantity\": 2, \"index\": 42}, {\"type\": \"coarse_dirt\", \"quantity\": 21, \"index\": 43}, {\"type\": \"stripped_birch_log\", \"quantity\": 1, \"index\": 44}, {\"type\": \"light_blue_dye\", \"quantity\": 22, \"index\": 45}]'}],\n",
       " [])"
      ]
     },
     "execution_count": 9,
     "metadata": {},
     "output_type": "execute_result"
    }
   ],
   "source": [
    "train_dataset[4]"
   ]
  }
 ],
 "metadata": {
  "kernelspec": {
   "display_name": "plancraft",
   "language": "python",
   "name": "python3"
  },
  "language_info": {
   "codemirror_mode": {
    "name": "ipython",
    "version": 3
   },
   "file_extension": ".py",
   "mimetype": "text/x-python",
   "name": "python",
   "nbconvert_exporter": "python",
   "pygments_lexer": "ipython3",
   "version": "3.10.12"
  }
 },
 "nbformat": 4,
 "nbformat_minor": 2
}
