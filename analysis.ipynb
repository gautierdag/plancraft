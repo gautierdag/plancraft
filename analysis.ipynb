{
 "cells": [
  {
   "cell_type": "code",
   "execution_count": 93,
   "metadata": {},
   "outputs": [
    {
     "name": "stdout",
     "output_type": "stream",
     "text": [
      "103\n"
     ]
    }
   ],
   "source": [
    "import glob\n",
    "import json\n",
    "\n",
    "examples = glob.glob(\"/plancraft/outputs/oracle_symb/*/0/*.json\")\n",
    "non_valid_ids = set()\n",
    "\n",
    "for example in examples:\n",
    "    data = json.load(open(example))\n",
    "    if not data[\"success\"]:\n",
    "        non_valid_ids.add(data[\"example_id\"])\n",
    "\n",
    "print(len(non_valid_ids))"
   ]
  },
  {
   "cell_type": "code",
   "execution_count": 97,
   "metadata": {},
   "outputs": [
    {
     "name": "stdout",
     "output_type": "stream",
     "text": [
      "data/test.json 600 580\n",
      "data/val.json 600 570\n",
      "data/val.small.easy.json 100 100\n",
      "data/train.json 1200 1147\n",
      "data/test.small.json 120 117\n",
      "data/val.small.json 120 110\n",
      "data/test.small.easy.json 100 100\n"
     ]
    }
   ],
   "source": [
    "for dataset_name in glob.glob(\"data/*.json\"):\n",
    "    dataset = json.load(open(dataset_name))\n",
    "    new_dataset = []\n",
    "    for example in dataset:\n",
    "        if example[\"id\"] not in non_valid_ids:\n",
    "            new_dataset.append(example)\n",
    "    print(dataset_name, len(dataset), len(new_dataset))\n",
    "    # replace\n",
    "    json.dump(new_dataset, open(dataset_name, \"w\"), indent=2)"
   ]
  },
  {
   "cell_type": "markdown",
   "metadata": {},
   "source": [
    "### Download outputs from wandb"
   ]
  },
  {
   "cell_type": "code",
   "execution_count": 77,
   "metadata": {},
   "outputs": [
    {
     "name": "stderr",
     "output_type": "stream",
     "text": [
      "100%|██████████| 164/164 [03:21<00:00,  1.23s/it]\n"
     ]
    }
   ],
   "source": [
    "import wandb\n",
    "from tqdm import tqdm\n",
    "\n",
    "project = \"plancraft\"\n",
    "entity = \"itl\"\n",
    "\n",
    "api = wandb.Api()\n",
    "runs = api.runs(f\"{entity}/{project}\")\n",
    "\n",
    "# download all \n",
    "for run in tqdm(runs):\n",
    "    for file in run.files():\n",
    "        if (\n",
    "            file.name.startswith(\"outputs/\")\n",
    "            and file.name.endswith(\".json\")\n",
    "            and \"/val.small/\" in file.name\n",
    "            and \"stp80\" not in file.name\n",
    "        ):\n",
    "            file.download(exist_ok=True)"
   ]
  },
  {
   "cell_type": "markdown",
   "metadata": {},
   "source": [
    "### Collate outputs into single results"
   ]
  },
  {
   "cell_type": "code",
   "execution_count": 141,
   "metadata": {},
   "outputs": [],
   "source": [
    "import glob\n",
    "import json\n",
    "\n",
    "# load from local\n",
    "task_results = glob.glob(\"outputs/*/val.small/*/*.json\")\n",
    "results = []\n",
    "\n",
    "for task_result in task_results:\n",
    "    example_id = task_result.split(\"/\")[-1]\n",
    "    seed = task_result.split(\"/\")[-2]\n",
    "    split = task_result.split(\"/\")[-3]\n",
    "    run_name = task_result.split(\"/\")[-4]\n",
    "    with open(task_result) as f:\n",
    "        result = json.load(f)\n",
    "\n",
    "    result[\"name\"] = run_name\n",
    "    result[\"split\"] = split\n",
    "    result[\"seed\"] = seed\n",
    "\n",
    "    results.append(result)"
   ]
  },
  {
   "cell_type": "code",
   "execution_count": 146,
   "metadata": {},
   "outputs": [],
   "source": [
    "import pandas as pd\n",
    "\n",
    "df = pd.DataFrame(results)\n",
    "# df.model_trace.apply(pd.Series)\n",
    "df = pd.concat([df, df.model_trace.apply(pd.Series)], axis=1).drop(\n",
    "    \"model_trace\", axis=1\n",
    ")\n",
    "df = df[~df.example_id.isin(non_valid_ids)]\n",
    "\n",
    "df[\"name\"] = df[\"name\"].str.replace(\"_Meta-Llama-3.1-8B-Instruct\", \"\")\n",
    "df[\"name\"] = df[\"name\"].str.replace(\"_symb\", \"\")\n",
    "df[\"tools\"] = df[\"name\"].str.split(\"_\").str[-1]\n",
    "df[\"mode\"] = df[\"name\"].str.split(\"_\").str[0]"
   ]
  },
  {
   "cell_type": "code",
   "execution_count": 147,
   "metadata": {},
   "outputs": [
    {
     "data": {
      "text/plain": [
       "name\n",
       "act_move|smelt                               61.758259\n",
       "act_move|smelt|think                         96.632393\n",
       "act_move|smelt|think|search                  82.943473\n",
       "act_move|smelt|think|search|impossible       40.520209\n",
       "oracle                                        0.000000\n",
       "react_move|smelt                            126.184620\n",
       "react_move|smelt|think                      131.344576\n",
       "react_move|smelt|think|search               139.631777\n",
       "react_move|smelt|think|search|impossible     77.132472\n",
       "Name: tokens_used, dtype: float64"
      ]
     },
     "execution_count": 147,
     "metadata": {},
     "output_type": "execute_result"
    }
   ],
   "source": [
    "df.groupby([\"name\"]).tokens_used.sum() / 1000000 / 3 * 0.15"
   ]
  },
  {
   "cell_type": "markdown",
   "metadata": {},
   "source": [
    "### Results Table for Success"
   ]
  },
  {
   "cell_type": "code",
   "execution_count": 148,
   "metadata": {},
   "outputs": [
    {
     "name": "stdout",
     "output_type": "stream",
     "text": [
      "\\begin{tabular}{lllrrrrrr}\n",
      "\\toprule\n",
      "model & mode & tools & mixed & shaped & shapeless & smelting & overall & impossible \\\\\n",
      "\\midrule\n",
      "Llama 3.1 8B & act & move|smelt & 0.05 & 0.01 & 0.18 & 0.33 & 0.14 & 0.00 \\\\\n",
      "Llama 3.1 8B & act & move|smelt|think & 0.05 & 0.05 & 0.22 & 0.20 & 0.13 & 0.00 \\\\\n",
      "Llama 3.1 8B & act & move|smelt|think|search & 0.09 & 0.40 & 0.51 & 0.87 & 0.47 & 0.00 \\\\\n",
      "Llama 3.1 8B & act & move|smelt|think|search|impossible & 0.04 & 0.29 & 0.37 & 0.87 & 0.39 & 0.93 \\\\\n",
      "Llama 3.1 8B & oracle & oracle & 1.00 & 1.00 & 1.00 & 1.00 & 1.00 & 1.00 \\\\\n",
      "Llama 3.1 8B & react & move|smelt & 0.01 & 0.04 & 0.22 & 0.33 & 0.15 & 0.00 \\\\\n",
      "Llama 3.1 8B & react & move|smelt|think & 0.03 & 0.05 & 0.24 & 0.33 & 0.16 & 0.00 \\\\\n",
      "Llama 3.1 8B & react & move|smelt|think|search & 0.05 & 0.12 & 0.37 & 0.67 & 0.30 & 0.00 \\\\\n",
      "Llama 3.1 8B & react & move|smelt|think|search|impossible & 0.01 & 0.11 & 0.27 & 0.60 & 0.25 & 0.73 \\\\\n",
      "\\bottomrule\n",
      "\\end{tabular}\n",
      "\n"
     ]
    }
   ],
   "source": [
    "df_pivot = (\n",
    "    df.groupby([\"name\", \"recipe_type\"]).success.mean().unstack(level=1).reset_index()\n",
    ")\n",
    "df_pivot[\"overall\"] = df_pivot[[\"mixed\", \"shaped\", \"shapeless\", \"smelting\"]].mean(axis=1)\n",
    "\n",
    "df_pivot[\"tools\"] = df_pivot[\"name\"].str.split(\"_\").str[-1]\n",
    "df_pivot[\"mode\"] = df_pivot[\"name\"].str.split(\"_\").str[0]\n",
    "\n",
    "df_pivot[\"model\"] = \"Llama 3.1 8B\"\n",
    "print(df_pivot[[\"model\", \"mode\", \"tools\", \"mixed\", \"shaped\", \"shapeless\", \"smelting\", \"overall\", \"impossible\"]].to_latex(\n",
    "    index=False, float_format=\"%.2f\"\n",
    "))\n"
   ]
  },
  {
   "cell_type": "markdown",
   "metadata": {},
   "source": [
    "### Results Table for Plan Length"
   ]
  },
  {
   "cell_type": "code",
   "execution_count": 170,
   "metadata": {},
   "outputs": [],
   "source": [
    "id_to_steps = df[df[\"mode\"] == \"oracle\"][[\"example_id\", \"number_of_steps\"]].set_index(\"example_id\").to_dict()[\"number_of_steps\"]\n",
    "# calculate steps diff between oracle and model\n",
    "df[\"oracle_steps\"] = df[\"example_id\"].map(id_to_steps)\n",
    "df[\"steps_diff\"] = df[\"number_of_steps\"] - df[\"oracle_steps\"]\n",
    "df.loc[~df[\"success\"], \"steps_diff\"] = 10"
   ]
  },
  {
   "cell_type": "code",
   "execution_count": 172,
   "metadata": {},
   "outputs": [
    {
     "name": "stdout",
     "output_type": "stream",
     "text": [
      "\\begin{tabular}{lllrrrrrr}\n",
      "\\toprule\n",
      "model & mode & tools & mixed & shaped & shapeless & smelting & overall & impossible \\\\\n",
      "\\midrule\n",
      "Llama 3.1 8B & act & move|smelt & 9.47 & 9.94 & 8.53 & 7.33 & 8.82 & 10.00 \\\\\n",
      "Llama 3.1 8B & act & move|smelt|think & 9.48 & 9.50 & 8.14 & 8.40 & 8.88 & 10.00 \\\\\n",
      "Llama 3.1 8B & act & move|smelt|think|search & 9.16 & 5.98 & 5.02 & 2.00 & 5.54 & 10.00 \\\\\n",
      "Llama 3.1 8B & act & move|smelt|think|search|impossible & 9.61 & 7.05 & 6.24 & 1.80 & 6.18 & 3.03 \\\\\n",
      "Llama 3.1 8B & oracle & oracle & 0.00 & 0.00 & 0.00 & 0.00 & 0.00 & 0.00 \\\\\n",
      "Llama 3.1 8B & react & move|smelt & 9.87 & 9.67 & 8.08 & 7.33 & 8.74 & 10.00 \\\\\n",
      "Llama 3.1 8B & react & move|smelt|think & 9.75 & 9.47 & 7.88 & 7.27 & 8.59 & 10.00 \\\\\n",
      "Llama 3.1 8B & react & move|smelt|think|search & 9.49 & 8.86 & 6.49 & 4.27 & 7.28 & 10.00 \\\\\n",
      "Llama 3.1 8B & react & move|smelt|think|search|impossible & 9.87 & 8.91 & 7.25 & 4.53 & 7.64 & 4.55 \\\\\n",
      "\\bottomrule\n",
      "\\end{tabular}\n",
      "\n"
     ]
    }
   ],
   "source": [
    "df_pivot = (\n",
    "    df\n",
    "    .groupby([\"name\", \"recipe_type\"])\n",
    "    .steps_diff.mean()\n",
    "    .unstack(level=1)\n",
    "    .reset_index()\n",
    ")\n",
    "df_pivot[\"overall\"] = df_pivot[[\"mixed\", \"shaped\", \"shapeless\", \"smelting\"]].mean(axis=1)\n",
    "df_pivot[\"tools\"] = df_pivot[\"name\"].str.split(\"_\").str[-1]\n",
    "df_pivot[\"mode\"] = df_pivot[\"name\"].str.split(\"_\").str[0]\n",
    "df_pivot[\"model\"] = \"Llama 3.1 8B\"\n",
    "print(df_pivot[[\"model\", \"mode\", \"tools\", \"mixed\", \"shaped\", \"shapeless\", \"smelting\", \"overall\", \"impossible\"]].to_latex(\n",
    "    index=False, float_format=\"%.2f\"\n",
    "))\n"
   ]
  },
  {
   "cell_type": "markdown",
   "metadata": {},
   "source": [
    "### token used table"
   ]
  },
  {
   "cell_type": "code",
   "execution_count": 175,
   "metadata": {},
   "outputs": [
    {
     "name": "stdout",
     "output_type": "stream",
     "text": [
      "\\begin{tabular}{lllllllll}\n",
      "\\toprule\n",
      "model & mode & tools & mixed & shaped & shapeless & smelting & overall & impossible \\\\\n",
      "\\midrule\n",
      "Llama 3.1 8B & act & move|smelt & 4.0M & 3.4M & 3.3M & 2.7M & 3.3M & 4.9M \\\\\n",
      "Llama 3.1 8B & act & move|smelt|think & 6.2M & 5.3M & 5.1M & 4.2M & 5.2M & 7.7M \\\\\n",
      "Llama 3.1 8B & act & move|smelt|think|search & 5.3M & 4.4M & 4.3M & 3.7M & 4.4M & 6.9M \\\\\n",
      "Llama 3.1 8B & act & move|smelt|think|search|impossible & 2.6M & 2.2M & 2.1M & 1.8M & 2.2M & 3.4M \\\\\n",
      "Llama 3.1 8B & oracle & oracle & 0.0 & 0.0 & 0.0 & 0.0 & 0.0 & 0.0 \\\\\n",
      "Llama 3.1 8B & react & move|smelt & 8.1M & 6.9M & 6.7M & 5.4M & 6.8M & 10.1M \\\\\n",
      "Llama 3.1 8B & react & move|smelt|think & 8.5M & 7.1M & 6.9M & 5.6M & 7.0M & 10.5M \\\\\n",
      "Llama 3.1 8B & react & move|smelt|think|search & 8.9M & 7.6M & 7.4M & 6.1M & 7.5M & 11.3M \\\\\n",
      "Llama 3.1 8B & react & move|smelt|think|search|impossible & 5.0M & 4.1M & 4.1M & 3.3M & 4.1M & 6.3M \\\\\n",
      "\\bottomrule\n",
      "\\end{tabular}\n",
      "\n"
     ]
    }
   ],
   "source": [
    "def format_thousands(x):\n",
    "    if x >= 1_000_000:\n",
    "        return f\"{x/1_000_000:.1f}M\"\n",
    "    elif x >= 1_000:\n",
    "        return f\"{x/1_000:.1f}k\"\n",
    "    else:\n",
    "        return f\"{x}\"\n",
    "\n",
    "df_pivot = (\n",
    "    df\n",
    "    .groupby([\"name\", \"recipe_type\"])\n",
    "    .tokens_used.mean()\n",
    "    .unstack(level=1)\n",
    "    .reset_index()\n",
    ")\n",
    "\n",
    "df_pivot[\"overall\"] = df_pivot[[\"mixed\", \"shaped\", \"shapeless\", \"smelting\"]].mean(axis=1)\n",
    "df_pivot[\"tools\"] = df_pivot[\"name\"].str.split(\"_\").str[-1]\n",
    "df_pivot[\"mode\"] = df_pivot[\"name\"].str.split(\"_\").str[0]\n",
    "df_pivot[\"model\"] = \"Llama 3.1 8B\"\n",
    "# print(df_pivot[[\"model\", \"mode\", \"tools\", \"mixed\", \"shaped\", \"shapeless\", \"smelting\", \"overall\", \"impossible\"]].to_latex(\n",
    "#     index=False, float_format=\"%.0f\"\n",
    "# ))\n",
    "\n",
    "# Apply the formatting to the DataFrame before exporting to LaTeX\n",
    "formatted_df = df_pivot[\n",
    "    [\n",
    "        \"model\",\n",
    "        \"mode\",\n",
    "        \"tools\",\n",
    "        \"mixed\",\n",
    "        \"shaped\",\n",
    "        \"shapeless\",\n",
    "        \"smelting\",\n",
    "        \"overall\",\n",
    "        \"impossible\",\n",
    "    ]\n",
    "].copy()\n",
    "for col in [\"mixed\", \"shaped\", \"shapeless\", \"smelting\", \"overall\", \"impossible\"]:\n",
    "    formatted_df[col] = formatted_df[col].apply(format_thousands)\n",
    "\n",
    "# Export to LaTeX\n",
    "print(formatted_df.to_latex(index=False))\n"
   ]
  },
  {
   "cell_type": "code",
   "execution_count": 110,
   "metadata": {},
   "outputs": [
    {
     "data": {
      "image/png": "[encoded data removed]",
      "text/plain": [
       "<Figure size 2000x2000 with 1 Axes>"
      ]
     },
     "metadata": {},
     "output_type": "display_data"
    }
   ],
   "source": [
    "import seaborn as sns\n",
    "import matplotlib.pyplot as plt\n",
    "\n",
    "\n",
    "fig, ax = plt.subplots(figsize=(20, 20))\n",
    "sns.barplot(data=df, x=\"mode\", y=\"success\", hue=\"tools\")\n",
    "# rotate x labels\n",
    "# plt.xticks(rotation=45)\n",
    "plt.show()\n"
   ]
  }
 ],
 "metadata": {
  "kernelspec": {
   "display_name": "plancraft",
   "language": "python",
   "name": "python3"
  },
  "language_info": {
   "codemirror_mode": {
    "name": "ipython",
    "version": 3
   },
   "file_extension": ".py",
   "mimetype": "text/x-python",
   "name": "python",
   "nbconvert_exporter": "python",
   "pygments_lexer": "ipython3",
   "version": "3.10.12"
  }
 },
 "nbformat": 4,
 "nbformat_minor": 2
}
