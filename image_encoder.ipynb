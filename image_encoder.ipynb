{
 "cells": [
  {
   "cell_type": "code",
   "execution_count": 1,
   "metadata": {},
   "outputs": [
    {
     "name": "stderr",
     "output_type": "stream",
     "text": [
      "/usr/local/lib/python3.10/dist-packages/gym/wrappers/monitoring/video_recorder.py:9: DeprecationWarning: The distutils package is deprecated and slated for removal in Python 3.12. Use setuptools or check PEP 632 for potential alternatives\n",
      "  import distutils.spawn\n",
      "/usr/local/lib/python3.10/dist-packages/gym/wrappers/monitoring/video_recorder.py:9: DeprecationWarning: The distutils package is deprecated and slated for removal in Python 3.12. Use setuptools or check PEP 632 for potential alternatives\n",
      "  import distutils.spawn\n",
      "/usr/lib/python3.10/runpy.py:126: RuntimeWarning: 'minerl.utils.process_watcher' found in sys.modules after import of package 'minerl.utils', but prior to execution of 'minerl.utils.process_watcher'; this may result in unpredictable behaviour\n",
      "  warn(RuntimeWarning(msg))\n"
     ]
    }
   ],
   "source": [
    "from plancraft.environments.env_real import RealPlancraft\n",
    "\n",
    "env = RealPlancraft(\n",
    "    inventory=[{\"type\": \"dead_brain_coral_block\", \"slot\": 11, \"quantity\": 29}, \n",
    "            {\"type\": \"minecart\", \"slot\": 15, \"quantity\": 1}, \n",
    "            {\"type\": \"chainmail_helmet\", \"slot\": 19, \"quantity\": 1}, \n",
    "            {\"type\": \"tall_grass\", \"slot\": 26, \"quantity\": 16}, \n",
    "            {\"type\": \"tnt\", \"slot\": 27, \"quantity\": 1}, \n",
    "            {\"type\": \"warped_pressure_plate\", \"slot\": 39, \"quantity\": 38}],\n",
    "    symbolic_action_space=True,\n",
    "    symbolic_observation_space=True,\n",
    "    resolution=[512, 512],\n",
    "    crop=True,\n",
    ")\n",
    "data = []"
   ]
  },
  {
   "cell_type": "code",
   "execution_count": 2,
   "metadata": {},
   "outputs": [],
   "source": [
    "import json\n",
    "\n",
    "with open(\"data/train.json\", \"r\") as f:\n",
    "    train = json.load(f)\n",
    "\n",
    "seen_items = set()\n",
    "\n",
    "for example in train:\n",
    "    seen_items.update(example[\"inventory\"].keys())\n",
    "    seen_items.add(example[\"target\"])"
   ]
  },
  {
   "cell_type": "code",
   "execution_count": 104,
   "metadata": {},
   "outputs": [
    {
     "data": {
      "text/plain": [
       "[{'type': 'composter', 'slot': 1, 'quantity': 28},\n",
       " {'type': 'firework_rocket', 'slot': 3, 'quantity': 2},\n",
       " {'type': 'warped_nylium', 'slot': 4, 'quantity': 33},\n",
       " {'type': 'yellow_bed', 'slot': 8, 'quantity': 49},\n",
       " {'type': 'black_banner', 'slot': 9, 'quantity': 10},\n",
       " {'type': 'light_gray_concrete_powder', 'slot': 11, 'quantity': 60},\n",
       " {'type': 'dead_fire_coral', 'slot': 17, 'quantity': 7},\n",
       " {'type': 'end_stone', 'slot': 18, 'quantity': 27},\n",
       " {'type': 'purple_stained_glass_pane', 'slot': 19, 'quantity': 63},\n",
       " {'type': 'stray_spawn_egg', 'slot': 20, 'quantity': 6},\n",
       " {'type': 'fletching_table', 'slot': 22, 'quantity': 46},\n",
       " {'type': 'dispenser', 'slot': 23, 'quantity': 30},\n",
       " {'type': 'white_stained_glass', 'slot': 25, 'quantity': 12},\n",
       " {'type': 'suspicious_stew', 'slot': 27, 'quantity': 17},\n",
       " {'type': 'chiseled_polished_blackstone', 'slot': 30, 'quantity': 34},\n",
       " {'type': 'netherite_ingot', 'slot': 31, 'quantity': 15},\n",
       " {'type': 'sunflower', 'slot': 32, 'quantity': 55},\n",
       " {'type': 'jungle_slab', 'slot': 34, 'quantity': 21},\n",
       " {'type': 'skeleton_skull', 'slot': 36, 'quantity': 17},\n",
       " {'type': 'iron_block', 'slot': 37, 'quantity': 25},\n",
       " {'type': 'blue_glazed_terracotta', 'slot': 39, 'quantity': 2},\n",
       " {'type': 'nether_brick_wall', 'slot': 40, 'quantity': 30},\n",
       " {'type': 'grass', 'slot': 42, 'quantity': 57},\n",
       " {'type': 'warped_wart_block', 'slot': 43, 'quantity': 37}]"
      ]
     },
     "execution_count": 104,
     "metadata": {},
     "output_type": "execute_result"
    }
   ],
   "source": [
    "import random\n",
    "\n",
    "def slot_to_bbox(slot: int):\n",
    "    # crafting slot\n",
    "    if slot == 0:\n",
    "        # slot size: 25x25\n",
    "        # top left corner: (x= 118, y=30)\n",
    "        box_size = 25\n",
    "        left_x = 117\n",
    "        top_y = 29\n",
    "    # crafting grid\n",
    "    elif slot < 10:\n",
    "        # slot size: 18x18\n",
    "        # top left corner: (x = 28 + 18 * col, y = 16 + 18 * row)\n",
    "        box_size = 18\n",
    "        row = (slot - 1) // 3\n",
    "        col = (slot - 1) % 3\n",
    "        left_x = 27 + (box_size * col)\n",
    "        top_y = 15 + (box_size * row)\n",
    "    # inventory\n",
    "    elif slot < 37:\n",
    "        # slot size: 18x18\n",
    "        # top left corner: (x= 6 + 18 * col, y=83 + 18 * row)\n",
    "        box_size = 18\n",
    "        row = (slot - 10) // 9\n",
    "        col = (slot - 10) % 9\n",
    "        left_x = 5 + (box_size * col)\n",
    "        top_y = 82 + (box_size * row)\n",
    "    # hotbar\n",
    "    else:\n",
    "        # slot size: 18x18\n",
    "        # top left corner: (x= 6 + 18 * col, y=141)\n",
    "        box_size = 18\n",
    "        col = (slot - 37) % 9\n",
    "        left_x = 5 + (box_size * col)\n",
    "        top_y = 140\n",
    "    return [left_x, top_y, left_x + box_size, top_y + box_size]\n",
    "\n",
    "\n",
    "def sample_starting_inv():\n",
    "    inventory = []\n",
    "    # random number of items\n",
    "    selected_slots = random.sample(range(1, 45), random.randint(1, 44))\n",
    "    for slot in selected_slots:\n",
    "        inventory.append(\n",
    "            {\n",
    "                \"type\": random.choice(list(seen_items)),\n",
    "                \"slot\": slot,\n",
    "                \"quantity\": random.randint(1, 64),\n",
    "            }\n",
    "        )\n",
    "    # sort by slot\n",
    "    inventory = sorted(inventory, key=lambda x: x[\"slot\"])\n",
    "    return inventory\n",
    "\n",
    "sample_starting_inv()"
   ]
  },
  {
   "cell_type": "code",
   "execution_count": 119,
   "metadata": {},
   "outputs": [
    {
     "name": "stderr",
     "output_type": "stream",
     "text": [
      "/usr/local/lib/python3.10/dist-packages/torchvision/models/_utils.py:208: UserWarning: The parameter 'pretrained' is deprecated since 0.13 and may be removed in the future, please use 'weights' instead.\n",
      "  warnings.warn(\n",
      "/usr/local/lib/python3.10/dist-packages/torchvision/models/_utils.py:223: UserWarning: Arguments other than a weight enum or `None` for 'weights' are deprecated since 0.13 and may be removed in the future. The current behavior is equivalent to passing `weights=FasterRCNN_ResNet50_FPN_Weights.COCO_V1`. You can also use `weights=FasterRCNN_ResNet50_FPN_Weights.DEFAULT` to get the most up-to-date weights.\n",
      "  warnings.warn(msg)\n"
     ]
    }
   ],
   "source": [
    "import torch\n",
    "import torchvision\n",
    "from torchvision.models.detection.faster_rcnn import FastRCNNPredictor\n",
    "\n",
    "model = torchvision.models.detection.fasterrcnn_resnet50_fpn(pretrained=True)\n",
    "in_features = model.roi_heads.box_predictor.cls_score.in_features\n",
    "model.roi_heads.box_predictor = FastRCNNPredictor(in_features, 64)\n",
    "model = model.cuda()"
   ]
  },
  {
   "cell_type": "code",
   "execution_count": 120,
   "metadata": {},
   "outputs": [
    {
     "name": "stderr",
     "output_type": "stream",
     "text": [
      " 10%|▉         | 966/10000 [01:25<13:38, 11.04it/s]"
     ]
    }
   ],
   "source": [
    "from tqdm import tqdm\n",
    "\n",
    "data = []\n",
    "for i in tqdm(range(10000)):\n",
    "    starting_inv = sample_starting_inv()\n",
    "    env.fast_reset(new_inventory=starting_inv)\n",
    "    obs, _, _, _ = env.step(env.action_space.no_op())\n",
    "    # clean up inventory\n",
    "    clean_inv = []\n",
    "    for item in starting_inv:\n",
    "        if item[\"quantity\"] > 0:\n",
    "            clean_inv.append(\n",
    "                {\n",
    "                    \"type\": item[\"type\"],\n",
    "                    \"index\": item[\"slot\"],\n",
    "                    \"quantity\": item[\"quantity\"],\n",
    "                    \"bbox\": slot_to_bbox(item[\"slot\"]),\n",
    "                }\n",
    "            )\n",
    "    obs[\"inventory\"] = clean_inv\n",
    "    data.append(obs)"
   ]
  },
  {
   "cell_type": "code",
   "execution_count": 110,
   "metadata": {},
   "outputs": [
    {
     "data": {
      "image/jpeg": "[encoded data removed]",
      "image/png": "[encoded data removed]",
      "text/plain": [
       "<PIL.Image.Image image mode=RGB size=171x164>"
      ]
     },
     "metadata": {},
     "output_type": "display_data"
    },
    {
     "data": {
      "image/jpeg": "[encoded data removed]",
      "image/png": "[encoded data removed]",
      "text/plain": [
       "<PIL.Image.Image image mode=RGB size=171x164>"
      ]
     },
     "metadata": {},
     "output_type": "display_data"
    },
    {
     "data": {
      "image/jpeg": "[encoded data removed]",
      "image/png": "[encoded data removed]",
      "text/plain": [
       "<PIL.Image.Image image mode=RGB size=171x164>"
      ]
     },
     "metadata": {},
     "output_type": "display_data"
    },
    {
     "data": {
      "image/jpeg": "[encoded data removed]",
      "image/png": "[encoded data removed]",
      "text/plain": [
       "<PIL.Image.Image image mode=RGB size=171x164>"
      ]
     },
     "metadata": {},
     "output_type": "display_data"
    }
   ],
   "source": [
    "from PIL import Image, ImageDraw\n",
    "\n",
    "for i in range(4):\n",
    "    img = Image.fromarray(data[i][\"pov\"])\n",
    "    for item in data[i][\"inventory\"]:\n",
    "        draw = ImageDraw.Draw(img)\n",
    "        draw.rectangle(item[\"bbox\"], outline=\"red\")\n",
    "    img.show()"
   ]
  },
  {
   "cell_type": "code",
   "execution_count": 111,
   "metadata": {},
   "outputs": [],
   "source": [
    "import torch\n",
    "from torch.utils.data import Dataset\n",
    "from torchvision import transforms\n",
    "\n",
    "class InventoryDataset(Dataset):\n",
    "    def __init__(self, data):\n",
    "        self.data = data\n",
    "        self.transform = transforms.Compose(\n",
    "            [\n",
    "                transforms.ToTensor(),\n",
    "            ]\n",
    "        )\n",
    "\n",
    "    def __len__(self):\n",
    "        return len(self.data)\n",
    "    \n",
    "    def __getitem__(self, idx):\n",
    "        img = self.transform(self.data[idx][\"pov\"].copy())\n",
    "        target = {\n",
    "            \"labels\": [],\n",
    "            \"boxes\": []\n",
    "        }\n",
    "\n",
    "        for i in self.data[idx][\"inventory\"]:\n",
    "            target[\"labels\"].append(i[\"quantity\"])\n",
    "            target[\"boxes\"].append(i[\"bbox\"])\n",
    "        \n",
    "        target[\"labels\"] = torch.tensor(target[\"labels\"], dtype=torch.int64)-1\n",
    "        target[\"boxes\"] = torch.tensor(target[\"boxes\"], dtype=torch.int64)\n",
    "        \n",
    "        return img, target\n",
    "    \n",
    "N = len(data)\n",
    "train_dataset = InventoryDataset(data[:int(N*0.9)])\n",
    "val_dataset = InventoryDataset(data[int(N*0.9):])"
   ]
  },
  {
   "cell_type": "code",
   "execution_count": 113,
   "metadata": {},
   "outputs": [],
   "source": [
    "import wandb\n",
    "wandb.require(\"core\")"
   ]
  },
  {
   "cell_type": "code",
   "execution_count": 115,
   "metadata": {},
   "outputs": [
    {
     "name": "stderr",
     "output_type": "stream",
     "text": [
      "/usr/local/lib/python3.10/dist-packages/wandb/sdk/lib/ipython.py:77: DeprecationWarning: Importing display from IPython.core.display is deprecated since IPython 7.14, please import from IPython display\n",
      "  from IPython.core.display import HTML, display  # type: ignore\n"
     ]
    },
    {
     "data": {
      "text/html": [
       "Changes to your `wandb` environment variables will be ignored because your `wandb` session has already started. For more information on how to modify your settings with `wandb.init()` arguments, please refer to <a href='https://wandb.me/wandb-init' target=\"_blank\">the W&B docs</a>."
      ],
      "text/plain": [
       "<IPython.core.display.HTML object>"
      ]
     },
     "metadata": {},
     "output_type": "display_data"
    },
    {
     "data": {
      "text/html": [
       "Finishing last run (ID:z891oxum) before initializing another..."
      ],
      "text/plain": [
       "<IPython.core.display.HTML object>"
      ]
     },
     "metadata": {},
     "output_type": "display_data"
    },
    {
     "data": {
      "text/html": [
       "<style>\n",
       "    table.wandb td:nth-child(1) { padding: 0 10px; text-align: left ; width: auto;} td:nth-child(2) {text-align: left ; width: 100%}\n",
       "    .wandb-row { display: flex; flex-direction: row; flex-wrap: wrap; justify-content: flex-start; width: 100% }\n",
       "    .wandb-col { display: flex; flex-direction: column; flex-basis: 100%; flex: 1; padding: 10px; }\n",
       "    </style>\n",
       "<div class=\"wandb-row\"><div class=\"wandb-col\"><h3>Run history:</h3><br/><table class=\"wandb\"><tr><td>loss_box_reg</td><td>▁▁▁▁▁▁▁▁▁▁▁▁▁▁▁▁▁▁▁▁▁▁▁▁▁▁▁▁▁▁▁▁▁▁▁▁▁▂▆█</td></tr><tr><td>loss_classifier</td><td>▆▆▄▅▇▇▃▂▆▅▇▇▆▆▆▇▆▇▇▇▇▆▂▇▁▃▄▄▂▄▅▂▂▃▄▅▇▇██</td></tr><tr><td>loss_objectness</td><td>█▁▁▁▁▁▁▁▁▁▁▁▁▁▁▁▁▁▁▁▁▁▁▁▁▁▁▁▁▁▁▁▁▁▁▃▁▁▁▁</td></tr><tr><td>loss_rpn_box_reg</td><td>█▂▁▁▁▁▁▁▁▁▁▁▁▁▁▁▁▁▁▁▁▁▁▁▁▃▁▁▁▁▂▁▁▄▂▄▅▂▂▄</td></tr></table><br/></div><div class=\"wandb-col\"><h3>Run summary:</h3><br/><table class=\"wandb\"><tr><td>loss_box_reg</td><td>0.01483</td></tr><tr><td>loss_classifier</td><td>4.17369</td></tr><tr><td>loss_objectness</td><td>1.98759</td></tr><tr><td>loss_rpn_box_reg</td><td>7051.3916</td></tr></table><br/></div></div>"
      ],
      "text/plain": [
       "<IPython.core.display.HTML object>"
      ]
     },
     "metadata": {},
     "output_type": "display_data"
    },
    {
     "data": {
      "text/html": [
       " View run <strong style=\"color:#cdcd00\">desert-wood-5</strong> at: <a href='https://wandb.ai/itl/plancraft-img-encoder/runs/z891oxum' target=\"_blank\">https://wandb.ai/itl/plancraft-img-encoder/runs/z891oxum</a><br/> View project at: <a href='https://wandb.ai/itl/plancraft-img-encoder' target=\"_blank\">https://wandb.ai/itl/plancraft-img-encoder</a><br/>Synced 6 W&B file(s), 0 media file(s), 0 artifact file(s) and 1 other file(s)"
      ],
      "text/plain": [
       "<IPython.core.display.HTML object>"
      ]
     },
     "metadata": {},
     "output_type": "display_data"
    },
    {
     "data": {
      "text/html": [
       "Find logs at: <code>./wandb/run-20240814_164558-z891oxum/logs</code>"
      ],
      "text/plain": [
       "<IPython.core.display.HTML object>"
      ]
     },
     "metadata": {},
     "output_type": "display_data"
    },
    {
     "data": {
      "text/html": [
       "The new W&B backend becomes opt-out in version 0.18.0; try it out with `wandb.require(\"core\")`! See https://wandb.me/wandb-core for more information."
      ],
      "text/plain": [
       "<IPython.core.display.HTML object>"
      ]
     },
     "metadata": {},
     "output_type": "display_data"
    },
    {
     "data": {
      "text/html": [
       "Successfully finished last run (ID:z891oxum). Initializing new run:<br/>"
      ],
      "text/plain": [
       "<IPython.core.display.HTML object>"
      ]
     },
     "metadata": {},
     "output_type": "display_data"
    },
    {
     "name": "stderr",
     "output_type": "stream",
     "text": [
      "/usr/local/lib/python3.10/dist-packages/wandb/sdk/lib/ipython.py:77: DeprecationWarning: Importing display from IPython.core.display is deprecated since IPython 7.14, please import from IPython display\n",
      "  from IPython.core.display import HTML, display  # type: ignore\n"
     ]
    },
    {
     "data": {
      "text/html": [
       "wandb version 0.17.6 is available!  To upgrade, please run:\n",
       " $ pip install wandb --upgrade"
      ],
      "text/plain": [
       "<IPython.core.display.HTML object>"
      ]
     },
     "metadata": {},
     "output_type": "display_data"
    },
    {
     "data": {
      "text/html": [
       "Tracking run with wandb version 0.17.5"
      ],
      "text/plain": [
       "<IPython.core.display.HTML object>"
      ]
     },
     "metadata": {},
     "output_type": "display_data"
    },
    {
     "data": {
      "text/html": [
       "Run data is saved locally in <code>/plancraft/wandb/run-20240814_164718-axxkigfp</code>"
      ],
      "text/plain": [
       "<IPython.core.display.HTML object>"
      ]
     },
     "metadata": {},
     "output_type": "display_data"
    },
    {
     "data": {
      "text/html": [
       "Syncing run <strong><a href='https://wandb.ai/itl/plancraft-img-encoder/runs/axxkigfp' target=\"_blank\">wandering-tree-6</a></strong> to <a href='https://wandb.ai/itl/plancraft-img-encoder' target=\"_blank\">Weights & Biases</a> (<a href='https://wandb.me/run' target=\"_blank\">docs</a>)<br/>"
      ],
      "text/plain": [
       "<IPython.core.display.HTML object>"
      ]
     },
     "metadata": {},
     "output_type": "display_data"
    },
    {
     "data": {
      "text/html": [
       " View project at <a href='https://wandb.ai/itl/plancraft-img-encoder' target=\"_blank\">https://wandb.ai/itl/plancraft-img-encoder</a>"
      ],
      "text/plain": [
       "<IPython.core.display.HTML object>"
      ]
     },
     "metadata": {},
     "output_type": "display_data"
    },
    {
     "data": {
      "text/html": [
       " View run at <a href='https://wandb.ai/itl/plancraft-img-encoder/runs/axxkigfp' target=\"_blank\">https://wandb.ai/itl/plancraft-img-encoder/runs/axxkigfp</a>"
      ],
      "text/plain": [
       "<IPython.core.display.HTML object>"
      ]
     },
     "metadata": {},
     "output_type": "display_data"
    },
    {
     "ename": "AttributeError",
     "evalue": "'list' object has no attribute 'items'",
     "output_type": "error",
     "traceback": [
      "\u001b[0;31m---------------------------------------------------------------------------\u001b[0m",
      "\u001b[0;31mAttributeError\u001b[0m                            Traceback (most recent call last)",
      "Cell \u001b[0;32mIn[115], line 48\u001b[0m\n\u001b[1;32m     45\u001b[0m loss_dict \u001b[38;5;241m=\u001b[39m model(imgs, labels)\n\u001b[1;32m     47\u001b[0m val_loss_dict \u001b[38;5;241m=\u001b[39m {}\n\u001b[0;32m---> 48\u001b[0m \u001b[38;5;28;01mfor\u001b[39;00m k, v \u001b[38;5;129;01min\u001b[39;00m \u001b[43mloss_dict\u001b[49m\u001b[38;5;241;43m.\u001b[39;49m\u001b[43mitems\u001b[49m():\n\u001b[1;32m     49\u001b[0m     val_loss_dict[\u001b[38;5;124mf\u001b[39m\u001b[38;5;124m\"\u001b[39m\u001b[38;5;124mval_\u001b[39m\u001b[38;5;132;01m{\u001b[39;00mk\u001b[38;5;132;01m}\u001b[39;00m\u001b[38;5;124m\"\u001b[39m] \u001b[38;5;241m=\u001b[39m v\u001b[38;5;241m.\u001b[39mitem()\n\u001b[1;32m     50\u001b[0m wandb\u001b[38;5;241m.\u001b[39mlog(val_loss_dict)\n",
      "\u001b[0;31mAttributeError\u001b[0m: 'list' object has no attribute 'items'"
     ]
    }
   ],
   "source": [
    "import wandb\n",
    "from torch.utils.data import DataLoader\n",
    "\n",
    "num_epochs = 10\n",
    "batch_size = 2\n",
    "lr = 0.005\n",
    "\n",
    "def collate_fn(batch):\n",
    "    image_stack = []\n",
    "    target_stack = []\n",
    "    for img, target in batch:\n",
    "        image_stack.append(img)\n",
    "        target_stack.append(target)\n",
    "    return torch.stack(image_stack), target_stack\n",
    "\n",
    "\n",
    "train_loader = DataLoader(train_dataset, batch_size=batch_size, shuffle=True, num_workers=1, collate_fn=collate_fn)\n",
    "val_loader = DataLoader(val_dataset, batch_size=batch_size, shuffle=False, num_workers=1, collate_fn=collate_fn)\n",
    "\n",
    "optimizer = torch.optim.AdamW(model.parameters(), lr=lr)\n",
    "\n",
    "wandb.init(project=\"plancraft-img-encoder\", entity=\"itl\")\n",
    "\n",
    "batch_num = 1\n",
    "for epoch in range(num_epochs):\n",
    "    model.train()\n",
    "    for imgs, labels in train_loader:\n",
    "        imgs = imgs.cuda()\n",
    "        for i in range(len(labels)):\n",
    "            labels[i][\"boxes\"] = labels[i][\"boxes\"].cuda()\n",
    "            labels[i][\"labels\"] = labels[i][\"labels\"].cuda()\n",
    "        loss_dict = model(imgs, labels)\n",
    "        wandb.log(loss_dict)\n",
    "        losses = sum(loss for loss in loss_dict.values())\n",
    "        optimizer.zero_grad()\n",
    "        losses.backward()\n",
    "        optimizer.step()\n",
    "        batch_num += 1\n",
    "        if batch_num % 100 == 0:\n",
    "            print(f\"Epoch {epoch}, Batch {batch_num}, Loss: {losses}\")\n",
    "\n",
    "    # model.eval()\n",
    "    # with torch.no_grad():\n",
    "    #     for imgs, labels in val_loader:\n",
    "    #         imgs = imgs.cuda()\n",
    "    #         for i in range(len(labels)):\n",
    "    #             labels[i][\"boxes\"] = labels[i][\"boxes\"].cuda()\n",
    "    #             labels[i][\"labels\"] = labels[i][\"labels\"].cuda()\n",
    "\n",
    "    #         loss_dict = model(imgs, labels)\n",
    "\n",
    "    #         val_loss_dict = {}\n",
    "    #         for k, v in loss_dict.items():\n",
    "    #             val_loss_dict[f\"val_{k}\"] = v.item()\n",
    "    #         wandb.log(val_loss_dict)\n",
    "\n",
    "    #         losses = sum(loss for loss in loss_dict.values())\n",
    "    # print(f\"Epoch {epoch}, Loss: {losses}\")\n",
    "\n",
    "wandb.finish()"
   ]
  },
  {
   "cell_type": "code",
   "execution_count": 118,
   "metadata": {},
   "outputs": [
    {
     "data": {
      "text/plain": [
       "[{'boxes': tensor([], device='cuda:0', size=(0, 4)),\n",
       "  'labels': tensor([], device='cuda:0', dtype=torch.int64),\n",
       "  'scores': tensor([], device='cuda:0')},\n",
       " {'boxes': tensor([], device='cuda:0', size=(0, 4)),\n",
       "  'labels': tensor([], device='cuda:0', dtype=torch.int64),\n",
       "  'scores': tensor([], device='cuda:0')}]"
      ]
     },
     "execution_count": 118,
     "metadata": {},
     "output_type": "execute_result"
    }
   ],
   "source": [
    "loss_dict"
   ]
  },
  {
   "cell_type": "code",
   "execution_count": 28,
   "metadata": {},
   "outputs": [],
   "source": [
    "model.eval()\n",
    "with torch.no_grad():\n",
    "    predictions = model(img.unsqueeze(0))  "
   ]
  },
  {
   "cell_type": "code",
   "execution_count": 29,
   "metadata": {},
   "outputs": [
    {
     "data": {
      "image/jpeg": "[encoded data removed]",
      "image/png": "[encoded data removed]",
      "text/plain": [
       "<PIL.Image.Image image mode=RGB size=171x164>"
      ]
     },
     "metadata": {},
     "output_type": "display_data"
    }
   ],
   "source": [
    "from PIL import Image, ImageDraw\n",
    "predictions[0][\"boxes\"]\n",
    "\n",
    "img = Image.fromarray(data[-1][\"pov\"])\n",
    "for item in data[-1][\"inventory\"]:\n",
    "    draw = ImageDraw.Draw(img)\n",
    "    draw.rectangle(item[\"bbox\"], outline=\"red\")\n",
    "\n",
    "for box in predictions[0][\"boxes\"]:\n",
    "    draw = ImageDraw.Draw(img)\n",
    "    draw.rectangle([box[0].item(), box[1].item(), box[2].item(), box[3].item()], outline=\"blue\")\n",
    "img.show()"
   ]
  },
  {
   "cell_type": "code",
   "execution_count": 13,
   "metadata": {},
   "outputs": [],
   "source": [
    "losses = sum(loss for loss in loss_dict.values())"
   ]
  },
  {
   "cell_type": "code",
   "execution_count": 55,
   "metadata": {},
   "outputs": [
    {
     "data": {
      "text/plain": [
       "tensor([1])"
      ]
     },
     "execution_count": 55,
     "metadata": {},
     "output_type": "execute_result"
    }
   ],
   "source": [
    "# data[0][\"pov\"]\n",
    "torch.tensor([1])"
   ]
  },
  {
   "cell_type": "code",
   "execution_count": 24,
   "metadata": {},
   "outputs": [
    {
     "data": {
      "text/plain": [
       "1"
      ]
     },
     "execution_count": 24,
     "metadata": {},
     "output_type": "execute_result"
    }
   ],
   "source": [
    "\n",
    "\n",
    "\n"
   ]
  },
  {
   "cell_type": "code",
   "execution_count": 28,
   "metadata": {},
   "outputs": [],
   "source": []
  },
  {
   "cell_type": "code",
   "execution_count": 33,
   "metadata": {},
   "outputs": [
    {
     "name": "stdout",
     "output_type": "stream",
     "text": [
      "Help on method forward in module torchvision.models.detection.generalized_rcnn:\n",
      "\n",
      "forward(images, targets=None) method of torchvision.models.detection.faster_rcnn.FasterRCNN instance\n",
      "    Args:\n",
      "        images (list[Tensor]): images to be processed\n",
      "        targets (list[Dict[str, Tensor]]): ground-truth boxes present in the image (optional)\n",
      "    \n",
      "    Returns:\n",
      "        result (list[BoxList] or dict[Tensor]): the output from the model.\n",
      "            During training, it returns a dict[Tensor] which contains the losses.\n",
      "            During testing, it returns list[BoxList] contains additional fields\n",
      "            like `scores`, `labels` and `mask` (for Mask R-CNN models).\n",
      "\n"
     ]
    }
   ],
   "source": [
    "help(model.forward)"
   ]
  },
  {
   "cell_type": "code",
   "execution_count": 89,
   "metadata": {},
   "outputs": [
    {
     "name": "stdout",
     "output_type": "stream",
     "text": [
      "/plancraft/outputs/oracle_real/train/0/TRAIN0157.json\n",
      "/plancraft/outputs/oracle_real/train/0/TRAIN0071.json\n"
     ]
    }
   ],
   "source": [
    "import glob\n",
    "import numpy as np\n",
    "from PIL import Image, ImageSequence\n",
    "\n",
    "observed_data = []\n",
    "\n",
    "for f in glob.glob(\"/plancraft/outputs/oracle_real/train/0/*.json\"):\n",
    "    with open(f, \"r\") as file:\n",
    "        inventories = json.load(file)[\"model_trace\"][\"inventory_history\"]\n",
    "    gif_path = str(f).replace(\".json\", \".gif\")\n",
    "    # load gif as list of images\n",
    "    gif = Image.open(gif_path)\n",
    "    frames = [frame.copy() for frame in ImageSequence.Iterator(gif)]\n",
    "    if len(frames) != len(inventories):\n",
    "        print(f)\n",
    "    else:\n",
    "        for frame, inv in zip(frames, inventories):\n",
    "            clean_inv = []\n",
    "            for item in inv:\n",
    "                if item[\"quantity\"] > 0:\n",
    "                    clean_inv.append(\n",
    "                        {\n",
    "                            \"type\": item[\"type\"],\n",
    "                            \"slot\": item[\"index\"],\n",
    "                            \"quantity\": item[\"quantity\"],\n",
    "                            \"bbox\": slot_to_bbox(item[\"index\"]),\n",
    "                        }\n",
    "                    )\n",
    "            observed_data.append(\n",
    "                {\"inventory\": clean_inv, \"pov\": np.array(frame.convert(\"RGB\"))}\n",
    "            )\n",
    "    # assert len(frames) == len(inv), (len(frames), len(inv))"
   ]
  },
  {
   "cell_type": "code",
   "execution_count": 125,
   "metadata": {},
   "outputs": [],
   "source": [
    "import torch\n",
    "from torch.utils.data import Dataset\n",
    "import torchvision.transforms as transforms\n",
    "\n",
    "\n",
    "class InventoryDataset(Dataset):\n",
    "    def __init__(self, data):\n",
    "        self.data = data\n",
    "        self.transform = transforms.Compose(\n",
    "            [\n",
    "                transforms.ToTensor(),\n",
    "                transforms.Resize((224, 224)),  # Resize images to 224x224\n",
    "            ]\n",
    "        )\n",
    "\n",
    "    def __len__(self):\n",
    "        return len(self.data)\n",
    "\n",
    "    def __getitem__(self, idx):\n",
    "        item = self.data[idx]\n",
    "        pov = item[\"pov\"]\n",
    "        pov = self.transform(pov)\n",
    "\n",
    "        inventory = item[\"inventory\"]\n",
    "        types = [i[\"type\"] for i in inventory]\n",
    "        slots = [i[\"slot\"] for i in inventory]\n",
    "        quantities = [i[\"quantity\"] for i in inventory]\n",
    "        bboxes = [i[\"bbox\"] for i in inventory]\n",
    "\n",
    "        return pov, types, slots, quantities, bboxes\n",
    "\n",
    "\n",
    "def collate_fn(batch):\n",
    "    return tuple(zip(*batch))\n",
    "\n",
    "dataset = InventoryDataset(observed_data)\n",
    "train_loader = torch.utils.data.DataLoader(\n",
    "    dataset, batch_size=32, shuffle=True, collate_fn=collate_fn\n",
    ")\n",
    "batch = next(iter(train_loader))"
   ]
  },
  {
   "cell_type": "code",
   "execution_count": 135,
   "metadata": {},
   "outputs": [
    {
     "name": "stderr",
     "output_type": "stream",
     "text": [
      "/usr/local/lib/python3.10/dist-packages/torchvision/models/_utils.py:208: UserWarning: The parameter 'pretrained' is deprecated since 0.13 and may be removed in the future, please use 'weights' instead.\n",
      "  warnings.warn(\n",
      "/usr/local/lib/python3.10/dist-packages/torchvision/models/_utils.py:223: UserWarning: Arguments other than a weight enum or `None` for 'weights' are deprecated since 0.13 and may be removed in the future. The current behavior is equivalent to passing `weights=ResNet18_Weights.IMAGENET1K_V1`. You can also use `weights=ResNet18_Weights.DEFAULT` to get the most up-to-date weights.\n",
      "  warnings.warn(msg)\n"
     ]
    },
    {
     "name": "stdout",
     "output_type": "stream",
     "text": [
      "Model has 11M parameters\n"
     ]
    }
   ],
   "source": [
    "import torch.nn as nn\n",
    "import torchvision.models as models\n",
    "\n",
    "class InventoryModel(nn.Module):\n",
    "    def __init__(self, num_types, num_slots):\n",
    "        super(InventoryModel, self).__init__()\n",
    "        self.backbone = models.resnet18(pretrained=True)\n",
    "        self.backbone.fc = nn.Identity()  # Remove the classification layer\n",
    "\n",
    "        # Bounding box head\n",
    "        self.bbox_head = nn.Sequential(\n",
    "            nn.Linear(512, 128),\n",
    "            nn.ReLU(),\n",
    "            nn.Linear(128, 4),  # 4 coordinates for the bounding box\n",
    "        )\n",
    "\n",
    "        # Slot index prediction head\n",
    "        self.slot_head = nn.Sequential(\n",
    "            nn.Linear(512, 128), nn.ReLU(), nn.Linear(128, num_slots), nn.Softmax(dim=1)\n",
    "        )\n",
    "\n",
    "        # Quantity prediction head\n",
    "        self.quantity_head = nn.Sequential(\n",
    "            nn.Linear(512, 128),\n",
    "            nn.ReLU(),\n",
    "            nn.Linear(128, 64),\n",
    "            nn.Softmax(dim=1), \n",
    "        )\n",
    "\n",
    "    def count_parameters(self):\n",
    "        return sum(p.numel() for p in self.parameters() if p.requires_grad) // 1000000\n",
    "\n",
    "    def forward(self, x):\n",
    "        features = self.backbone(x)\n",
    "        bbox = self.bbox_head(features)\n",
    "        # types = self.type_head(features)\n",
    "        slots = self.slot_head(features)\n",
    "        quantity = self.quantity_head(features)\n",
    "        return bbox, slots, quantity\n",
    "\n",
    "\n",
    "# Example usage\n",
    "model = InventoryModel(num_types=100, num_slots=45)  # Replace with actual numbers\n",
    "model = model.cuda()\n",
    "# Count number of parameters\n",
    "print(f\"Model has {model.count_parameters()}M parameters\")"
   ]
  },
  {
   "cell_type": "markdown",
   "metadata": {},
   "source": [
    "# Get oracle O,A Dialogues"
   ]
  },
  {
   "cell_type": "code",
   "execution_count": 1,
   "metadata": {},
   "outputs": [],
   "source": [
    "import json\n",
    "import glob\n",
    "import numpy as np\n",
    "from PIL import Image, ImageSequence\n",
    "\n",
    "oracle_trajectories_train = []\n",
    "oracle_results = {\n",
    "    \"/plancraft/outputs/oracle_real/train/0/*.json\": [],\n",
    "    \"/plancraft/outputs/oracle_real/val/0/*.json\": [],\n",
    "}\n",
    "for path in oracle_results.keys():\n",
    "    for f in glob.glob(path):\n",
    "        with open(f, \"r\") as file:\n",
    "            traj = json.load(file)\n",
    "\n",
    "        images = []\n",
    "        gif_path = str(f).replace(\".json\", \".gif\")\n",
    "        gif = Image.open(gif_path)\n",
    "        for frame in ImageSequence.Iterator(gif):\n",
    "            images.append(np.array(frame.convert(\"RGB\")))\n",
    "        traj[\"model_trace\"][\"images\"] = images\n",
    "\n",
    "        if (\n",
    "            len(traj[\"model_trace\"][\"images\"])\n",
    "            == len(traj[\"model_trace\"][\"inventory_history\"])\n",
    "            == len(traj[\"model_trace\"][\"action_history\"])\n",
    "        ):\n",
    "            oracle_results[path].append(traj)\n",
    "        else:\n",
    "            print(f)"
   ]
  },
  {
   "cell_type": "code",
   "execution_count": 26,
   "metadata": {},
   "outputs": [],
   "source": [
    "import os\n",
    "from plancraft.models.react_prompts import REACT_SYSTEM_PROMPT\n",
    "from collections import defaultdict\n",
    "\n",
    "\n",
    "def convert_obs_to_text(objective: str, inventory: list[dict]):\n",
    "    return f\"TASK: {objective}\\ninventory={json.dumps(inventory)}\"\n",
    "\n",
    "\n",
    "def convert_action_to_text(action: dict):\n",
    "    # {'action_type': 'move', 'slot_from': 17, 'slot_to': 1, 'quantity': 1}\n",
    "    return f\"act: {action['action_type']} from slot {action['slot_from']} to slot {action['slot_to']} with quantity {action['quantity']}\"\n",
    "\n",
    "\n",
    "# convert action and inventory to dialogue history\n",
    "def convert_trajectory_to_base_dialogue(traj: dict):\n",
    "    dialogue = [{\"role\": \"system\", \"content\": REACT_SYSTEM_PROMPT}]\n",
    "    objective = traj[\"model_trace\"][\"objective\"]\n",
    "    for _, action, inventory in zip(\n",
    "        traj[\"model_trace\"][\"images\"],\n",
    "        traj[\"model_trace\"][\"action_history\"],\n",
    "        traj[\"model_trace\"][\"inventory_history\"],\n",
    "    ):\n",
    "        dialogue.append(\n",
    "            {\n",
    "                \"role\": \"user\",\n",
    "                \"content\": convert_obs_to_text(objective, inventory),\n",
    "            }\n",
    "        )\n",
    "        dialogue.append(\n",
    "            {\n",
    "                \"role\": \"assistant\",\n",
    "                \"content\": convert_action_to_text(action),\n",
    "            }\n",
    "        )\n",
    "    example = {\n",
    "        \"messages\": dialogue,\n",
    "        \"example_id\": traj[\"example_id\"],\n",
    "    }\n",
    "    return example\n",
    "\n",
    "\n",
    "# convert action and inventory to dialogue history\n",
    "def convert_trajectory_to_image_dialogue(traj: dict):\n",
    "    dialogue = [\n",
    "        {\"role\": \"system\", \"content\": [{\"type\": \"text\", \"text\": REACT_SYSTEM_PROMPT}]}\n",
    "    ]\n",
    "    objective = traj[\"model_trace\"][\"objective\"]\n",
    "    images = []\n",
    "    for image, action, inventory in zip(\n",
    "        traj[\"model_trace\"][\"images\"],\n",
    "        traj[\"model_trace\"][\"action_history\"],\n",
    "        traj[\"model_trace\"][\"inventory_history\"],\n",
    "    ):\n",
    "        dialogue.append(\n",
    "            {\n",
    "                \"role\": \"user\",\n",
    "                \"content\": [{\"type\": \"image\"}, {\"type\": \"text\", \"text\": objective}],\n",
    "            }\n",
    "        )\n",
    "        dialogue.append(\n",
    "            {\n",
    "                \"role\": \"assistant\",\n",
    "                \"content\": [{\"type\": \"text\", \"text\": convert_action_to_text(action)}],\n",
    "            }\n",
    "        )\n",
    "        images.append(image)\n",
    "    example = {\n",
    "        \"messages\": dialogue,\n",
    "        \"example_id\": traj[\"example_id\"],\n",
    "    }\n",
    "    return example, images\n",
    "\n",
    "\n",
    "text_data = defaultdict(list)\n",
    "mm_data = defaultdict(list)\n",
    "for path, trajs in oracle_results.items():\n",
    "    split = path.split(\"/\")[-3]\n",
    "    for traj in trajs:\n",
    "        text_example = convert_trajectory_to_base_dialogue(traj)\n",
    "        text_data[split].append(text_example)\n",
    "        mm_example, example_imgs = convert_trajectory_to_image_dialogue(traj)\n",
    "        mm_data[split].append(mm_example)\n",
    "        # save imgs as png in format \"data/oracle/{split}/{example_id}_{step}.gif\"\n",
    "        os.makedirs(f\"data/oracle/{split}\", exist_ok=True)\n",
    "        for i, img in enumerate(example_imgs):\n",
    "            Image.fromarray(img).save(\n",
    "                f\"data/oracle/{split}/{traj['example_id']}_{i}.png\"\n",
    "            )\n",
    "\n",
    "    # save as jsonl file\n",
    "    with open(f\"data/oracle/{split}.jsonl\", \"w\") as f:\n",
    "        for example in text_data[split]:\n",
    "            f.write(json.dumps(example) + \"\\n\")\n",
    "\n",
    "    with open(f\"data/oracle/{split}.mm.jsonl\", \"w\") as f:\n",
    "        for example in mm_data[split]:\n",
    "            f.write(json.dumps(example) + \"\\n\")"
   ]
  },
  {
   "cell_type": "markdown",
   "metadata": {},
   "source": [
    "# Generate Thought traces"
   ]
  },
  {
   "cell_type": "code",
   "execution_count": 1,
   "metadata": {},
   "outputs": [],
   "source": [
    "import json\n",
    "import pandas as pd\n",
    "\n",
    "split = \"train\"\n",
    "with open(f\"data/{split}.json\", \"r\") as f:\n",
    "    examples = json.load(f)\n",
    "df = pd.DataFrame(examples)\n",
    "\n",
    "dialogues = []\n",
    "with open(f\"data/oracle/{split}.jsonl\", \"r\") as f:\n",
    "    for line in f:\n",
    "        dialogues.append(json.loads(line))\n",
    "\n",
    "dialogue_df = pd.DataFrame(dialogues)\n",
    "\n",
    "df = pd.merge(df, dialogue_df, left_on=\"id\", right_on=\"example_id\", how=\"inner\")"
   ]
  },
  {
   "cell_type": "code",
   "execution_count": 16,
   "metadata": {},
   "outputs": [],
   "source": [
    "BASE_PROMPT = \"\"\"\n",
    "You are crafting in Minecraft.\n",
    "\n",
    "The first 10 slots in the inventory are reserved for crafting and correspond to the minecraft crafting table.\n",
    "[1, 2, 3]\n",
    "[4, 5, 6] -> [0]\n",
    "[7, 8, 9]\n",
    "\n",
    "The crafting matrix is a 3x3 grid, and the output is sent to slot 0.\n",
    "You cannot move or smelt items into output slot 0.\n",
    "The remaining slots (10-45) are for storing items.\n",
    "\n",
    "For a given observation action pair, you should explain the reasoning behind taking that action. Mention the state of the environment, what the next recipe to craft is (in the context of the greater planning problem) and why this move should be taken.\n",
    "\n",
    "Examples:\n",
    "\n",
    "TASK: Craft an item of type: andesite\n",
    "Crafting path: [andesite]\n",
    "\n",
    "1. inventory='[{\"type\": \"diorite\", \"slot\": 27, \"quantity\": 1},{\"type\": \"cobblestone\", \"slot\": 39, \"quantity\": 1}]'\n",
    "action: move from slot 27 to slot 4 with quantity 1\n",
    "thought: To solve this task I need to craft andesite. Andesite requires placing 1 diorite and 1 cobblestone side by side in the crafting table, therefore I will first need to move the diorite from slot 27 into the crafting grid. \n",
    "\n",
    "2. inventory=[{\"type\": \"diorite\", \"slot\": 4, \"quantity\": 1},{\"type\": \"cobblestone\", \"slot\": 39, \"quantity\": 1}]\n",
    "action: move from slot 39 to slot 5 with quantity 1\n",
    "thought: Since the diorite has been moved into the crafting grid, I now need to move the cobblestone to the right of it. Slot 5 is to the right of slot 4, and therefore I will move the cobblestone to slot 5.\n",
    "\n",
    "3. inventory=[{\"type\": \"andesite\", \"slot\": 0, \"quantity\": 1},{\"type\": \"diorite\", \"slot\": 4, \"quantity\": 1},{\"type\": \"cobblestone\", \"slot\": 5, \"quantity\": 1}]\n",
    "action: move from slot 0 to slot 15 with quantity 1\n",
    "thought: Now I can craft the andesite by moving it from the craft slot (0) to a free inventory slot (eg., 15). \n",
    "\n",
    "TASK: Craft an item of type: iron_ingot\n",
    "Crafting path: [iron_ingot]\n",
    "\n",
    "1. inventory='[{\"type\": \"iron_ore\", \"slot\": 45, \"quantity\": 1},{\"type\": \"cobblestone\", \"slot\": 39, \"quantity\": 1}]\n",
    "action: smelt from slot 45 to slot 44 with quantity 1\n",
    "thought: To craft an iron_ingot, I need to smelt the iron_ore at slot 45 into an empty slot (eg., 44).\n",
    "\n",
    "\"\"\""
   ]
  },
  {
   "cell_type": "code",
   "execution_count": 3,
   "metadata": {},
   "outputs": [
    {
     "name": "stderr",
     "output_type": "stream",
     "text": [
      "/usr/local/lib/python3.10/dist-packages/tqdm/auto.py:21: TqdmWarning: IProgress not found. Please update jupyter and ipywidgets. See https://ipywidgets.readthedocs.io/en/stable/user_install.html\n",
      "  from .autonotebook import tqdm as notebook_tqdm\n",
      "Special tokens have been added in the vocabulary, make sure the associated word embeddings are fine-tuned or trained.\n",
      "Loading checkpoint shards: 100%|██████████| 30/30 [00:24<00:00,  1.24it/s]\n"
     ]
    }
   ],
   "source": [
    "from transformers import AutoTokenizer, AutoModelForCausalLM\n",
    "import torch\n",
    "\n",
    "model_name = \"/nfs/public/hf/models/meta-llama/Meta-Llama-3-70B\"\n",
    "tokenizer = AutoTokenizer.from_pretrained(model_name, local_files_only=True)\n",
    "model = AutoModelForCausalLM.from_pretrained(\n",
    "    model_name,\n",
    "    local_files_only=True,\n",
    "    device_map=\"auto\",\n",
    "    torch_dtype=torch.bfloat16,\n",
    ")"
   ]
  },
  {
   "cell_type": "code",
   "execution_count": 12,
   "metadata": {},
   "outputs": [],
   "source": [
    "from transformers import StopStringCriteria, StoppingCriteriaList\n",
    "\n",
    "stopping_criteria = StoppingCriteriaList([StopStringCriteria(\n",
    "    tokenizer=tokenizer, stop_strings=[\"\\n\", \"\\n\\n\", \".\\n\\n\", \"\\n\\n\\n\"]\n",
    ")])"
   ]
  },
  {
   "cell_type": "code",
   "execution_count": 19,
   "metadata": {},
   "outputs": [
    {
     "name": "stderr",
     "output_type": "stream",
     "text": [
      "Setting `pad_token_id` to `eos_token_id`:128001 for open-end generation.\n",
      "/usr/local/lib/python3.10/dist-packages/transformers/generation/utils.py:1797: UserWarning: You are calling .generate() with the `input_ids` being on a device type different than your model's device. `input_ids` is on cpu, whereas the model is on cuda. You may experience unexpected behaviors or slower generation. Please make sure that you have put `input_ids` to the correct device by calling for example input_ids = input_ids.to('cuda') before running `.generate()`.\n",
      "  warnings.warn(\n",
      "Setting `pad_token_id` to `eos_token_id`:128001 for open-end generation.\n"
     ]
    },
    {
     "name": "stdout",
     "output_type": "stream",
     "text": [
      "[{'role': 'user', 'content': 'TASK: Craft an item of type: red_dye\\ninventory=[{\"type\": \"torch\", \"quantity\": 57, \"index\": 19}, {\"type\": \"wooden_pickaxe\", \"quantity\": 1, \"index\": 21}, {\"type\": \"map\", \"quantity\": 22, \"index\": 26}, {\"type\": \"beetroot\", \"quantity\": 1, \"index\": 35}, {\"type\": \"lodestone\", \"quantity\": 50, \"index\": 36}]'}, {'role': 'assistant', 'content': 'To craft a red_dye, I need to move the beetroot from slot 35 to slot 1.'}, {'role': 'user', 'content': 'Ok'}, {'role': 'assistant', 'content': 'act: move from slot 35 to slot 1 with quantity 1'}, {'role': 'user', 'content': 'TASK: Craft an item of type: red_dye\\ninventory=[{\"type\": \"red_dye\", \"quantity\": 1, \"index\": 0}, {\"type\": \"beetroot\", \"quantity\": 1, \"index\": 1}, {\"type\": \"torch\", \"quantity\": 57, \"index\": 19}, {\"type\": \"wooden_pickaxe\", \"quantity\": 1, \"index\": 21}, {\"type\": \"map\", \"quantity\": 22, \"index\": 26}, {\"type\": \"lodestone\", \"quantity\": 50, \"index\": 36}]'}, {'role': 'assistant', 'content': 'Now that the red_dye is in the crafting slot, I can move it to the inventory slot 11.'}, {'role': 'user', 'content': 'Ok'}, {'role': 'assistant', 'content': 'act: move from slot 0 to slot 11 with quantity 1'}]\n"
     ]
    }
   ],
   "source": [
    "def generate_thoughts(row):\n",
    "    step = 1\n",
    "    task_message = BASE_PROMPT + row.messages[1][\"content\"].split(\"\\n\")[0]\n",
    "    task_message += f\"\\nCrafting path: {row.optimal_path}\"\n",
    "    OTA_messages = []\n",
    "    for i in range(1, len(row.messages), 2):\n",
    "        user_entry = row.messages[i]\n",
    "        assert user_entry[\"role\"] == \"user\"\n",
    "        assistant_entry = row.messages[i + 1]\n",
    "        assert assistant_entry[\"role\"] == \"assistant\"\n",
    "        inventory = user_entry[\"content\"].split(\"inventory=\")[1]\n",
    "        action = assistant_entry[\"content\"]\n",
    "        task_message += f\"\\n\\n{step}. inventory={inventory}\\naction: {action}\\nthought:\"\n",
    "        tokenized_prompt = tokenizer(task_message, return_tensors=\"pt\")\n",
    "        outputs = model.generate(\n",
    "            **tokenized_prompt,\n",
    "            tokenizer=tokenizer,\n",
    "            max_new_tokens=128,\n",
    "            do_sample=True,\n",
    "            temperature=0.6,\n",
    "            top_p=0.9,\n",
    "            stopping_criteria=[stopping_criteria],\n",
    "        )\n",
    "        # Decode the generated output\n",
    "        generated_text = tokenizer.decode(outputs[0], skip_special_tokens=True).rstrip(\n",
    "            \"\\n\"\n",
    "        )\n",
    "        thought = generated_text.split(\"thought:\")[-1].strip()\n",
    "        OTA_messages.append(user_entry)  # Observation\n",
    "        OTA_messages.append({\"role\": \"assistant\", \"content\": f\"thought: {thought}\"})  # Thought\n",
    "        OTA_messages.append({\"role\": \"user\", \"content\": \"Ok\"})\n",
    "        OTA_messages.append(assistant_entry) # Action\n",
    "        task_message = generated_text\n",
    "        step += 1\n",
    "    return OTA_messages\n",
    "\n",
    "# Convert and print the result\n",
    "output = generate_thoughts(df.iloc[0])\n",
    "print(output)"
   ]
  },
  {
   "cell_type": "code",
   "execution_count": 24,
   "metadata": {},
   "outputs": [
    {
     "data": {
      "text/plain": [
       "'TRAIN0001'"
      ]
     },
     "execution_count": 24,
     "metadata": {},
     "output_type": "execute_result"
    }
   ],
   "source": [
    "df.iloc[0][\"id\"]"
   ]
  }
 ],
 "metadata": {
  "kernelspec": {
   "display_name": "Python 3",
   "language": "python",
   "name": "python3"
  },
  "language_info": {
   "codemirror_mode": {
    "name": "ipython",
    "version": 3
   },
   "file_extension": ".py",
   "mimetype": "text/x-python",
   "name": "python",
   "nbconvert_exporter": "python",
   "pygments_lexer": "ipython3",
   "version": "3.10.12"
  }
 },
 "nbformat": 4,
 "nbformat_minor": 2
}
