{
 "cells": [
  {
   "cell_type": "code",
   "execution_count": 2,
   "metadata": {},
   "outputs": [
    {
     "name": "stderr",
     "output_type": "stream",
     "text": [
      "/usr/local/lib/python3.10/dist-packages/gym/wrappers/monitoring/video_recorder.py:9: DeprecationWarning: The distutils package is deprecated and slated for removal in Python 3.12. Use setuptools or check PEP 632 for potential alternatives\n",
      "  import distutils.spawn\n",
      "/usr/local/lib/python3.10/dist-packages/gym/wrappers/monitoring/video_recorder.py:9: DeprecationWarning: The distutils package is deprecated and slated for removal in Python 3.12. Use setuptools or check PEP 632 for potential alternatives\n",
      "  import distutils.spawn\n",
      "/usr/lib/python3.10/runpy.py:126: RuntimeWarning: 'minerl.utils.process_watcher' found in sys.modules after import of package 'minerl.utils', but prior to execution of 'minerl.utils.process_watcher'; this may result in unpredictable behaviour\n",
      "  warn(RuntimeWarning(msg))\n"
     ]
    }
   ],
   "source": [
    "from plancraft.environments.env_real import RealPlancraft\n",
    "\n",
    "env = RealPlancraft(\n",
    "    inventory=[{\"type\": \"beetroot_soup\", \"quantity\": 1, \"slot\": 45}],\n",
    "    symbolic_action_space=True,\n",
    "    symbolic_observation_space=True,\n",
    "    resolution=[512, 512],\n",
    "    crop=True,\n",
    ")\n",
    "data = []"
   ]
  },
  {
   "cell_type": "code",
   "execution_count": 3,
   "metadata": {},
   "outputs": [],
   "source": [
    "from train_fast_rcnn import M1\n",
    "\n",
    "model = M1()\n",
    "weights_path = \"minecraft_rcnn.pth\"\n",
    "model.load(weights_path)\n",
    "model = model.cuda()"
   ]
  },
  {
   "cell_type": "code",
   "execution_count": 11,
   "metadata": {},
   "outputs": [
    {
     "data": {
      "image/jpeg": "[encoded data removed]",
      "image/png": "[encoded data removed]",
      "text/plain": [
       "<PIL.Image.Image image mode=RGB size=171x164>"
      ]
     },
     "metadata": {},
     "output_type": "display_data"
    }
   ],
   "source": [
    "from PIL import Image, ImageDraw\n",
    "from torchvision import transforms\n",
    "import torch\n",
    "from train_fast_rcnn import slot_to_bbox, sample_starting_inv\n",
    "\n",
    "starting_inv = sample_starting_inv()\n",
    "env.fast_reset(new_inventory=starting_inv)\n",
    "obs, _, _, _ = env.step(env.action_space.no_op())\n",
    "\n",
    "\n",
    "img = Image.fromarray(obs[\"pov\"])\n",
    "for item in obs[\"inventory\"]:\n",
    "    draw = ImageDraw.Draw(img)\n",
    "    bbox = slot_to_bbox(item[\"index\"])\n",
    "    draw.rectangle(bbox, outline=\"red\")\n",
    "\n",
    "img_tensor = transforms.ToTensor()(obs[\"pov\"].copy()).cuda()\n",
    "with torch.no_grad():\n",
    "    predictions = model(img_tensor.unsqueeze(0)) \n",
    "\n",
    "\n",
    "for box_idx in range(len(predictions[0][\"boxes\"])):\n",
    "    if predictions[0][\"scores\"][box_idx] < 0.3:\n",
    "        continue\n",
    "    box = predictions[0][\"boxes\"][box_idx]\n",
    "    label = predictions[0][\"labels\"][box_idx]\n",
    "    draw = ImageDraw.Draw(img)\n",
    "    draw.rectangle([(box[0], box[1]), (box[2], box[3])], outline=\"blue\")\n",
    "    # add text label in middle of box\n",
    "    draw.text(\n",
    "        (box[0].item() + (box[2].item() - box[0].item()) / 2, box[1].item() + (box[3].item() - box[1].item()) / 2),\n",
    "        str(label.item()),\n",
    "        fill=\"green\",\n",
    "    )\n",
    "# # show\n",
    "img.show()"
   ]
  },
  {
   "cell_type": "code",
   "execution_count": 55,
   "metadata": {},
   "outputs": [
    {
     "name": "stdout",
     "output_type": "stream",
     "text": [
      "torch.Size([25, 3, 64, 64])\n"
     ]
    },
    {
     "data": {
      "text/plain": [
       "torch.Size([25, 1024])"
      ]
     },
     "execution_count": 55,
     "metadata": {},
     "output_type": "execute_result"
    }
   ],
   "source": [
    "import torch\n",
    "import torch.nn as nn\n",
    "from PIL import Image\n",
    "from torchvision import transforms\n",
    "\n",
    "def split_image_by_bboxes(image: Image.Image, bboxes: list[tuple[int, int, int, int]]) -> list[Image.Image]:\n",
    "    \"\"\"\n",
    "    Splits an image into sub-images based on the provided bounding boxes.\n",
    "    \n",
    "    Parameters:\n",
    "        - image: A PIL Image to be split.\n",
    "        - bboxes: A list of bounding boxes, each defined by (x_min, y_min, x_max, y_max).\n",
    "    \n",
    "    Returns:\n",
    "        - A list of PIL Image objects corresponding to the cropped regions of the original image.\n",
    "    \"\"\"\n",
    "    cropped_images = []\n",
    "    for bbox in bboxes:\n",
    "        x_min, y_min, x_max, y_max = bbox        \n",
    "        # Crop the image using the bounding box coordinates\n",
    "        cropped_image = image.crop((x_min, y_min, x_max, y_max))\n",
    "        # set to 64x64\n",
    "        cropped_image = cropped_image.resize((64, 64))\n",
    "        cropped_images.append(cropped_image)\n",
    "    return cropped_images\n",
    "\n",
    "img = Image.fromarray(obs[\"pov\"])\n",
    "bbox_images = split_image_by_bboxes(img, [slot_to_bbox(item[\"index\"]) for item in obs[\"inventory\"] if item[\"quantity\"] > 0])\n",
    "\n",
    "bbox_tensors = []\n",
    "for bbox_image in bbox_images:\n",
    "    bbox_tensor = transforms.ToTensor()(bbox_image).cuda()\n",
    "    bbox_tensors.append(bbox_tensor)\n",
    "    # bbox_image.show()\n",
    "\n",
    "\n",
    "M2_img_encoder = nn.Sequential(\n",
    "            nn.Conv2d(3, 8, kernel_size=3, stride=1, padding=1),\n",
    "            nn.ReLU(),\n",
    "            nn.Dropout(p=0.1), \n",
    "            nn.MaxPool2d(kernel_size=2, stride=2),\n",
    "            nn.Conv2d(8, 16, kernel_size=3, stride=1, padding=1),\n",
    "            nn.ReLU(),\n",
    "            nn.Dropout(p=0.1), \n",
    "            nn.MaxPool2d(kernel_size=2, stride=2),\n",
    "            nn.Conv2d(16, 16, kernel_size=3, stride=1, padding=1),\n",
    "            nn.ReLU(),\n",
    "            nn.Dropout(p=0.1), \n",
    "            nn.MaxPool2d(kernel_size=2, stride=2)\n",
    "        ).cuda()\n",
    "\n",
    "bbox_tensors = torch.stack(bbox_tensors)\n",
    "print(bbox_tensors.shape)\n",
    "out = M2_img_encoder(bbox_tensors)\n",
    "flattened_out = out.view(out.size(0), -1)\n",
    "flattened_out.shape"
   ]
  },
  {
   "cell_type": "code",
   "execution_count": null,
   "metadata": {},
   "outputs": [],
   "source": [
    "import torch\n",
    "import torch.nn as nn\n",
    "import torch.nn.functional as F\n",
    "import torchvision.transforms as T\n",
    "from torch import Tensor\n",
    "\n",
    "\n",
    "class M2(nn.Module):\n",
    "    def __init__(self, input_channels: int = 3, bbox_size: tuple[int, int] = (64, 64), num_classes: int = 64) -> None:\n",
    "        super(M2, self).__init__()\n",
    "        \n",
    "        self.bbox_size = bbox_size\n",
    "        self.num_classes = num_classes\n",
    "        \n",
    "        # Encoder: Convolutional layers to encode the bounding box image\n",
    "        self.encoder = nn.Sequential(\n",
    "            nn.Conv2d(input_channels, 32, kernel_size=3, stride=1, padding=1),\n",
    "            nn.ReLU(),\n",
    "            nn.MaxPool2d(kernel_size=2, stride=2),\n",
    "            nn.Conv2d(32, 64, kernel_size=3, stride=1, padding=1),\n",
    "            nn.ReLU(),\n",
    "            nn.MaxPool2d(kernel_size=2, stride=2),\n",
    "            nn.Conv2d(64, 128, kernel_size=3, stride=1, padding=1),\n",
    "            nn.ReLU(),\n",
    "            nn.MaxPool2d(kernel_size=2, stride=2)\n",
    "        )\n",
    "        \n",
    "        # Calculate the size of the flattened feature map\n",
    "        self.flattened_size = (128 * (self.bbox_size[0] // 8) * (self.bbox_size[1] // 8))\n",
    "        \n",
    "        # Fully connected layers for encoding\n",
    "        self.fc_encoder = nn.Sequential(\n",
    "            nn.Linear(self.flattened_size + 2 + 1, 512),  # + 2 for location, +1 for quantity\n",
    "            nn.ReLU(),\n",
    "            nn.Linear(512, 256),\n",
    "            nn.ReLU()\n",
    "        )\n",
    "        \n",
    "        # Decoder: Predicting the type, location, and quantity of the item\n",
    "        self.fc_decoder = nn.Sequential(\n",
    "            nn.Linear(256, 512),\n",
    "            nn.ReLU(),\n",
    "            nn.Linear(512, self.num_classes + 2 + 1)  # num_classes for type, +2 for location, +1 for quantity\n",
    "        )\n",
    "        \n",
    "    def forward(self, bboxes: Tensor, bbox_location: Tensor, item_quantity: Tensor, targets: Tensor | None = None) -> tuple[Tensor, Tensor, Tensor] | Tensor:\n",
    "        # Normalize and resize the bounding boxes\n",
    "        # Encode the bounding box images\n",
    "        encoded_bboxes = self.encoder(bboxes)\n",
    "        encoded_bboxes = encoded_bboxes.view(encoded_bboxes.size(0), -1)\n",
    "        \n",
    "        # Concatenate with location and quantity\n",
    "        combined_features = torch.cat((encoded_bboxes, bbox_location, item_quantity), dim=1)\n",
    "        \n",
    "        # Further encoding\n",
    "        encoded_vector = self.fc_encoder(combined_features)\n",
    "        \n",
    "        # Decoding to predict type, location, and quantity\n",
    "        output = self.fc_decoder(encoded_vector)\n",
    "        \n",
    "        if self.training:\n",
    "            # Split the output into type, location, and quantity predictions\n",
    "            type_pred = output[:, :self.num_classes]\n",
    "            location_pred = output[:, self.num_classes:self.num_classes + 2]\n",
    "            quantity_pred = output[:, self.num_classes + 2:]\n",
    "            \n",
    "            return type_pred, location_pred, quantity_pred\n",
    "        else:\n",
    "            # Return the encoded vector during inference\n",
    "            return encoded_vector\n"
   ]
  },
  {
   "cell_type": "code",
   "execution_count": 7,
   "metadata": {},
   "outputs": [
    {
     "data": {
      "image/jpeg": "[encoded data removed]",
      "image/png": "[encoded data removed]",
      "text/plain": [
       "<PIL.Image.Image image mode=RGB size=171x164>"
      ]
     },
     "metadata": {},
     "output_type": "display_data"
    }
   ],
   "source": [
    "from PIL import Image, ImageDraw\n",
    "from train_fast_rcnn import slot_to_bbox, sample_starting_inv\n",
    "\n",
    "from torchvision import transforms\n",
    "from PIL import Image, ImageDraw\n",
    "\n",
    "\n",
    "img = Image.fromarray(obs[\"pov\"])\n",
    "for item in obs[\"inventory\"]:\n",
    "    draw = ImageDraw.Draw(img)\n",
    "    bbox = slot_to_bbox(item[\"index\"])\n",
    "    draw.rectangle(bbox, outline=\"red\")\n",
    "\n",
    "# img_tensor = transforms.ToTensor()(obs[\"pov\"].copy()).cuda()\n",
    "# with torch.no_grad():\n",
    "#     predictions = model(img_tensor.unsqueeze(0)) \n",
    "\n",
    "# print(predictions)\n",
    "\n",
    "# for box_idx in range(len(predictions[0][\"boxes\"])):\n",
    "#     if predictions[0][\"scores\"][box_idx] < 0.3:\n",
    "#         continue\n",
    "#     box = predictions[0][\"boxes\"][box_idx]\n",
    "#     label = predictions[0][\"labels\"][box_idx]\n",
    "#     draw = ImageDraw.Draw(img)\n",
    "#     draw.rectangle([(box[0], box[1]), (box[2], box[3])], outline=\"blue\")\n",
    "#     # add text label in middle of box\n",
    "#     draw.text(\n",
    "#         (box[0].item() + (box[2].item() - box[0].item()) / 2, box[1].item() + (box[3].item() - box[1].item()) / 2),\n",
    "#         str(label.item()+1),\n",
    "#         fill=\"red\",\n",
    "#     )\n",
    "\n",
    "img.show()"
   ]
  },
  {
   "cell_type": "code",
   "execution_count": 87,
   "metadata": {},
   "outputs": [
    {
     "data": {
      "text/plain": [
       "[{'type': 'air', 'quantity': 0, 'index': 0},\n",
       " {'type': 'infested_stone_bricks', 'quantity': 35, 'index': 1},\n",
       " {'type': 'stripped_spruce_log', 'quantity': 59, 'index': 2},\n",
       " {'type': 'terracotta', 'quantity': 59, 'index': 3},\n",
       " {'type': 'air', 'quantity': 0, 'index': 4},\n",
       " {'type': 'warped_hyphae', 'quantity': 32, 'index': 5},\n",
       " {'type': 'air', 'quantity': 0, 'index': 6},\n",
       " {'type': 'orange_terracotta', 'quantity': 36, 'index': 7},\n",
       " {'type': 'air', 'quantity': 0, 'index': 8},\n",
       " {'type': 'air', 'quantity': 0, 'index': 9},\n",
       " {'type': 'salmon_spawn_egg', 'quantity': 47, 'index': 10},\n",
       " {'type': 'polished_diorite_slab', 'quantity': 40, 'index': 11},\n",
       " {'type': 'pufferfish_spawn_egg', 'quantity': 41, 'index': 12},\n",
       " {'type': 'prismarine_wall', 'quantity': 3, 'index': 13},\n",
       " {'type': 'air', 'quantity': 0, 'index': 14},\n",
       " {'type': 'cornflower', 'quantity': 41, 'index': 15},\n",
       " {'type': 'warped_pressure_plate', 'quantity': 34, 'index': 16},\n",
       " {'type': 'warped_stairs', 'quantity': 42, 'index': 17},\n",
       " {'type': 'feather', 'quantity': 64, 'index': 18},\n",
       " {'type': 'light_blue_dye', 'quantity': 11, 'index': 19},\n",
       " {'type': 'shield', 'quantity': 1, 'index': 20},\n",
       " {'type': 'air', 'quantity': 0, 'index': 21},\n",
       " {'type': 'honey_block', 'quantity': 54, 'index': 22},\n",
       " {'type': 'red_glazed_terracotta', 'quantity': 13, 'index': 23},\n",
       " {'type': 'bookshelf', 'quantity': 17, 'index': 24},\n",
       " {'type': 'white_concrete', 'quantity': 17, 'index': 25},\n",
       " {'type': 'cracked_nether_bricks', 'quantity': 49, 'index': 26},\n",
       " {'type': 'brown_banner', 'quantity': 9, 'index': 27},\n",
       " {'type': 'beetroot_seeds', 'quantity': 10, 'index': 28},\n",
       " {'type': 'magenta_glazed_terracotta', 'quantity': 49, 'index': 29},\n",
       " {'type': 'spruce_leaves', 'quantity': 32, 'index': 30},\n",
       " {'type': 'prismarine_wall', 'quantity': 24, 'index': 31},\n",
       " {'type': 'apple', 'quantity': 33, 'index': 32},\n",
       " {'type': 'birch_slab', 'quantity': 42, 'index': 33},\n",
       " {'type': 'yellow_glazed_terracotta', 'quantity': 54, 'index': 34},\n",
       " {'type': 'emerald_ore', 'quantity': 62, 'index': 35},\n",
       " {'type': 'air', 'quantity': 0, 'index': 36},\n",
       " {'type': 'air', 'quantity': 0, 'index': 37},\n",
       " {'type': 'lava_bucket', 'quantity': 1, 'index': 38},\n",
       " {'type': 'air', 'quantity': 0, 'index': 39},\n",
       " {'type': 'air', 'quantity': 0, 'index': 40},\n",
       " {'type': 'golden_pickaxe', 'quantity': 1, 'index': 41},\n",
       " {'type': 'air', 'quantity': 0, 'index': 42},\n",
       " {'type': 'wooden_shovel', 'quantity': 1, 'index': 43},\n",
       " {'type': 'dark_prismarine', 'quantity': 5, 'index': 44},\n",
       " {'type': 'air', 'quantity': 0, 'index': 45}]"
      ]
     },
     "execution_count": 87,
     "metadata": {},
     "output_type": "execute_result"
    }
   ],
   "source": [
    "obs[\"inventory\"]"
   ]
  },
  {
   "cell_type": "code",
   "execution_count": 5,
   "metadata": {},
   "outputs": [
    {
     "ename": "IndexError",
     "evalue": "list index out of range",
     "output_type": "error",
     "traceback": [
      "\u001b[0;31m---------------------------------------------------------------------------\u001b[0m",
      "\u001b[0;31mIndexError\u001b[0m                                Traceback (most recent call last)",
      "Cell \u001b[0;32mIn[5], line 7\u001b[0m\n\u001b[1;32m      4\u001b[0m model\u001b[38;5;241m.\u001b[39meval()\n\u001b[1;32m      6\u001b[0m idx \u001b[38;5;241m=\u001b[39m \u001b[38;5;241m0\u001b[39m\n\u001b[0;32m----> 7\u001b[0m img_tensor \u001b[38;5;241m=\u001b[39m transforms\u001b[38;5;241m.\u001b[39mToTensor()(\u001b[43mdata\u001b[49m\u001b[43m[\u001b[49m\u001b[43midx\u001b[49m\u001b[43m]\u001b[49m[\u001b[38;5;124m\"\u001b[39m\u001b[38;5;124mpov\u001b[39m\u001b[38;5;124m\"\u001b[39m]\u001b[38;5;241m.\u001b[39mcopy())\u001b[38;5;241m.\u001b[39mcuda()\n\u001b[1;32m      9\u001b[0m \u001b[38;5;28;01mwith\u001b[39;00m torch\u001b[38;5;241m.\u001b[39mno_grad():\n\u001b[1;32m     10\u001b[0m     predictions \u001b[38;5;241m=\u001b[39m model(img_tensor\u001b[38;5;241m.\u001b[39munsqueeze(\u001b[38;5;241m0\u001b[39m))  \n",
      "\u001b[0;31mIndexError\u001b[0m: list index out of range"
     ]
    }
   ],
   "source": [
    "from torchvision import transforms\n",
    "from PIL import Image, ImageDraw\n",
    "\n",
    "model.eval()\n",
    "\n",
    "idx = 0\n",
    "img_tensor = transforms.ToTensor()(data[idx][\"pov\"].copy()).cuda()\n",
    "\n",
    "with torch.no_grad():\n",
    "    predictions = model(img_tensor.unsqueeze(0))  \n",
    "\n",
    "img = Image.fromarray(data[idx][\"pov\"])\n",
    "for item in data[-1][\"inventory\"]:\n",
    "    draw = ImageDraw.Draw(img)\n",
    "    draw.rectangle(item[\"bbox\"], outline=\"red\")\n",
    "\n",
    "for box_idx in range(len(predictions[0][\"boxes\"])):\n",
    "    if predictions[0][\"scores\"][box_idx] < 0.5:\n",
    "        continue\n",
    "    box = predictions[0][\"boxes\"][box_idx]\n",
    "    label = predictions[0][\"labels\"][box_idx]\n",
    "    draw = ImageDraw.Draw(img)\n",
    "    draw.rectangle([box[0].item(), box[1].item(), box[2].item(), box[3].item()], outline=\"blue\")\n",
    "\n",
    "    # add text label in middle of box\n",
    "    draw.text(\n",
    "        (box[0].item() + (box[2].item() - box[0].item()) / 2, box[1].item() + (box[3].item() - box[1].item()) / 2),\n",
    "        str(label.item()+1),\n",
    "        fill=\"red\",\n",
    "    )\n",
    "\n",
    "img.show()"
   ]
  },
  {
   "cell_type": "code",
   "execution_count": 1,
   "metadata": {},
   "outputs": [
    {
     "name": "stdout",
     "output_type": "stream",
     "text": [
      "0\n",
      "1\n",
      "2\n",
      "3\n",
      "4\n"
     ]
    }
   ],
   "source": [
    "def tmp():\n",
    "    n = 0\n",
    "    while n < 10:\n",
    "        if n == 5:\n",
    "            return\n",
    "        yield n\n",
    "        n += 1\n",
    "\n",
    "for i in tmp():\n",
    "    print(i) "
   ]
  },
  {
   "cell_type": "code",
   "execution_count": 2,
   "metadata": {},
   "outputs": [
    {
     "data": {
      "text/plain": [
       "tensor([[[[1.0000, 1.0000, 1.0000,  ..., 1.0000, 1.0000, 1.0000],\n",
       "          [1.0000, 1.0000, 1.0000,  ..., 1.0000, 1.0000, 1.0000],\n",
       "          [1.0000, 1.0000, 0.7765,  ..., 0.7765, 0.7765, 0.7765],\n",
       "          ...,\n",
       "          [1.0000, 0.7765, 0.7765,  ..., 0.7765, 0.7765, 0.3333],\n",
       "          [0.7765, 0.3333, 0.3333,  ..., 0.3333, 0.3333, 0.3333],\n",
       "          [0.0000, 0.3333, 0.3333,  ..., 0.3333, 0.3333, 0.3333]],\n",
       "\n",
       "         [[1.0000, 1.0000, 1.0000,  ..., 1.0000, 1.0000, 1.0000],\n",
       "          [1.0000, 1.0000, 1.0000,  ..., 1.0000, 1.0000, 1.0000],\n",
       "          [1.0000, 1.0000, 0.7765,  ..., 0.7765, 0.7765, 0.7765],\n",
       "          ...,\n",
       "          [1.0000, 0.7765, 0.7765,  ..., 0.7765, 0.7765, 0.3333],\n",
       "          [0.7765, 0.3333, 0.3333,  ..., 0.3333, 0.3333, 0.3333],\n",
       "          [0.0000, 0.3333, 0.3333,  ..., 0.3333, 0.3333, 0.3333]],\n",
       "\n",
       "         [[1.0000, 1.0000, 1.0000,  ..., 1.0000, 1.0000, 1.0000],\n",
       "          [1.0000, 1.0000, 1.0000,  ..., 1.0000, 1.0000, 1.0000],\n",
       "          [1.0000, 1.0000, 0.7765,  ..., 0.7765, 0.7765, 0.7765],\n",
       "          ...,\n",
       "          [1.0000, 0.7765, 0.7765,  ..., 0.7765, 0.7765, 0.3333],\n",
       "          [0.7765, 0.3333, 0.3333,  ..., 0.3333, 0.3333, 0.3333],\n",
       "          [0.0000, 0.3333, 0.3333,  ..., 0.3333, 0.3333, 0.3333]]],\n",
       "\n",
       "\n",
       "        [[[1.0000, 1.0000, 1.0000,  ..., 1.0000, 1.0000, 1.0000],\n",
       "          [1.0000, 1.0000, 1.0000,  ..., 1.0000, 1.0000, 1.0000],\n",
       "          [1.0000, 1.0000, 0.7765,  ..., 0.7765, 0.7765, 0.7765],\n",
       "          ...,\n",
       "          [1.0000, 0.7765, 0.7765,  ..., 0.7765, 0.7765, 0.3333],\n",
       "          [0.7765, 0.3333, 0.3333,  ..., 0.3333, 0.3333, 0.3333],\n",
       "          [0.0000, 0.3333, 0.3333,  ..., 0.3333, 0.3333, 0.3333]],\n",
       "\n",
       "         [[1.0000, 1.0000, 1.0000,  ..., 1.0000, 1.0000, 1.0000],\n",
       "          [1.0000, 1.0000, 1.0000,  ..., 1.0000, 1.0000, 1.0000],\n",
       "          [1.0000, 1.0000, 0.7765,  ..., 0.7765, 0.7765, 0.7765],\n",
       "          ...,\n",
       "          [1.0000, 0.7765, 0.7765,  ..., 0.7765, 0.7765, 0.3333],\n",
       "          [0.7765, 0.3333, 0.3333,  ..., 0.3333, 0.3333, 0.3333],\n",
       "          [0.0000, 0.3333, 0.3333,  ..., 0.3333, 0.3333, 0.3333]],\n",
       "\n",
       "         [[1.0000, 1.0000, 1.0000,  ..., 1.0000, 1.0000, 1.0000],\n",
       "          [1.0000, 1.0000, 1.0000,  ..., 1.0000, 1.0000, 1.0000],\n",
       "          [1.0000, 1.0000, 0.7765,  ..., 0.7765, 0.7765, 0.7765],\n",
       "          ...,\n",
       "          [1.0000, 0.7765, 0.7765,  ..., 0.7765, 0.7765, 0.3333],\n",
       "          [0.7765, 0.3333, 0.3333,  ..., 0.3333, 0.3333, 0.3333],\n",
       "          [0.0000, 0.3333, 0.3333,  ..., 0.3333, 0.3333, 0.3333]]],\n",
       "\n",
       "\n",
       "        [[[1.0000, 1.0000, 1.0000,  ..., 1.0000, 1.0000, 1.0000],\n",
       "          [1.0000, 1.0000, 1.0000,  ..., 1.0000, 1.0000, 1.0000],\n",
       "          [1.0000, 1.0000, 0.7765,  ..., 0.7765, 0.7765, 0.7765],\n",
       "          ...,\n",
       "          [1.0000, 0.7765, 0.7765,  ..., 0.7765, 0.7765, 0.3333],\n",
       "          [0.7765, 0.3333, 0.3333,  ..., 0.3333, 0.3333, 0.3333],\n",
       "          [0.0000, 0.3333, 0.3333,  ..., 0.3333, 0.3333, 0.3333]],\n",
       "\n",
       "         [[1.0000, 1.0000, 1.0000,  ..., 1.0000, 1.0000, 1.0000],\n",
       "          [1.0000, 1.0000, 1.0000,  ..., 1.0000, 1.0000, 1.0000],\n",
       "          [1.0000, 1.0000, 0.7765,  ..., 0.7765, 0.7765, 0.7765],\n",
       "          ...,\n",
       "          [1.0000, 0.7765, 0.7765,  ..., 0.7765, 0.7765, 0.3333],\n",
       "          [0.7765, 0.3333, 0.3333,  ..., 0.3333, 0.3333, 0.3333],\n",
       "          [0.0000, 0.3333, 0.3333,  ..., 0.3333, 0.3333, 0.3333]],\n",
       "\n",
       "         [[1.0000, 1.0000, 1.0000,  ..., 1.0000, 1.0000, 1.0000],\n",
       "          [1.0000, 1.0000, 1.0000,  ..., 1.0000, 1.0000, 1.0000],\n",
       "          [1.0000, 1.0000, 0.7765,  ..., 0.7765, 0.7765, 0.7765],\n",
       "          ...,\n",
       "          [1.0000, 0.7765, 0.7765,  ..., 0.7765, 0.7765, 0.3333],\n",
       "          [0.7765, 0.3333, 0.3333,  ..., 0.3333, 0.3333, 0.3333],\n",
       "          [0.0000, 0.3333, 0.3333,  ..., 0.3333, 0.3333, 0.3333]]],\n",
       "\n",
       "\n",
       "        [[[1.0000, 1.0000, 1.0000,  ..., 1.0000, 1.0000, 1.0000],\n",
       "          [1.0000, 1.0000, 1.0000,  ..., 1.0000, 1.0000, 1.0000],\n",
       "          [1.0000, 1.0000, 0.7765,  ..., 0.7765, 0.7765, 0.7765],\n",
       "          ...,\n",
       "          [1.0000, 0.7765, 0.7765,  ..., 0.7765, 0.7765, 0.3333],\n",
       "          [0.7765, 0.3333, 0.3333,  ..., 0.3333, 0.3333, 0.3333],\n",
       "          [0.0000, 0.3333, 0.3333,  ..., 0.3333, 0.3333, 0.3333]],\n",
       "\n",
       "         [[1.0000, 1.0000, 1.0000,  ..., 1.0000, 1.0000, 1.0000],\n",
       "          [1.0000, 1.0000, 1.0000,  ..., 1.0000, 1.0000, 1.0000],\n",
       "          [1.0000, 1.0000, 0.7765,  ..., 0.7765, 0.7765, 0.7765],\n",
       "          ...,\n",
       "          [1.0000, 0.7765, 0.7765,  ..., 0.7765, 0.7765, 0.3333],\n",
       "          [0.7765, 0.3333, 0.3333,  ..., 0.3333, 0.3333, 0.3333],\n",
       "          [0.0000, 0.3333, 0.3333,  ..., 0.3333, 0.3333, 0.3333]],\n",
       "\n",
       "         [[1.0000, 1.0000, 1.0000,  ..., 1.0000, 1.0000, 1.0000],\n",
       "          [1.0000, 1.0000, 1.0000,  ..., 1.0000, 1.0000, 1.0000],\n",
       "          [1.0000, 1.0000, 0.7765,  ..., 0.7765, 0.7765, 0.7765],\n",
       "          ...,\n",
       "          [1.0000, 0.7765, 0.7765,  ..., 0.7765, 0.7765, 0.3333],\n",
       "          [0.7765, 0.3333, 0.3333,  ..., 0.3333, 0.3333, 0.3333],\n",
       "          [0.0000, 0.3333, 0.3333,  ..., 0.3333, 0.3333, 0.3333]]]])"
      ]
     },
     "execution_count": 2,
     "metadata": {},
     "output_type": "execute_result"
    }
   ],
   "source": []
  },
  {
   "cell_type": "code",
   "execution_count": 128,
   "metadata": {},
   "outputs": [],
   "source": [
    "import torch\n",
    "from torch.utils.data import Dataset\n",
    "from torchvision import transforms\n",
    "\n",
    "class InventoryDataset(Dataset):\n",
    "    def __init__(self, data):\n",
    "        self.data = data\n",
    "        self.transform = transforms.Compose(\n",
    "            [\n",
    "                transforms.ToTensor(),\n",
    "            ]\n",
    "        )\n",
    "\n",
    "    def __len__(self):\n",
    "        return len(self.data)\n",
    "    \n",
    "    def __getitem__(self, idx):\n",
    "        img = self.transform(self.data[idx][\"pov\"].copy())\n",
    "        target = {\n",
    "            \"labels\": [],\n",
    "            \"boxes\": []\n",
    "        }\n",
    "\n",
    "        for i in self.data[idx][\"inventory\"]:\n",
    "            target[\"labels\"].append(i[\"quantity\"])\n",
    "            target[\"boxes\"].append(i[\"bbox\"])\n",
    "        \n",
    "        target[\"labels\"] = torch.tensor(target[\"labels\"], dtype=torch.int64)-1\n",
    "        target[\"boxes\"] = torch.tensor(target[\"boxes\"], dtype=torch.int64)\n",
    "        \n",
    "        return img, target\n",
    "    \n",
    "# N = len(data)\n",
    "train_dataset = InventoryDataset(data)\n",
    "# val_dataset = InventoryDataset(data[int(N*0.9):])"
   ]
  },
  {
   "cell_type": "code",
   "execution_count": 123,
   "metadata": {},
   "outputs": [],
   "source": [
    "import wandb\n",
    "wandb.require(\"core\")"
   ]
  },
  {
   "cell_type": "code",
   "execution_count": 130,
   "metadata": {},
   "outputs": [
    {
     "name": "stderr",
     "output_type": "stream",
     "text": [
      "/usr/local/lib/python3.10/dist-packages/wandb/sdk/lib/ipython.py:77: DeprecationWarning: Importing display from IPython.core.display is deprecated since IPython 7.14, please import from IPython display\n",
      "  from IPython.core.display import HTML, display  # type: ignore\n"
     ]
    },
    {
     "data": {
      "text/html": [
       "Changes to your `wandb` environment variables will be ignored because your `wandb` session has already started. For more information on how to modify your settings with `wandb.init()` arguments, please refer to <a href='https://wandb.me/wandb-init' target=\"_blank\">the W&B docs</a>."
      ],
      "text/plain": [
       "<IPython.core.display.HTML object>"
      ]
     },
     "metadata": {},
     "output_type": "display_data"
    },
    {
     "ename": "CommError",
     "evalue": "Run initialization has timed out after 90.0 sec. \nPlease refer to the documentation for additional information: https://docs.wandb.ai/guides/track/tracking-faq#initstarterror-error-communicating-with-wandb-process-",
     "output_type": "error",
     "traceback": [
      "\u001b[0;31m---------------------------------------------------------------------------\u001b[0m",
      "\u001b[0;31mCommError\u001b[0m                                 Traceback (most recent call last)",
      "Cell \u001b[0;32mIn[130], line 22\u001b[0m\n\u001b[1;32m     18\u001b[0m \u001b[38;5;66;03m# val_loader = DataLoader(val_dataset, batch_size=batch_size, shuffle=False, num_workers=1, collate_fn=collate_fn)\u001b[39;00m\n\u001b[1;32m     20\u001b[0m optimizer \u001b[38;5;241m=\u001b[39m torch\u001b[38;5;241m.\u001b[39moptim\u001b[38;5;241m.\u001b[39mAdamW(model\u001b[38;5;241m.\u001b[39mparameters(), lr\u001b[38;5;241m=\u001b[39mlr)\n\u001b[0;32m---> 22\u001b[0m \u001b[43mwandb\u001b[49m\u001b[38;5;241;43m.\u001b[39;49m\u001b[43minit\u001b[49m\u001b[43m(\u001b[49m\u001b[43mproject\u001b[49m\u001b[38;5;241;43m=\u001b[39;49m\u001b[38;5;124;43m\"\u001b[39;49m\u001b[38;5;124;43mplancraft-img-encoder\u001b[39;49m\u001b[38;5;124;43m\"\u001b[39;49m\u001b[43m,\u001b[49m\u001b[43m \u001b[49m\u001b[43mentity\u001b[49m\u001b[38;5;241;43m=\u001b[39;49m\u001b[38;5;124;43m\"\u001b[39;49m\u001b[38;5;124;43mitl\u001b[39;49m\u001b[38;5;124;43m\"\u001b[39;49m\u001b[43m)\u001b[49m\n\u001b[1;32m     24\u001b[0m batch_num \u001b[38;5;241m=\u001b[39m \u001b[38;5;241m1\u001b[39m\n\u001b[1;32m     25\u001b[0m \u001b[38;5;28;01mfor\u001b[39;00m epoch \u001b[38;5;129;01min\u001b[39;00m \u001b[38;5;28mrange\u001b[39m(num_epochs):\n",
      "File \u001b[0;32m/usr/local/lib/python3.10/dist-packages/wandb/sdk/wandb_init.py:1195\u001b[0m, in \u001b[0;36minit\u001b[0;34m(job_type, dir, config, project, entity, reinit, tags, group, name, notes, magic, config_exclude_keys, config_include_keys, anonymous, mode, allow_val_change, resume, force, tensorboard, sync_tensorboard, monitor_gym, save_code, id, fork_from, resume_from, settings)\u001b[0m\n\u001b[1;32m   1191\u001b[0m     logger\u001b[38;5;241m.\u001b[39mexception(\u001b[38;5;124m\"\u001b[39m\u001b[38;5;124merror in wandb.init()\u001b[39m\u001b[38;5;124m\"\u001b[39m, exc_info\u001b[38;5;241m=\u001b[39me)\n\u001b[1;32m   1193\u001b[0m \u001b[38;5;66;03m# Need to build delay into this sentry capture because our exit hooks\u001b[39;00m\n\u001b[1;32m   1194\u001b[0m \u001b[38;5;66;03m# mess with sentry's ability to send out errors before the program ends.\u001b[39;00m\n\u001b[0;32m-> 1195\u001b[0m \u001b[43mwandb\u001b[49m\u001b[38;5;241;43m.\u001b[39;49m\u001b[43m_sentry\u001b[49m\u001b[38;5;241;43m.\u001b[39;49m\u001b[43mreraise\u001b[49m\u001b[43m(\u001b[49m\u001b[43me\u001b[49m\u001b[43m)\u001b[49m\n\u001b[1;32m   1196\u001b[0m \u001b[38;5;28;01mraise\u001b[39;00m \u001b[38;5;167;01mAssertionError\u001b[39;00m()\n",
      "File \u001b[0;32m/usr/local/lib/python3.10/dist-packages/wandb/analytics/sentry.py:155\u001b[0m, in \u001b[0;36mSentry.reraise\u001b[0;34m(self, exc)\u001b[0m\n\u001b[1;32m    152\u001b[0m \u001b[38;5;28mself\u001b[39m\u001b[38;5;241m.\u001b[39mexception(exc)\n\u001b[1;32m    153\u001b[0m \u001b[38;5;66;03m# this will messily add this \"reraise\" function to the stack trace,\u001b[39;00m\n\u001b[1;32m    154\u001b[0m \u001b[38;5;66;03m# but hopefully it's not too bad\u001b[39;00m\n\u001b[0;32m--> 155\u001b[0m \u001b[38;5;28;01mraise\u001b[39;00m exc\u001b[38;5;241m.\u001b[39mwith_traceback(sys\u001b[38;5;241m.\u001b[39mexc_info()[\u001b[38;5;241m2\u001b[39m])\n",
      "File \u001b[0;32m/usr/local/lib/python3.10/dist-packages/wandb/sdk/wandb_init.py:1181\u001b[0m, in \u001b[0;36minit\u001b[0;34m(job_type, dir, config, project, entity, reinit, tags, group, name, notes, magic, config_exclude_keys, config_include_keys, anonymous, mode, allow_val_change, resume, force, tensorboard, sync_tensorboard, monitor_gym, save_code, id, fork_from, resume_from, settings)\u001b[0m\n\u001b[1;32m   1179\u001b[0m     wi \u001b[38;5;241m=\u001b[39m _WandbInit()\n\u001b[1;32m   1180\u001b[0m     wi\u001b[38;5;241m.\u001b[39msetup(kwargs)\n\u001b[0;32m-> 1181\u001b[0m     \u001b[38;5;28;01mreturn\u001b[39;00m \u001b[43mwi\u001b[49m\u001b[38;5;241;43m.\u001b[39;49m\u001b[43minit\u001b[49m\u001b[43m(\u001b[49m\u001b[43m)\u001b[49m\n\u001b[1;32m   1183\u001b[0m \u001b[38;5;28;01mexcept\u001b[39;00m \u001b[38;5;167;01mKeyboardInterrupt\u001b[39;00m \u001b[38;5;28;01mas\u001b[39;00m e:\n\u001b[1;32m   1184\u001b[0m     \u001b[38;5;28;01mif\u001b[39;00m logger \u001b[38;5;129;01mis\u001b[39;00m \u001b[38;5;129;01mnot\u001b[39;00m \u001b[38;5;28;01mNone\u001b[39;00m:\n",
      "File \u001b[0;32m/usr/local/lib/python3.10/dist-packages/wandb/sdk/wandb_init.py:785\u001b[0m, in \u001b[0;36m_WandbInit.init\u001b[0;34m(self)\u001b[0m\n\u001b[1;32m    783\u001b[0m         backend\u001b[38;5;241m.\u001b[39mcleanup()\n\u001b[1;32m    784\u001b[0m         \u001b[38;5;28mself\u001b[39m\u001b[38;5;241m.\u001b[39mteardown()\n\u001b[0;32m--> 785\u001b[0m     \u001b[38;5;28;01mraise\u001b[39;00m error\n\u001b[1;32m    787\u001b[0m \u001b[38;5;28;01massert\u001b[39;00m run_result \u001b[38;5;129;01mis\u001b[39;00m \u001b[38;5;129;01mnot\u001b[39;00m \u001b[38;5;28;01mNone\u001b[39;00m  \u001b[38;5;66;03m# for mypy\u001b[39;00m\n\u001b[1;32m    789\u001b[0m \u001b[38;5;28;01mif\u001b[39;00m \u001b[38;5;129;01mnot\u001b[39;00m run_result\u001b[38;5;241m.\u001b[39mHasField(\u001b[38;5;124m\"\u001b[39m\u001b[38;5;124mrun\u001b[39m\u001b[38;5;124m\"\u001b[39m):\n",
      "\u001b[0;31mCommError\u001b[0m: Run initialization has timed out after 90.0 sec. \nPlease refer to the documentation for additional information: https://docs.wandb.ai/guides/track/tracking-faq#initstarterror-error-communicating-with-wandb-process-"
     ]
    }
   ],
   "source": [
    "import wandb\n",
    "from torch.utils.data import DataLoader\n",
    "\n",
    "num_epochs = 10\n",
    "batch_size = 2\n",
    "lr = 0.005\n",
    "\n",
    "def collate_fn(batch):\n",
    "    image_stack = []\n",
    "    target_stack = []\n",
    "    for img, target in batch:\n",
    "        image_stack.append(img)\n",
    "        target_stack.append(target)\n",
    "    return torch.stack(image_stack), target_stack\n",
    "\n",
    "\n",
    "train_loader = DataLoader(train_dataset, batch_size=batch_size, shuffle=True, num_workers=1, collate_fn=collate_fn)\n",
    "# val_loader = DataLoader(val_dataset, batch_size=batch_size, shuffle=False, num_workers=1, collate_fn=collate_fn)\n",
    "\n",
    "optimizer = torch.optim.AdamW(model.parameters(), lr=lr)\n",
    "\n",
    "wandb.init(project=\"plancraft-img-encoder\", entity=\"itl\")\n",
    "\n",
    "batch_num = 1\n",
    "for epoch in range(num_epochs):\n",
    "    model.train()\n",
    "    for imgs, labels in train_loader:\n",
    "        imgs = imgs.cuda()\n",
    "        for i in range(len(labels)):\n",
    "            labels[i][\"boxes\"] = labels[i][\"boxes\"].cuda()\n",
    "            labels[i][\"labels\"] = labels[i][\"labels\"].cuda()\n",
    "        loss_dict = model(imgs, labels)\n",
    "        wandb.log(loss_dict)\n",
    "        losses = sum(loss for loss in loss_dict.values())\n",
    "        optimizer.zero_grad()\n",
    "        losses.backward()\n",
    "        optimizer.step()\n",
    "        batch_num += 1\n",
    "        if batch_num % 100 == 0:\n",
    "            print(f\"Epoch {epoch}, Batch {batch_num}, Loss: {losses}\")\n",
    "\n",
    "    # model.eval()\n",
    "    # with torch.no_grad():\n",
    "    #     for imgs, labels in val_loader:\n",
    "    #         imgs = imgs.cuda()\n",
    "    #         for i in range(len(labels)):\n",
    "    #             labels[i][\"boxes\"] = labels[i][\"boxes\"].cuda()\n",
    "    #             labels[i][\"labels\"] = labels[i][\"labels\"].cuda()\n",
    "\n",
    "    #         loss_dict = model(imgs, labels)\n",
    "\n",
    "    #         val_loss_dict = {}\n",
    "    #         for k, v in loss_dict.items():\n",
    "    #             val_loss_dict[f\"val_{k}\"] = v.item()\n",
    "    #         wandb.log(val_loss_dict)\n",
    "\n",
    "    #         losses = sum(loss for loss in loss_dict.values())\n",
    "    # print(f\"Epoch {epoch}, Loss: {losses}\")\n",
    "\n",
    "# wandb.finish()"
   ]
  },
  {
   "cell_type": "code",
   "execution_count": 5,
   "metadata": {},
   "outputs": [
    {
     "name": "stdout",
     "output_type": "stream",
     "text": [
      "1\n",
      "1\n",
      "1\n",
      "1\n",
      "1\n",
      "1\n",
      "1\n",
      "1\n",
      "1\n",
      "1\n"
     ]
    }
   ],
   "source": [
    "class GenerativeDataset:\n",
    "    def __iter__(self):\n",
    "        return self\n",
    "    def __next__(self):\n",
    "        return 1\n",
    "\n",
    "a = GenerativeDataset()\n",
    "\n",
    "c = 0\n",
    "for i in a:\n",
    "    print(i)\n",
    "    c += 1\n",
    "    if c == 10:\n",
    "        break\n"
   ]
  },
  {
   "cell_type": "code",
   "execution_count": 28,
   "metadata": {},
   "outputs": [],
   "source": []
  },
  {
   "cell_type": "code",
   "execution_count": 29,
   "metadata": {},
   "outputs": [
    {
     "data": {
      "image/jpeg": "[encoded data removed]",
      "image/png": "[encoded data removed]",
      "text/plain": [
       "<PIL.Image.Image image mode=RGB size=171x164>"
      ]
     },
     "metadata": {},
     "output_type": "display_data"
    }
   ],
   "source": []
  },
  {
   "cell_type": "code",
   "execution_count": 13,
   "metadata": {},
   "outputs": [],
   "source": [
    "losses = sum(loss for loss in loss_dict.values())"
   ]
  },
  {
   "cell_type": "code",
   "execution_count": 55,
   "metadata": {},
   "outputs": [
    {
     "data": {
      "text/plain": [
       "tensor([1])"
      ]
     },
     "execution_count": 55,
     "metadata": {},
     "output_type": "execute_result"
    }
   ],
   "source": [
    "# data[0][\"pov\"]\n",
    "torch.tensor([1])"
   ]
  },
  {
   "cell_type": "code",
   "execution_count": 24,
   "metadata": {},
   "outputs": [
    {
     "data": {
      "text/plain": [
       "1"
      ]
     },
     "execution_count": 24,
     "metadata": {},
     "output_type": "execute_result"
    }
   ],
   "source": [
    "\n",
    "\n",
    "\n"
   ]
  },
  {
   "cell_type": "code",
   "execution_count": 28,
   "metadata": {},
   "outputs": [],
   "source": []
  },
  {
   "cell_type": "code",
   "execution_count": 33,
   "metadata": {},
   "outputs": [
    {
     "name": "stdout",
     "output_type": "stream",
     "text": [
      "Help on method forward in module torchvision.models.detection.generalized_rcnn:\n",
      "\n",
      "forward(images, targets=None) method of torchvision.models.detection.faster_rcnn.FasterRCNN instance\n",
      "    Args:\n",
      "        images (list[Tensor]): images to be processed\n",
      "        targets (list[Dict[str, Tensor]]): ground-truth boxes present in the image (optional)\n",
      "    \n",
      "    Returns:\n",
      "        result (list[BoxList] or dict[Tensor]): the output from the model.\n",
      "            During training, it returns a dict[Tensor] which contains the losses.\n",
      "            During testing, it returns list[BoxList] contains additional fields\n",
      "            like `scores`, `labels` and `mask` (for Mask R-CNN models).\n",
      "\n"
     ]
    }
   ],
   "source": [
    "help(model.forward)"
   ]
  },
  {
   "cell_type": "code",
   "execution_count": 89,
   "metadata": {},
   "outputs": [
    {
     "name": "stdout",
     "output_type": "stream",
     "text": [
      "/plancraft/outputs/oracle_real/train/0/TRAIN0157.json\n",
      "/plancraft/outputs/oracle_real/train/0/TRAIN0071.json\n"
     ]
    }
   ],
   "source": [
    "import glob\n",
    "import numpy as np\n",
    "from PIL import Image, ImageSequence\n",
    "\n",
    "observed_data = []\n",
    "\n",
    "for f in glob.glob(\"/plancraft/outputs/oracle_real/train/0/*.json\"):\n",
    "    with open(f, \"r\") as file:\n",
    "        inventories = json.load(file)[\"model_trace\"][\"inventory_history\"]\n",
    "    gif_path = str(f).replace(\".json\", \".gif\")\n",
    "    # load gif as list of images\n",
    "    gif = Image.open(gif_path)\n",
    "    frames = [frame.copy() for frame in ImageSequence.Iterator(gif)]\n",
    "    if len(frames) != len(inventories):\n",
    "        print(f)\n",
    "    else:\n",
    "        for frame, inv in zip(frames, inventories):\n",
    "            clean_inv = []\n",
    "            for item in inv:\n",
    "                if item[\"quantity\"] > 0:\n",
    "                    clean_inv.append(\n",
    "                        {\n",
    "                            \"type\": item[\"type\"],\n",
    "                            \"slot\": item[\"index\"],\n",
    "                            \"quantity\": item[\"quantity\"],\n",
    "                            \"bbox\": slot_to_bbox(item[\"index\"]),\n",
    "                        }\n",
    "                    )\n",
    "            observed_data.append(\n",
    "                {\"inventory\": clean_inv, \"pov\": np.array(frame.convert(\"RGB\"))}\n",
    "            )\n",
    "    # assert len(frames) == len(inv), (len(frames), len(inv))"
   ]
  },
  {
   "cell_type": "code",
   "execution_count": 125,
   "metadata": {},
   "outputs": [],
   "source": [
    "import torch\n",
    "from torch.utils.data import Dataset\n",
    "import torchvision.transforms as transforms\n",
    "\n",
    "\n",
    "class InventoryDataset(Dataset):\n",
    "    def __init__(self, data):\n",
    "        self.data = data\n",
    "        self.transform = transforms.Compose(\n",
    "            [\n",
    "                transforms.ToTensor(),\n",
    "                transforms.Resize((224, 224)),  # Resize images to 224x224\n",
    "            ]\n",
    "        )\n",
    "\n",
    "    def __len__(self):\n",
    "        return len(self.data)\n",
    "\n",
    "    def __getitem__(self, idx):\n",
    "        item = self.data[idx]\n",
    "        pov = item[\"pov\"]\n",
    "        pov = self.transform(pov)\n",
    "\n",
    "        inventory = item[\"inventory\"]\n",
    "        types = [i[\"type\"] for i in inventory]\n",
    "        slots = [i[\"slot\"] for i in inventory]\n",
    "        quantities = [i[\"quantity\"] for i in inventory]\n",
    "        bboxes = [i[\"bbox\"] for i in inventory]\n",
    "\n",
    "        return pov, types, slots, quantities, bboxes\n",
    "\n",
    "\n",
    "def collate_fn(batch):\n",
    "    return tuple(zip(*batch))\n",
    "\n",
    "dataset = InventoryDataset(observed_data)\n",
    "train_loader = torch.utils.data.DataLoader(\n",
    "    dataset, batch_size=32, shuffle=True, collate_fn=collate_fn\n",
    ")\n",
    "batch = next(iter(train_loader))"
   ]
  },
  {
   "cell_type": "code",
   "execution_count": 135,
   "metadata": {},
   "outputs": [
    {
     "name": "stderr",
     "output_type": "stream",
     "text": [
      "/usr/local/lib/python3.10/dist-packages/torchvision/models/_utils.py:208: UserWarning: The parameter 'pretrained' is deprecated since 0.13 and may be removed in the future, please use 'weights' instead.\n",
      "  warnings.warn(\n",
      "/usr/local/lib/python3.10/dist-packages/torchvision/models/_utils.py:223: UserWarning: Arguments other than a weight enum or `None` for 'weights' are deprecated since 0.13 and may be removed in the future. The current behavior is equivalent to passing `weights=ResNet18_Weights.IMAGENET1K_V1`. You can also use `weights=ResNet18_Weights.DEFAULT` to get the most up-to-date weights.\n",
      "  warnings.warn(msg)\n"
     ]
    },
    {
     "name": "stdout",
     "output_type": "stream",
     "text": [
      "Model has 11M parameters\n"
     ]
    }
   ],
   "source": [
    "import torch.nn as nn\n",
    "import torchvision.models as models\n",
    "\n",
    "class InventoryModel(nn.Module):\n",
    "    def __init__(self, num_types, num_slots):\n",
    "        super(InventoryModel, self).__init__()\n",
    "        self.backbone = models.resnet18(pretrained=True)\n",
    "        self.backbone.fc = nn.Identity()  # Remove the classification layer\n",
    "\n",
    "        # Bounding box head\n",
    "        self.bbox_head = nn.Sequential(\n",
    "            nn.Linear(512, 128),\n",
    "            nn.ReLU(),\n",
    "            nn.Linear(128, 4),  # 4 coordinates for the bounding box\n",
    "        )\n",
    "\n",
    "        # Slot index prediction head\n",
    "        self.slot_head = nn.Sequential(\n",
    "            nn.Linear(512, 128), nn.ReLU(), nn.Linear(128, num_slots), nn.Softmax(dim=1)\n",
    "        )\n",
    "\n",
    "        # Quantity prediction head\n",
    "        self.quantity_head = nn.Sequential(\n",
    "            nn.Linear(512, 128),\n",
    "            nn.ReLU(),\n",
    "            nn.Linear(128, 64),\n",
    "            nn.Softmax(dim=1), \n",
    "        )\n",
    "\n",
    "    def count_parameters(self):\n",
    "        return sum(p.numel() for p in self.parameters() if p.requires_grad) // 1000000\n",
    "\n",
    "    def forward(self, x):\n",
    "        features = self.backbone(x)\n",
    "        bbox = self.bbox_head(features)\n",
    "        # types = self.type_head(features)\n",
    "        slots = self.slot_head(features)\n",
    "        quantity = self.quantity_head(features)\n",
    "        return bbox, slots, quantity\n",
    "\n",
    "\n",
    "# Example usage\n",
    "model = InventoryModel(num_types=100, num_slots=45)  # Replace with actual numbers\n",
    "model = model.cuda()\n",
    "# Count number of parameters\n",
    "print(f\"Model has {model.count_parameters()}M parameters\")"
   ]
  },
  {
   "cell_type": "markdown",
   "metadata": {},
   "source": [
    "# Get oracle O,A Dialogues"
   ]
  },
  {
   "cell_type": "code",
   "execution_count": 1,
   "metadata": {},
   "outputs": [],
   "source": [
    "import json\n",
    "import glob\n",
    "import numpy as np\n",
    "from PIL import Image, ImageSequence\n",
    "\n",
    "oracle_trajectories_train = []\n",
    "oracle_results = {\n",
    "    \"/plancraft/outputs/oracle_real/train/0/*.json\": [],\n",
    "    \"/plancraft/outputs/oracle_real/val/0/*.json\": [],\n",
    "}\n",
    "for path in oracle_results.keys():\n",
    "    for f in glob.glob(path):\n",
    "        with open(f, \"r\") as file:\n",
    "            traj = json.load(file)\n",
    "\n",
    "        images = []\n",
    "        gif_path = str(f).replace(\".json\", \".gif\")\n",
    "        gif = Image.open(gif_path)\n",
    "        for frame in ImageSequence.Iterator(gif):\n",
    "            images.append(np.array(frame.convert(\"RGB\")))\n",
    "        traj[\"model_trace\"][\"images\"] = images\n",
    "\n",
    "        if (\n",
    "            len(traj[\"model_trace\"][\"images\"])\n",
    "            == len(traj[\"model_trace\"][\"inventory_history\"])\n",
    "            == len(traj[\"model_trace\"][\"action_history\"])\n",
    "        ):\n",
    "            oracle_results[path].append(traj)\n",
    "        else:\n",
    "            print(f)"
   ]
  },
  {
   "cell_type": "code",
   "execution_count": 26,
   "metadata": {},
   "outputs": [],
   "source": [
    "import os\n",
    "from plancraft.models.react_prompts import REACT_SYSTEM_PROMPT\n",
    "from collections import defaultdict\n",
    "\n",
    "\n",
    "def convert_obs_to_text(objective: str, inventory: list[dict]):\n",
    "    return f\"TASK: {objective}\\ninventory={json.dumps(inventory)}\"\n",
    "\n",
    "\n",
    "def convert_action_to_text(action: dict):\n",
    "    # {'action_type': 'move', 'slot_from': 17, 'slot_to': 1, 'quantity': 1}\n",
    "    return f\"act: {action['action_type']} from slot {action['slot_from']} to slot {action['slot_to']} with quantity {action['quantity']}\"\n",
    "\n",
    "\n",
    "# convert action and inventory to dialogue history\n",
    "def convert_trajectory_to_base_dialogue(traj: dict):\n",
    "    dialogue = [{\"role\": \"system\", \"content\": REACT_SYSTEM_PROMPT}]\n",
    "    objective = traj[\"model_trace\"][\"objective\"]\n",
    "    for _, action, inventory in zip(\n",
    "        traj[\"model_trace\"][\"images\"],\n",
    "        traj[\"model_trace\"][\"action_history\"],\n",
    "        traj[\"model_trace\"][\"inventory_history\"],\n",
    "    ):\n",
    "        dialogue.append(\n",
    "            {\n",
    "                \"role\": \"user\",\n",
    "                \"content\": convert_obs_to_text(objective, inventory),\n",
    "            }\n",
    "        )\n",
    "        dialogue.append(\n",
    "            {\n",
    "                \"role\": \"assistant\",\n",
    "                \"content\": convert_action_to_text(action),\n",
    "            }\n",
    "        )\n",
    "    example = {\n",
    "        \"messages\": dialogue,\n",
    "        \"example_id\": traj[\"example_id\"],\n",
    "    }\n",
    "    return example\n",
    "\n",
    "\n",
    "# convert action and inventory to dialogue history\n",
    "def convert_trajectory_to_image_dialogue(traj: dict):\n",
    "    dialogue = [\n",
    "        {\"role\": \"system\", \"content\": [{\"type\": \"text\", \"text\": REACT_SYSTEM_PROMPT}]}\n",
    "    ]\n",
    "    objective = traj[\"model_trace\"][\"objective\"]\n",
    "    images = []\n",
    "    for image, action, inventory in zip(\n",
    "        traj[\"model_trace\"][\"images\"],\n",
    "        traj[\"model_trace\"][\"action_history\"],\n",
    "        traj[\"model_trace\"][\"inventory_history\"],\n",
    "    ):\n",
    "        dialogue.append(\n",
    "            {\n",
    "                \"role\": \"user\",\n",
    "                \"content\": [{\"type\": \"image\"}, {\"type\": \"text\", \"text\": objective}],\n",
    "            }\n",
    "        )\n",
    "        dialogue.append(\n",
    "            {\n",
    "                \"role\": \"assistant\",\n",
    "                \"content\": [{\"type\": \"text\", \"text\": convert_action_to_text(action)}],\n",
    "            }\n",
    "        )\n",
    "        images.append(image)\n",
    "    example = {\n",
    "        \"messages\": dialogue,\n",
    "        \"example_id\": traj[\"example_id\"],\n",
    "    }\n",
    "    return example, images\n",
    "\n",
    "\n",
    "text_data = defaultdict(list)\n",
    "mm_data = defaultdict(list)\n",
    "for path, trajs in oracle_results.items():\n",
    "    split = path.split(\"/\")[-3]\n",
    "    for traj in trajs:\n",
    "        text_example = convert_trajectory_to_base_dialogue(traj)\n",
    "        text_data[split].append(text_example)\n",
    "        mm_example, example_imgs = convert_trajectory_to_image_dialogue(traj)\n",
    "        mm_data[split].append(mm_example)\n",
    "        # save imgs as png in format \"data/oracle/{split}/{example_id}_{step}.gif\"\n",
    "        os.makedirs(f\"data/oracle/{split}\", exist_ok=True)\n",
    "        for i, img in enumerate(example_imgs):\n",
    "            Image.fromarray(img).save(\n",
    "                f\"data/oracle/{split}/{traj['example_id']}_{i}.png\"\n",
    "            )\n",
    "\n",
    "    # save as jsonl file\n",
    "    with open(f\"data/oracle/{split}.jsonl\", \"w\") as f:\n",
    "        for example in text_data[split]:\n",
    "            f.write(json.dumps(example) + \"\\n\")\n",
    "\n",
    "    with open(f\"data/oracle/{split}.mm.jsonl\", \"w\") as f:\n",
    "        for example in mm_data[split]:\n",
    "            f.write(json.dumps(example) + \"\\n\")"
   ]
  },
  {
   "cell_type": "markdown",
   "metadata": {},
   "source": [
    "# Generate Thought traces"
   ]
  },
  {
   "cell_type": "code",
   "execution_count": 1,
   "metadata": {},
   "outputs": [],
   "source": [
    "import json\n",
    "import pandas as pd\n",
    "\n",
    "split = \"train\"\n",
    "with open(f\"data/{split}.json\", \"r\") as f:\n",
    "    examples = json.load(f)\n",
    "df = pd.DataFrame(examples)\n",
    "\n",
    "dialogues = []\n",
    "with open(f\"data/oracle/{split}.jsonl\", \"r\") as f:\n",
    "    for line in f:\n",
    "        dialogues.append(json.loads(line))\n",
    "\n",
    "dialogue_df = pd.DataFrame(dialogues)\n",
    "\n",
    "df = pd.merge(df, dialogue_df, left_on=\"id\", right_on=\"example_id\", how=\"inner\")"
   ]
  },
  {
   "cell_type": "code",
   "execution_count": 16,
   "metadata": {},
   "outputs": [],
   "source": [
    "BASE_PROMPT = \"\"\"\n",
    "You are crafting in Minecraft.\n",
    "\n",
    "The first 10 slots in the inventory are reserved for crafting and correspond to the minecraft crafting table.\n",
    "[1, 2, 3]\n",
    "[4, 5, 6] -> [0]\n",
    "[7, 8, 9]\n",
    "\n",
    "The crafting matrix is a 3x3 grid, and the output is sent to slot 0.\n",
    "You cannot move or smelt items into output slot 0.\n",
    "The remaining slots (10-45) are for storing items.\n",
    "\n",
    "For a given observation action pair, you should explain the reasoning behind taking that action. Mention the state of the environment, what the next recipe to craft is (in the context of the greater planning problem) and why this move should be taken.\n",
    "\n",
    "Examples:\n",
    "\n",
    "TASK: Craft an item of type: andesite\n",
    "Crafting path: [andesite]\n",
    "\n",
    "1. inventory='[{\"type\": \"diorite\", \"slot\": 27, \"quantity\": 1},{\"type\": \"cobblestone\", \"slot\": 39, \"quantity\": 1}]'\n",
    "action: move from slot 27 to slot 4 with quantity 1\n",
    "thought: To solve this task I need to craft andesite. Andesite requires placing 1 diorite and 1 cobblestone side by side in the crafting table, therefore I will first need to move the diorite from slot 27 into the crafting grid. \n",
    "\n",
    "2. inventory=[{\"type\": \"diorite\", \"slot\": 4, \"quantity\": 1},{\"type\": \"cobblestone\", \"slot\": 39, \"quantity\": 1}]\n",
    "action: move from slot 39 to slot 5 with quantity 1\n",
    "thought: Since the diorite has been moved into the crafting grid, I now need to move the cobblestone to the right of it. Slot 5 is to the right of slot 4, and therefore I will move the cobblestone to slot 5.\n",
    "\n",
    "3. inventory=[{\"type\": \"andesite\", \"slot\": 0, \"quantity\": 1},{\"type\": \"diorite\", \"slot\": 4, \"quantity\": 1},{\"type\": \"cobblestone\", \"slot\": 5, \"quantity\": 1}]\n",
    "action: move from slot 0 to slot 15 with quantity 1\n",
    "thought: Now I can craft the andesite by moving it from the craft slot (0) to a free inventory slot (eg., 15). \n",
    "\n",
    "TASK: Craft an item of type: iron_ingot\n",
    "Crafting path: [iron_ingot]\n",
    "\n",
    "1. inventory='[{\"type\": \"iron_ore\", \"slot\": 45, \"quantity\": 1},{\"type\": \"cobblestone\", \"slot\": 39, \"quantity\": 1}]\n",
    "action: smelt from slot 45 to slot 44 with quantity 1\n",
    "thought: To craft an iron_ingot, I need to smelt the iron_ore at slot 45 into an empty slot (eg., 44).\n",
    "\n",
    "\"\"\""
   ]
  },
  {
   "cell_type": "code",
   "execution_count": 3,
   "metadata": {},
   "outputs": [
    {
     "name": "stderr",
     "output_type": "stream",
     "text": [
      "/usr/local/lib/python3.10/dist-packages/tqdm/auto.py:21: TqdmWarning: IProgress not found. Please update jupyter and ipywidgets. See https://ipywidgets.readthedocs.io/en/stable/user_install.html\n",
      "  from .autonotebook import tqdm as notebook_tqdm\n",
      "Special tokens have been added in the vocabulary, make sure the associated word embeddings are fine-tuned or trained.\n",
      "Loading checkpoint shards: 100%|██████████| 30/30 [00:24<00:00,  1.24it/s]\n"
     ]
    }
   ],
   "source": [
    "from transformers import AutoTokenizer, AutoModelForCausalLM\n",
    "import torch\n",
    "\n",
    "model_name = \"/nfs/public/hf/models/meta-llama/Meta-Llama-3-70B\"\n",
    "tokenizer = AutoTokenizer.from_pretrained(model_name, local_files_only=True)\n",
    "model = AutoModelForCausalLM.from_pretrained(\n",
    "    model_name,\n",
    "    local_files_only=True,\n",
    "    device_map=\"auto\",\n",
    "    torch_dtype=torch.bfloat16,\n",
    ")"
   ]
  },
  {
   "cell_type": "code",
   "execution_count": 12,
   "metadata": {},
   "outputs": [],
   "source": [
    "from transformers import StopStringCriteria, StoppingCriteriaList\n",
    "\n",
    "stopping_criteria = StoppingCriteriaList([StopStringCriteria(\n",
    "    tokenizer=tokenizer, stop_strings=[\"\\n\", \"\\n\\n\", \".\\n\\n\", \"\\n\\n\\n\"]\n",
    ")])"
   ]
  },
  {
   "cell_type": "code",
   "execution_count": 19,
   "metadata": {},
   "outputs": [
    {
     "name": "stderr",
     "output_type": "stream",
     "text": [
      "Setting `pad_token_id` to `eos_token_id`:128001 for open-end generation.\n",
      "/usr/local/lib/python3.10/dist-packages/transformers/generation/utils.py:1797: UserWarning: You are calling .generate() with the `input_ids` being on a device type different than your model's device. `input_ids` is on cpu, whereas the model is on cuda. You may experience unexpected behaviors or slower generation. Please make sure that you have put `input_ids` to the correct device by calling for example input_ids = input_ids.to('cuda') before running `.generate()`.\n",
      "  warnings.warn(\n",
      "Setting `pad_token_id` to `eos_token_id`:128001 for open-end generation.\n"
     ]
    },
    {
     "name": "stdout",
     "output_type": "stream",
     "text": [
      "[{'role': 'user', 'content': 'TASK: Craft an item of type: red_dye\\ninventory=[{\"type\": \"torch\", \"quantity\": 57, \"index\": 19}, {\"type\": \"wooden_pickaxe\", \"quantity\": 1, \"index\": 21}, {\"type\": \"map\", \"quantity\": 22, \"index\": 26}, {\"type\": \"beetroot\", \"quantity\": 1, \"index\": 35}, {\"type\": \"lodestone\", \"quantity\": 50, \"index\": 36}]'}, {'role': 'assistant', 'content': 'To craft a red_dye, I need to move the beetroot from slot 35 to slot 1.'}, {'role': 'user', 'content': 'Ok'}, {'role': 'assistant', 'content': 'act: move from slot 35 to slot 1 with quantity 1'}, {'role': 'user', 'content': 'TASK: Craft an item of type: red_dye\\ninventory=[{\"type\": \"red_dye\", \"quantity\": 1, \"index\": 0}, {\"type\": \"beetroot\", \"quantity\": 1, \"index\": 1}, {\"type\": \"torch\", \"quantity\": 57, \"index\": 19}, {\"type\": \"wooden_pickaxe\", \"quantity\": 1, \"index\": 21}, {\"type\": \"map\", \"quantity\": 22, \"index\": 26}, {\"type\": \"lodestone\", \"quantity\": 50, \"index\": 36}]'}, {'role': 'assistant', 'content': 'Now that the red_dye is in the crafting slot, I can move it to the inventory slot 11.'}, {'role': 'user', 'content': 'Ok'}, {'role': 'assistant', 'content': 'act: move from slot 0 to slot 11 with quantity 1'}]\n"
     ]
    }
   ],
   "source": [
    "def generate_thoughts(row):\n",
    "    step = 1\n",
    "    task_message = BASE_PROMPT + row.messages[1][\"content\"].split(\"\\n\")[0]\n",
    "    task_message += f\"\\nCrafting path: {row.optimal_path}\"\n",
    "    OTA_messages = []\n",
    "    for i in range(1, len(row.messages), 2):\n",
    "        user_entry = row.messages[i]\n",
    "        assert user_entry[\"role\"] == \"user\"\n",
    "        assistant_entry = row.messages[i + 1]\n",
    "        assert assistant_entry[\"role\"] == \"assistant\"\n",
    "        inventory = user_entry[\"content\"].split(\"inventory=\")[1]\n",
    "        action = assistant_entry[\"content\"]\n",
    "        task_message += f\"\\n\\n{step}. inventory={inventory}\\naction: {action}\\nthought:\"\n",
    "        tokenized_prompt = tokenizer(task_message, return_tensors=\"pt\")\n",
    "        outputs = model.generate(\n",
    "            **tokenized_prompt,\n",
    "            tokenizer=tokenizer,\n",
    "            max_new_tokens=128,\n",
    "            do_sample=True,\n",
    "            temperature=0.6,\n",
    "            top_p=0.9,\n",
    "            stopping_criteria=[stopping_criteria],\n",
    "        )\n",
    "        # Decode the generated output\n",
    "        generated_text = tokenizer.decode(outputs[0], skip_special_tokens=True).rstrip(\n",
    "            \"\\n\"\n",
    "        )\n",
    "        thought = generated_text.split(\"thought:\")[-1].strip()\n",
    "        OTA_messages.append(user_entry)  # Observation\n",
    "        OTA_messages.append({\"role\": \"assistant\", \"content\": f\"thought: {thought}\"})  # Thought\n",
    "        OTA_messages.append({\"role\": \"user\", \"content\": \"Ok\"})\n",
    "        OTA_messages.append(assistant_entry) # Action\n",
    "        task_message = generated_text\n",
    "        step += 1\n",
    "    return OTA_messages\n",
    "\n",
    "# Convert and print the result\n",
    "output = generate_thoughts(df.iloc[0])\n",
    "print(output)"
   ]
  },
  {
   "cell_type": "code",
   "execution_count": 24,
   "metadata": {},
   "outputs": [
    {
     "data": {
      "text/plain": [
       "'TRAIN0001'"
      ]
     },
     "execution_count": 24,
     "metadata": {},
     "output_type": "execute_result"
    }
   ],
   "source": [
    "df.iloc[0][\"id\"]"
   ]
  }
 ],
 "metadata": {
  "kernelspec": {
   "display_name": "Python 3",
   "language": "python",
   "name": "python3"
  },
  "language_info": {
   "codemirror_mode": {
    "name": "ipython",
    "version": 3
   },
   "file_extension": ".py",
   "mimetype": "text/x-python",
   "name": "python",
   "nbconvert_exporter": "python",
   "pygments_lexer": "ipython3",
   "version": "3.10.12"
  }
 },
 "nbformat": 4,
 "nbformat_minor": 2
}
