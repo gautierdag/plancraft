{
 "cells": [
  {
   "cell_type": "code",
   "execution_count": 2,
   "metadata": {},
   "outputs": [
    {
     "name": "stderr",
     "output_type": "stream",
     "text": [
      "/usr/local/lib/python3.10/dist-packages/gym/wrappers/monitoring/video_recorder.py:9: DeprecationWarning: The distutils package is deprecated and slated for removal in Python 3.12. Use setuptools or check PEP 632 for potential alternatives\n",
      "  import distutils.spawn\n",
      "/usr/lib/python3.10/runpy.py:126: RuntimeWarning: 'minerl.utils.process_watcher' found in sys.modules after import of package 'minerl.utils', but prior to execution of 'minerl.utils.process_watcher'; this may result in unpredictable behaviour\n",
      "  warn(RuntimeWarning(msg))\n"
     ]
    }
   ],
   "source": [
    "from plancraft.environments.env_real import RealPlancraft\n",
    "\n",
    "env = RealPlancraft(\n",
    "    inventory=[{\"type\": \"beetroot_soup\", \"quantity\": 1, \"slot\": 45}],\n",
    "    symbolic_action_space=True,\n",
    "    symbolic_observation_space=True,\n",
    "    resolution=[512, 512],\n",
    "    crop=True,\n",
    ")\n",
    "data = []"
   ]
  },
  {
   "cell_type": "code",
   "execution_count": 1,
   "metadata": {},
   "outputs": [
    {
     "name": "stderr",
     "output_type": "stream",
     "text": [
      "/usr/local/lib/python3.10/dist-packages/torchvision/models/_utils.py:208: UserWarning: The parameter 'pretrained' is deprecated since 0.13 and may be removed in the future, please use 'weights' instead.\n",
      "  warnings.warn(\n",
      "/usr/local/lib/python3.10/dist-packages/torchvision/models/_utils.py:223: UserWarning: Arguments other than a weight enum or `None` for 'weights' are deprecated since 0.13 and may be removed in the future. The current behavior is equivalent to passing `weights=None`.\n",
      "  warnings.warn(msg)\n"
     ]
    },
    {
     "name": "stdout",
     "output_type": "stream",
     "text": [
      "Loaded model\n"
     ]
    }
   ],
   "source": [
    "import torch\n",
    "from train_fast_rcnn import M1, M2, prepare_m2_batch, sample_environment\n",
    "\n",
    "# m1_path = \"m1.pth\"\n",
    "# m2_path = \"m2.pth\"\n",
    "# M1_model = M1(weights_path = m1_path)\n",
    "# M1_model = M1_model.cuda()\n",
    "M2_model = M2()\n",
    "M2_model = M2_model.cuda()\n",
    "print(\"Loaded model\")\n",
    "\n",
    "N = 1000\n",
    "lr = 0.001\n",
    "batch_size = 4\n",
    "save_every = 100\n",
    "count = 0\n",
    "# m1_optimizer = torch.optim.AdamW(M1_model.parameters(), lr=lr)\n",
    "m2_optimizer = torch.optim.AdamW(M2_model.parameters(), lr=lr)"
   ]
  },
  {
   "cell_type": "code",
   "execution_count": 2,
   "metadata": {},
   "outputs": [
    {
     "name": "stderr",
     "output_type": "stream",
     "text": [
      "/usr/local/lib/python3.10/dist-packages/gym/wrappers/monitoring/video_recorder.py:9: DeprecationWarning: The distutils package is deprecated and slated for removal in Python 3.12. Use setuptools or check PEP 632 for potential alternatives\n",
      "  import distutils.spawn\n",
      "/usr/lib/python3.10/runpy.py:126: RuntimeWarning: 'minerl.utils.process_watcher' found in sys.modules after import of package 'minerl.utils', but prior to execution of 'minerl.utils.process_watcher'; this may result in unpredictable behaviour\n",
      "  warn(RuntimeWarning(msg))\n"
     ]
    },
    {
     "name": "stdout",
     "output_type": "stream",
     "text": [
      "Env loaded\n"
     ]
    }
   ],
   "source": [
    "for images, targets, raw_images, inv in sample_environment(N=N, batch_size=batch_size):\n",
    "        break"
   ]
  },
  {
   "cell_type": "code",
   "execution_count": 3,
   "metadata": {},
   "outputs": [],
   "source": [
    "from PIL import Image\n",
    "\n",
    "# train M2\n",
    "for img, inventory in zip(raw_images, inv):\n",
    "    i = Image.fromarray(img.copy())\n",
    "    m2_batch = prepare_m2_batch(i, inventory)\n",
    "    m2_batch[\"bbox_tensors\"] = torch.stack(m2_batch[\"bbox_tensors\"]).cuda()\n",
    "    m2_batch[\"item_quantity\"] = m2_batch[\"item_quantity\"].unsqueeze(1).cuda()\n",
    "    m2_batch[\"item_locations\"] = m2_batch[\"item_locations\"].cuda()\n",
    "    m2_batch[\"item_types\"] = m2_batch[\"item_types\"].cuda()\n",
    "    break\n",
    "    # M2_model.train()\n",
    "    # M2_model(m2_batch)\n",
    "    # losses = sum(loss for loss in loss_dict.values())\n",
    "    # m2_optimizer.zero_grad()\n",
    "    # losses.backward()\n",
    "    # m2_optimizer.step()\n",
    "\n",
    "# N = len(m2_batch[\"item_types\"])\n",
    "# encoded_img = M2_model.img_encoder(m2_batch[\"bbox_tensors\"]).reshape(N, -1)\n",
    "\n",
    "# M2_model.quantity_encoder(m2_batch[\"item_quantity\"].unsqueeze(1))\n",
    "\n",
    "# m2_batch[\"item_quantity\"].shape\n",
    "# \n",
    "# m2_batch[\"item_quantity\"]\n"
   ]
  },
  {
   "cell_type": "code",
   "execution_count": 112,
   "metadata": {},
   "outputs": [],
   "source": [
    "import glob\n",
    "from PIL import Image\n",
    "import numpy as np\n",
    "\n",
    "\n",
    "image_paths = glob.glob(\"data/oracle/train/imgs/*.png\")\n",
    "# load images\n",
    "image_arrays = [Image.open(p) for p in image_paths]\n",
    "# to tensor\n",
    "image_tensors = [np.array(i)/255 for i in image_arrays]\n",
    "\n",
    "# stack\n",
    "image_tensors = np.stack(image_tensors)"
   ]
  },
  {
   "cell_type": "code",
   "execution_count": 115,
   "metadata": {},
   "outputs": [
    {
     "name": "stdout",
     "output_type": "stream",
     "text": [
      "[0.63818245 0.63606814 0.63203097] [0.20783292 0.21012318 0.21597961]\n"
     ]
    }
   ],
   "source": [
    "image_tensors_mean = image_tensors.mean(axis=(0, 1, 2))\n",
    "image_tensors_std = image_tensors.std(axis=(0, 1, 2))\n",
    "print(image_tensors_mean, image_tensors_std)"
   ]
  },
  {
   "cell_type": "code",
   "execution_count": 117,
   "metadata": {},
   "outputs": [
    {
     "data": {
      "text/plain": [
       "'air'"
      ]
     },
     "execution_count": 117,
     "metadata": {},
     "output_type": "execute_result"
    }
   ],
   "source": [
    "from minerl.herobraine.hero.mc import ALL_ITEMS"
   ]
  },
  {
   "cell_type": "code",
   "execution_count": 6,
   "metadata": {},
   "outputs": [],
   "source": [
    "from typing import Dict, List\n",
    "import torch.nn as nn\n",
    "from torchvision.models.detection.roi_heads import (\n",
    "    RoIHeads,\n",
    "    fastrcnn_loss,\n",
    "    maskrcnn_loss,\n",
    "    maskrcnn_inference,\n",
    "    keypointrcnn_loss,\n",
    "    keypointrcnn_inference,\n",
    ")\n",
    "\n",
    "\n",
    "class OverrideRoIHeads(RoIHeads):\n",
    "    def __init__(self, *args, **kwargs):\n",
    "        super().__init__(*args, **kwargs)\n",
    "        self.quantity_predictor = nn.Sequential(nn.Linear(1024, 1), nn.Sigmoid())\n",
    "\n",
    "    def forward(\n",
    "        self,\n",
    "        features,  # type: Dict[str, Tensor]\n",
    "        proposals,  # type: List[Tensor]\n",
    "        image_shapes,  # type: List[Tuple[int, int]]\n",
    "        targets=None,  # type: Optional[List[Dict[str, Tensor]]]\n",
    "    ):\n",
    "        \"\"\"\n",
    "        Args:\n",
    "            features (List[Tensor])\n",
    "            proposals (List[Tensor[N, 4]])\n",
    "            image_shapes (List[Tuple[H, W]])\n",
    "            targets (List[Dict])\n",
    "        \"\"\"\n",
    "        if targets is not None:\n",
    "            for t in targets:\n",
    "                # TODO: https://github.com/pytorch/pytorch/issues/26731\n",
    "                floating_point_types = (torch.float, torch.double, torch.half)\n",
    "                if not t[\"boxes\"].dtype in floating_point_types:\n",
    "                    raise TypeError(\n",
    "                        f\"target boxes must of float type, instead got {t['boxes'].dtype}\"\n",
    "                    )\n",
    "                if not t[\"labels\"].dtype == torch.int64:\n",
    "                    raise TypeError(\n",
    "                        f\"target labels must of int64 type, instead got {t['labels'].dtype}\"\n",
    "                    )\n",
    "                if self.has_keypoint():\n",
    "                    if not t[\"keypoints\"].dtype == torch.float32:\n",
    "                        raise TypeError(\n",
    "                            f\"target keypoints must of float type, instead got {t['keypoints'].dtype}\"\n",
    "                        )\n",
    "\n",
    "        if self.training:\n",
    "            proposals, matched_idxs, labels, regression_targets = (\n",
    "                self.select_training_samples(proposals, targets)\n",
    "            )\n",
    "        else:\n",
    "            labels = None\n",
    "            regression_targets = None\n",
    "            matched_idxs = None\n",
    "\n",
    "        box_features = self.box_roi_pool(features, proposals, image_shapes)\n",
    "        box_features = self.box_head(box_features)\n",
    "        class_logits, box_regression = self.box_predictor(box_features)\n",
    "        quantity_logits = self.quantity_predictor(box_features)\n",
    "\n",
    "        result: List[Dict[str, torch.Tensor]] = []\n",
    "        losses = {}\n",
    "        if self.training:\n",
    "            if labels is None:\n",
    "                raise ValueError(\"labels cannot be None\")\n",
    "            if regression_targets is None:\n",
    "                raise ValueError(\"regression_targets cannot be None\")\n",
    "            loss_classifier, loss_box_reg = fastrcnn_loss(\n",
    "                class_logits, box_regression, labels, regression_targets\n",
    "            )\n",
    "\n",
    "\n",
    "            losses = {\"loss_classifier\": loss_classifier, \"loss_box_reg\": loss_box_reg}\n",
    "        else:\n",
    "            boxes, scores, labels = self.postprocess_detections(\n",
    "                class_logits, box_regression, proposals, image_shapes\n",
    "            )\n",
    "            num_images = len(boxes)\n",
    "            for i in range(num_images):\n",
    "                result.append(\n",
    "                    {\n",
    "                        \"boxes\": boxes[i],\n",
    "                        \"labels\": labels[i],\n",
    "                        \"scores\": scores[i],\n",
    "                    }\n",
    "                )\n",
    "\n",
    "        if self.has_mask():\n",
    "            mask_proposals = [p[\"boxes\"] for p in result]\n",
    "            if self.training:\n",
    "                if matched_idxs is None:\n",
    "                    raise ValueError(\"if in training, matched_idxs should not be None\")\n",
    "\n",
    "                # during training, only focus on positive boxes\n",
    "                num_images = len(proposals)\n",
    "                mask_proposals = []\n",
    "                pos_matched_idxs = []\n",
    "                for img_id in range(num_images):\n",
    "                    pos = torch.where(labels[img_id] > 0)[0]\n",
    "                    mask_proposals.append(proposals[img_id][pos])\n",
    "                    pos_matched_idxs.append(matched_idxs[img_id][pos])\n",
    "            else:\n",
    "                pos_matched_idxs = None\n",
    "\n",
    "            if self.mask_roi_pool is not None:\n",
    "                mask_features = self.mask_roi_pool(features, mask_proposals, image_shapes)\n",
    "                mask_features = self.mask_head(mask_features)\n",
    "                mask_logits = self.mask_predictor(mask_features)\n",
    "            else:\n",
    "                raise Exception(\"Expected mask_roi_pool to be not None\")\n",
    "\n",
    "            loss_mask = {}\n",
    "            if self.training:\n",
    "                if targets is None or pos_matched_idxs is None or mask_logits is None:\n",
    "                    raise ValueError(\n",
    "                        \"targets, pos_matched_idxs, mask_logits cannot be None when training\"\n",
    "                    )\n",
    "\n",
    "                gt_masks = [t[\"masks\"] for t in targets]\n",
    "                gt_labels = [t[\"labels\"] for t in targets]\n",
    "                rcnn_loss_mask = maskrcnn_loss(\n",
    "                    mask_logits, mask_proposals, gt_masks, gt_labels, pos_matched_idxs\n",
    "                )\n",
    "                loss_mask = {\"loss_mask\": rcnn_loss_mask}\n",
    "            else:\n",
    "                labels = [r[\"labels\"] for r in result]\n",
    "                masks_probs = maskrcnn_inference(mask_logits, labels)\n",
    "                for mask_prob, r in zip(masks_probs, result):\n",
    "                    r[\"masks\"] = mask_prob\n",
    "\n",
    "            losses.update(loss_mask)\n",
    "\n",
    "        # keep none checks in if conditional so torchscript will conditionally\n",
    "        # compile each branch\n",
    "        if (\n",
    "            self.keypoint_roi_pool is not None\n",
    "            and self.keypoint_head is not None\n",
    "            and self.keypoint_predictor is not None\n",
    "        ):\n",
    "            keypoint_proposals = [p[\"boxes\"] for p in result]\n",
    "            if self.training:\n",
    "                # during training, only focus on positive boxes\n",
    "                num_images = len(proposals)\n",
    "                keypoint_proposals = []\n",
    "                pos_matched_idxs = []\n",
    "                if matched_idxs is None:\n",
    "                    raise ValueError(\"if in trainning, matched_idxs should not be None\")\n",
    "\n",
    "                for img_id in range(num_images):\n",
    "                    pos = torch.where(labels[img_id] > 0)[0]\n",
    "                    keypoint_proposals.append(proposals[img_id][pos])\n",
    "                    pos_matched_idxs.append(matched_idxs[img_id][pos])\n",
    "            else:\n",
    "                pos_matched_idxs = None\n",
    "\n",
    "            keypoint_features = self.keypoint_roi_pool(\n",
    "                features, keypoint_proposals, image_shapes\n",
    "            )\n",
    "            keypoint_features = self.keypoint_head(keypoint_features)\n",
    "            keypoint_logits = self.keypoint_predictor(keypoint_features)\n",
    "\n",
    "            loss_keypoint = {}\n",
    "            if self.training:\n",
    "                if targets is None or pos_matched_idxs is None:\n",
    "                    raise ValueError(\n",
    "                        \"both targets and pos_matched_idxs should not be None when in training mode\"\n",
    "                    )\n",
    "\n",
    "                gt_keypoints = [t[\"keypoints\"] for t in targets]\n",
    "                rcnn_loss_keypoint = keypointrcnn_loss(\n",
    "                    keypoint_logits, keypoint_proposals, gt_keypoints, pos_matched_idxs\n",
    "                )\n",
    "                loss_keypoint = {\"loss_keypoint\": rcnn_loss_keypoint}\n",
    "            else:\n",
    "                if keypoint_logits is None or keypoint_proposals is None:\n",
    "                    raise ValueError(\n",
    "                        \"both keypoint_logits and keypoint_proposals should not be None when not in training mode\"\n",
    "                    )\n",
    "\n",
    "                keypoints_probs, kp_scores = keypointrcnn_inference(\n",
    "                    keypoint_logits, keypoint_proposals\n",
    "                )\n",
    "                for keypoint_prob, kps, r in zip(keypoints_probs, kp_scores, result):\n",
    "                    r[\"keypoints\"] = keypoint_prob\n",
    "                    r[\"keypoints_scores\"] = kps\n",
    "            losses.update(loss_keypoint)\n",
    "\n",
    "        return result, losses\n",
    "    \n",
    "\n",
    "\n",
    "from torchvision.models.detection import fasterrcnn_resnet50_fpn_v2\n",
    "\n",
    "model = fasterrcnn_resnet50_fpn_v2(pretrained=True)\n",
    "model.roi_heads = OverrideRoIHeads(model.roi_heads.box_roi_pool, model.roi_heads.box_head, model.roi_heads.box_predictor, model.roi_heads)\n",
    "\n"
   ]
  },
  {
   "cell_type": "code",
   "execution_count": 4,
   "metadata": {},
   "outputs": [
    {
     "name": "stdout",
     "output_type": "stream",
     "text": [
      "None\n",
      "LABELS\n",
      "torch.Size([238])\n",
      "self.proposals torch.Size([238, 4])\n",
      "box_feats torch.Size([470, 1024])\n",
      "class_logits torch.Size([470, 976])\n"
     ]
    },
    {
     "ename": "TypeError",
     "evalue": "list indices must be integers or slices, not str",
     "output_type": "error",
     "traceback": [
      "\u001b[0;31m---------------------------------------------------------------------------\u001b[0m",
      "\u001b[0;31mTypeError\u001b[0m                                 Traceback (most recent call last)",
      "Cell \u001b[0;32mIn[4], line 91\u001b[0m\n\u001b[1;32m     79\u001b[0m fake_inputs \u001b[38;5;241m=\u001b[39m [torch\u001b[38;5;241m.\u001b[39mrand(\u001b[38;5;241m3\u001b[39m, \u001b[38;5;241m64\u001b[39m, \u001b[38;5;241m64\u001b[39m)\u001b[38;5;241m.\u001b[39mcuda(), torch\u001b[38;5;241m.\u001b[39mrand(\u001b[38;5;241m3\u001b[39m, \u001b[38;5;241m64\u001b[39m, \u001b[38;5;241m64\u001b[39m)\u001b[38;5;241m.\u001b[39mcuda()]\n\u001b[1;32m     80\u001b[0m fake_targets \u001b[38;5;241m=\u001b[39m [\n\u001b[1;32m     81\u001b[0m     {\n\u001b[1;32m     82\u001b[0m         \u001b[38;5;124m\"\u001b[39m\u001b[38;5;124mboxes\u001b[39m\u001b[38;5;124m\"\u001b[39m: torch\u001b[38;5;241m.\u001b[39mtensor([[\u001b[38;5;241m10\u001b[39m, \u001b[38;5;241m10\u001b[39m, \u001b[38;5;241m20\u001b[39m, \u001b[38;5;241m20\u001b[39m], [\u001b[38;5;241m30\u001b[39m, \u001b[38;5;241m30\u001b[39m, \u001b[38;5;241m40\u001b[39m, \u001b[38;5;241m40\u001b[39m]])\u001b[38;5;241m.\u001b[39mcuda(),\n\u001b[0;32m   (...)\u001b[0m\n\u001b[1;32m     88\u001b[0m     },\n\u001b[1;32m     89\u001b[0m ]\n\u001b[0;32m---> 91\u001b[0m \u001b[43mm\u001b[49m\u001b[43m(\u001b[49m\u001b[43mfake_inputs\u001b[49m\u001b[43m,\u001b[49m\u001b[43m \u001b[49m\u001b[43mtargets\u001b[49m\u001b[38;5;241;43m=\u001b[39;49m\u001b[43mfake_targets\u001b[49m\u001b[43m)\u001b[49m\n",
      "File \u001b[0;32m/usr/local/lib/python3.10/dist-packages/torch/nn/modules/module.py:1553\u001b[0m, in \u001b[0;36mModule._wrapped_call_impl\u001b[0;34m(self, *args, **kwargs)\u001b[0m\n\u001b[1;32m   1551\u001b[0m     \u001b[38;5;28;01mreturn\u001b[39;00m \u001b[38;5;28mself\u001b[39m\u001b[38;5;241m.\u001b[39m_compiled_call_impl(\u001b[38;5;241m*\u001b[39margs, \u001b[38;5;241m*\u001b[39m\u001b[38;5;241m*\u001b[39mkwargs)  \u001b[38;5;66;03m# type: ignore[misc]\u001b[39;00m\n\u001b[1;32m   1552\u001b[0m \u001b[38;5;28;01melse\u001b[39;00m:\n\u001b[0;32m-> 1553\u001b[0m     \u001b[38;5;28;01mreturn\u001b[39;00m \u001b[38;5;28;43mself\u001b[39;49m\u001b[38;5;241;43m.\u001b[39;49m\u001b[43m_call_impl\u001b[49m\u001b[43m(\u001b[49m\u001b[38;5;241;43m*\u001b[39;49m\u001b[43margs\u001b[49m\u001b[43m,\u001b[49m\u001b[43m \u001b[49m\u001b[38;5;241;43m*\u001b[39;49m\u001b[38;5;241;43m*\u001b[39;49m\u001b[43mkwargs\u001b[49m\u001b[43m)\u001b[49m\n",
      "File \u001b[0;32m/usr/local/lib/python3.10/dist-packages/torch/nn/modules/module.py:1562\u001b[0m, in \u001b[0;36mModule._call_impl\u001b[0;34m(self, *args, **kwargs)\u001b[0m\n\u001b[1;32m   1557\u001b[0m \u001b[38;5;66;03m# If we don't have any hooks, we want to skip the rest of the logic in\u001b[39;00m\n\u001b[1;32m   1558\u001b[0m \u001b[38;5;66;03m# this function, and just call forward.\u001b[39;00m\n\u001b[1;32m   1559\u001b[0m \u001b[38;5;28;01mif\u001b[39;00m \u001b[38;5;129;01mnot\u001b[39;00m (\u001b[38;5;28mself\u001b[39m\u001b[38;5;241m.\u001b[39m_backward_hooks \u001b[38;5;129;01mor\u001b[39;00m \u001b[38;5;28mself\u001b[39m\u001b[38;5;241m.\u001b[39m_backward_pre_hooks \u001b[38;5;129;01mor\u001b[39;00m \u001b[38;5;28mself\u001b[39m\u001b[38;5;241m.\u001b[39m_forward_hooks \u001b[38;5;129;01mor\u001b[39;00m \u001b[38;5;28mself\u001b[39m\u001b[38;5;241m.\u001b[39m_forward_pre_hooks\n\u001b[1;32m   1560\u001b[0m         \u001b[38;5;129;01mor\u001b[39;00m _global_backward_pre_hooks \u001b[38;5;129;01mor\u001b[39;00m _global_backward_hooks\n\u001b[1;32m   1561\u001b[0m         \u001b[38;5;129;01mor\u001b[39;00m _global_forward_hooks \u001b[38;5;129;01mor\u001b[39;00m _global_forward_pre_hooks):\n\u001b[0;32m-> 1562\u001b[0m     \u001b[38;5;28;01mreturn\u001b[39;00m \u001b[43mforward_call\u001b[49m\u001b[43m(\u001b[49m\u001b[38;5;241;43m*\u001b[39;49m\u001b[43margs\u001b[49m\u001b[43m,\u001b[49m\u001b[43m \u001b[49m\u001b[38;5;241;43m*\u001b[39;49m\u001b[38;5;241;43m*\u001b[39;49m\u001b[43mkwargs\u001b[49m\u001b[43m)\u001b[49m\n\u001b[1;32m   1564\u001b[0m \u001b[38;5;28;01mtry\u001b[39;00m:\n\u001b[1;32m   1565\u001b[0m     result \u001b[38;5;241m=\u001b[39m \u001b[38;5;28;01mNone\u001b[39;00m\n",
      "Cell \u001b[0;32mIn[4], line 53\u001b[0m, in \u001b[0;36mM2.forward\u001b[0;34m(self, x, targets, quantity_targets)\u001b[0m\n\u001b[1;32m     51\u001b[0m \u001b[38;5;28mprint\u001b[39m(\u001b[38;5;124m\"\u001b[39m\u001b[38;5;124mbox_feats\u001b[39m\u001b[38;5;124m\"\u001b[39m, \u001b[38;5;28mself\u001b[39m\u001b[38;5;241m.\u001b[39mbox_feats\u001b[38;5;241m.\u001b[39mshape)\n\u001b[1;32m     52\u001b[0m \u001b[38;5;28mprint\u001b[39m(\u001b[38;5;124m\"\u001b[39m\u001b[38;5;124mclass_logits\u001b[39m\u001b[38;5;124m\"\u001b[39m, \u001b[38;5;28mself\u001b[39m\u001b[38;5;241m.\u001b[39mclass_logits\u001b[38;5;241m.\u001b[39mshape)\n\u001b[0;32m---> 53\u001b[0m \u001b[38;5;28mprint\u001b[39m(\u001b[38;5;124m\"\u001b[39m\u001b[38;5;124mtargets\u001b[39m\u001b[38;5;124m\"\u001b[39m, \u001b[43mtargets\u001b[49m\u001b[43m[\u001b[49m\u001b[38;5;124;43m\"\u001b[39;49m\u001b[38;5;124;43mlabels\u001b[39;49m\u001b[38;5;124;43m\"\u001b[39;49m\u001b[43m]\u001b[49m)\n\u001b[1;32m     56\u001b[0m \u001b[38;5;66;03m# custom_classification_loss = F.cross_entropy(\u001b[39;00m\n\u001b[1;32m     57\u001b[0m \u001b[38;5;66;03m#     self.class_logits, targets[\"labels\"]\u001b[39;00m\n\u001b[1;32m     58\u001b[0m \u001b[38;5;66;03m# )\u001b[39;00m\n\u001b[0;32m   (...)\u001b[0m\n\u001b[1;32m     63\u001b[0m \u001b[38;5;66;03m# predicted_quantities = self.quantity_prediction(self.feats)\u001b[39;00m\n\u001b[1;32m     64\u001b[0m \u001b[38;5;66;03m# loss_dict[\"quantity_loss\"] = F.mse_loss(predicted_quantities, quantity_targets)\u001b[39;00m\n\u001b[1;32m     65\u001b[0m \u001b[38;5;28;01mreturn\u001b[39;00m loss_dict\n",
      "\u001b[0;31mTypeError\u001b[0m: list indices must be integers or slices, not str"
     ]
    }
   ],
   "source": [
    "import torch\n",
    "import torch.nn as nn   \n",
    "import torch.nn.functional as F\n",
    "from torchvision.models.detection.faster_rcnn import fasterrcnn_resnet50_fpn_v2\n",
    "from minerl.herobraine.hero.mc import ALL_ITEMS\n",
    "\n",
    "class M2(nn.Module):\n",
    "    def __init__(self):\n",
    "        super(M2, self).__init__()\n",
    "        self.box_feats = None\n",
    "        self.proposals = None\n",
    "        self.image_shapes = None\n",
    "\n",
    "        self.model = fasterrcnn_resnet50_fpn_v2(\n",
    "            pretrained=False,\n",
    "            image_mean=[0.63, 0.63, 0.63],\n",
    "            image_std=[0.21, 0.21, 0.21],\n",
    "            min_size=64,\n",
    "            max_size=64,\n",
    "            num_classes=len(ALL_ITEMS),\n",
    "        )\n",
    "\n",
    "        # need to save the intermediate features\n",
    "        # self.model.roi_heads.box_predictor.cls_score.register_pre_forward_hook(\n",
    "        self.model.roi_heads.box_roi_pool.register_forward_pre_hook(\n",
    "            self.save_prop_img_shape\n",
    "        )\n",
    "        self.model.roi_heads.box_predictor.register_forward_hook(self.save_box_feats)\n",
    "        # self.model.roi_heads.box_predictor.bbox_pred.register_forward_pre_hook(\n",
    "        #     self.save_feats\n",
    "        # )\n",
    "        self.quantity_prediction = nn.Sequential(nn.Linear(1024, 1), nn.Sigmoid())\n",
    "        \n",
    "    def save_prop_img_shape(self, _module, input):\n",
    "        # Save the input features to be used later\n",
    "        self.proposals = input[1]\n",
    "        print(\"self.proposals\", self.proposals[0].shape)\n",
    "        self.image_shapes = input[2]\n",
    "        # print(\"self.proposals\", self.proposals.shape)\n",
    "        # print(\"self.image_shapes\", self.image_shapes)\n",
    "    \n",
    "    def save_box_feats(self, _module, input, output):\n",
    "        self.box_feats = input[0]\n",
    "        self.class_logits = output[0]\n",
    "\n",
    "    def forward(self, x, targets=None, quantity_targets=None):\n",
    "        if self.training:\n",
    "            # assert targets is not None and quantity_targets is not None\n",
    "            print(self.box_feats)\n",
    "            loss_dict = self.model(x, targets)\n",
    "            print(\"box_feats\", self.box_feats.shape)\n",
    "            print(\"class_logits\", self.class_logits.shape)\n",
    "            print(\"targets\", targets[\"labels\"])\n",
    "\n",
    "\n",
    "            # custom_classification_loss = F.cross_entropy(\n",
    "            #     self.class_logits, targets[\"labels\"]\n",
    "            # )\n",
    "            # print(custom_classification_loss)\n",
    "\n",
    "            # loss_classifier \n",
    "            # Compute the loss for the quantity classifier\n",
    "            # predicted_quantities = self.quantity_prediction(self.feats)\n",
    "            # loss_dict[\"quantity_loss\"] = F.mse_loss(predicted_quantities, quantity_targets)\n",
    "            return loss_dict\n",
    "        else:\n",
    "            print(self.box_feats)\n",
    "            preds = self.model(x)\n",
    "            print(self.box_feats.shape)\n",
    "            # preds[\"predicted_quantities\"] = self.quantity_prediction(\n",
    "            #     self.feats\n",
    "            # )\n",
    "            return preds\n",
    "\n",
    "m = M2()\n",
    "m.train()\n",
    "m.cuda()\n",
    "\n",
    "fake_inputs = [torch.rand(3, 64, 64).cuda(), torch.rand(3, 64, 64).cuda()]\n",
    "fake_targets = [\n",
    "    {\n",
    "        \"boxes\": torch.tensor([[10, 10, 20, 20], [30, 30, 40, 40]]).cuda(),\n",
    "        \"labels\": torch.tensor([1, 2]).cuda(),\n",
    "    },\n",
    "    {\n",
    "        \"boxes\": torch.tensor([[10, 10, 20, 20], [30, 30, 40, 40]]).cuda(),\n",
    "        \"labels\": torch.tensor([1, 2]).cuda(),\n",
    "    },\n",
    "]\n",
    "\n",
    "m(fake_inputs, targets=fake_targets)"
   ]
  },
  {
   "cell_type": "code",
   "execution_count": 178,
   "metadata": {},
   "outputs": [
    {
     "data": {
      "text/plain": [
       "RoIHeads(\n",
       "  (box_roi_pool): MultiScaleRoIAlign(featmap_names=['0', '1', '2', '3'], output_size=(7, 7), sampling_ratio=2)\n",
       "  (box_head): FastRCNNConvFCHead(\n",
       "    (0): Conv2dNormActivation(\n",
       "      (0): Conv2d(256, 256, kernel_size=(3, 3), stride=(1, 1), padding=(1, 1), bias=False)\n",
       "      (1): BatchNorm2d(256, eps=1e-05, momentum=0.1, affine=True, track_running_stats=True)\n",
       "      (2): ReLU(inplace=True)\n",
       "    )\n",
       "    (1): Conv2dNormActivation(\n",
       "      (0): Conv2d(256, 256, kernel_size=(3, 3), stride=(1, 1), padding=(1, 1), bias=False)\n",
       "      (1): BatchNorm2d(256, eps=1e-05, momentum=0.1, affine=True, track_running_stats=True)\n",
       "      (2): ReLU(inplace=True)\n",
       "    )\n",
       "    (2): Conv2dNormActivation(\n",
       "      (0): Conv2d(256, 256, kernel_size=(3, 3), stride=(1, 1), padding=(1, 1), bias=False)\n",
       "      (1): BatchNorm2d(256, eps=1e-05, momentum=0.1, affine=True, track_running_stats=True)\n",
       "      (2): ReLU(inplace=True)\n",
       "    )\n",
       "    (3): Conv2dNormActivation(\n",
       "      (0): Conv2d(256, 256, kernel_size=(3, 3), stride=(1, 1), padding=(1, 1), bias=False)\n",
       "      (1): BatchNorm2d(256, eps=1e-05, momentum=0.1, affine=True, track_running_stats=True)\n",
       "      (2): ReLU(inplace=True)\n",
       "    )\n",
       "    (4): Flatten(start_dim=1, end_dim=-1)\n",
       "    (5): Linear(in_features=12544, out_features=1024, bias=True)\n",
       "    (6): ReLU(inplace=True)\n",
       "  )\n",
       "  (box_predictor): FastRCNNPredictor(\n",
       "    (cls_score): Linear(in_features=1024, out_features=976, bias=True)\n",
       "    (bbox_pred): Linear(in_features=1024, out_features=3904, bias=True)\n",
       "  )\n",
       ")"
      ]
     },
     "execution_count": 178,
     "metadata": {},
     "output_type": "execute_result"
    }
   ],
   "source": [
    "m.model.roi_heads"
   ]
  },
  {
   "cell_type": "code",
   "execution_count": 148,
   "metadata": {},
   "outputs": [
    {
     "name": "stdout",
     "output_type": "stream",
     "text": [
      "tensor([[ 5.5241,  0.0000,  5.3955,  ...,  6.8653,  0.0000,  4.6057],\n",
      "        [ 6.0374,  0.0000,  8.8156,  ..., 13.1884,  0.0000,  1.1720],\n",
      "        [ 3.8993,  0.0000,  5.2919,  ...,  8.5901,  0.0000,  4.3840],\n",
      "        ...,\n",
      "        [ 5.4248,  0.0000, 14.0726,  ..., 11.6614,  0.0000,  4.3428],\n",
      "        [ 5.7381,  0.0000, 10.8562,  ...,  6.8517,  0.0000,  4.7301],\n",
      "        [ 1.7051,  0.0000,  3.7437,  ...,  7.6001,  0.0000,  6.3838]],\n",
      "       device='cuda:0', grad_fn=<ReluBackward0>)\n",
      "aaaa\n",
      "1\n",
      "torch.Size([627, 1024])\n"
     ]
    },
    {
     "ename": "TypeError",
     "evalue": "list indices must be integers or slices, not str",
     "output_type": "error",
     "traceback": [
      "\u001b[0;31m---------------------------------------------------------------------------\u001b[0m",
      "\u001b[0;31mTypeError\u001b[0m                                 Traceback (most recent call last)",
      "Cell \u001b[0;32mIn[148], line 1\u001b[0m\n\u001b[0;32m----> 1\u001b[0m \u001b[43mm\u001b[49m\u001b[43m(\u001b[49m\u001b[43minputs\u001b[49m\u001b[43m)\u001b[49m\u001b[43m[\u001b[49m\u001b[38;5;124;43m\"\u001b[39;49m\u001b[38;5;124;43mboxes\u001b[39;49m\u001b[38;5;124;43m\"\u001b[39;49m\u001b[43m]\u001b[49m\u001b[38;5;241m.\u001b[39mshape\n",
      "\u001b[0;31mTypeError\u001b[0m: list indices must be integers or slices, not str"
     ]
    }
   ],
   "source": []
  },
  {
   "cell_type": "code",
   "execution_count": 78,
   "metadata": {},
   "outputs": [
    {
     "data": {
      "text/plain": [
       "[{'boxes': tensor([[0.0000e+00, 3.3344e+01, 4.9228e+01, 6.4000e+01],\n",
       "          [0.0000e+00, 5.2162e+01, 5.5332e+01, 6.4000e+01],\n",
       "          [0.0000e+00, 5.6636e+01, 3.4755e+01, 6.2779e+01],\n",
       "          [1.5261e+01, 1.5714e+01, 3.9311e+01, 6.4000e+01],\n",
       "          [0.0000e+00, 4.1206e+01, 5.0870e+01, 5.6290e+01],\n",
       "          [0.0000e+00, 2.4415e+01, 2.8698e+01, 6.4000e+01],\n",
       "          [0.0000e+00, 0.0000e+00, 5.0454e+01, 6.4000e+01],\n",
       "          [0.0000e+00, 3.5726e+01, 2.4476e+01, 5.8015e+01],\n",
       "          [0.0000e+00, 6.0148e+01, 2.7772e+01, 6.3108e+01],\n",
       "          [0.0000e+00, 1.4634e+01, 4.3838e+01, 4.8110e+01],\n",
       "          [1.6675e+01, 3.8937e+01, 6.4000e+01, 6.4000e+01],\n",
       "          [0.0000e+00, 3.1659e+01, 3.3259e+01, 4.8656e+01],\n",
       "          [6.8226e+00, 5.7123e+01, 6.0326e+01, 6.4000e+01],\n",
       "          [3.8750e+01, 0.0000e+00, 5.2835e+01, 5.7352e+01],\n",
       "          [4.1431e+00, 4.3653e+01, 1.5592e+01, 6.4000e+01],\n",
       "          [0.0000e+00, 0.0000e+00, 2.1032e+01, 5.7359e+01],\n",
       "          [2.1397e-01, 2.5872e+01, 2.6626e+00, 6.4000e+01],\n",
       "          [2.4388e+01, 0.0000e+00, 4.1319e+01, 6.4000e+01],\n",
       "          [0.0000e+00, 1.5366e+01, 6.6652e+00, 6.4000e+01],\n",
       "          [1.0324e+00, 3.8675e+01, 1.0645e+01, 6.4000e+01],\n",
       "          [3.5008e-01, 5.4817e+01, 2.2739e+00, 6.4000e+01],\n",
       "          [0.0000e+00, 2.5701e+01, 2.4256e-01, 4.4049e+01],\n",
       "          [2.1896e+00, 2.1055e+01, 1.2965e+01, 6.4000e+01],\n",
       "          [5.6305e+01, 4.3734e+01, 6.4000e+01, 6.4000e+01],\n",
       "          [0.0000e+00, 2.4823e+01, 1.8287e+00, 4.4413e+01],\n",
       "          [4.0600e+01, 2.6693e+01, 6.4000e+01, 6.4000e+01],\n",
       "          [0.0000e+00, 1.8120e+01, 1.1916e+01, 4.6181e+01],\n",
       "          [0.0000e+00, 2.7904e+01, 3.6064e+01, 4.1921e+01],\n",
       "          [0.0000e+00, 0.0000e+00, 8.9159e+00, 6.4000e+01],\n",
       "          [4.0035e+01, 0.0000e+00, 6.4000e+01, 5.8237e+01],\n",
       "          [1.1449e+01, 0.0000e+00, 2.6789e+01, 6.4000e+01],\n",
       "          [3.1015e+00, 4.2163e+01, 1.4721e+01, 5.5482e+01],\n",
       "          [0.0000e+00, 6.1395e+01, 3.2463e+01, 6.4000e+01],\n",
       "          [0.0000e+00, 0.0000e+00, 3.4790e+00, 6.4000e+01],\n",
       "          [7.8991e-01, 1.7235e+01, 1.7872e+00, 1.8033e+01],\n",
       "          [1.6871e+01, 5.4923e+01, 4.7964e+01, 6.4000e+01],\n",
       "          [4.9122e+01, 0.0000e+00, 6.4000e+01, 2.1198e+01],\n",
       "          [2.7573e+00, 1.2094e+01, 6.4749e+00, 1.3148e+01],\n",
       "          [1.7799e+00, 0.0000e+00, 1.3272e+01, 4.8719e+01],\n",
       "          [0.0000e+00, 4.5167e+01, 2.2805e+01, 5.5822e+01],\n",
       "          [4.8903e+01, 0.0000e+00, 5.6669e+01, 6.3773e+01],\n",
       "          [4.0322e+00, 1.7509e+00, 3.5686e+01, 4.1126e+01],\n",
       "          [2.8109e+01, 3.7182e+00, 5.2735e+01, 3.8708e+00],\n",
       "          [1.8483e+01, 0.0000e+00, 3.2150e+01, 6.4000e+01],\n",
       "          [3.2700e+01, 4.6241e+01, 6.4000e+01, 6.4000e+01],\n",
       "          [8.1904e-01, 1.4787e+00, 1.6731e+00, 3.3865e+00],\n",
       "          [5.4527e+01, 1.1259e+01, 6.0038e+01, 1.1611e+01],\n",
       "          [4.2243e+00, 0.0000e+00, 9.6961e+00, 6.4000e+01],\n",
       "          [2.0090e+01, 4.1723e+00, 6.4000e+01, 6.4000e+01],\n",
       "          [2.2850e+00, 6.1736e+01, 1.6226e+01, 6.3713e+01],\n",
       "          [5.4177e+01, 0.0000e+00, 6.4000e+01, 8.0752e+00],\n",
       "          [5.6504e+01, 0.0000e+00, 6.4000e+01, 2.6030e+01],\n",
       "          [5.3194e+00, 4.5560e+00, 1.4704e+01, 4.7599e+00],\n",
       "          [4.3264e+01, 3.7086e-02, 6.4000e+01, 2.6147e-01],\n",
       "          [1.6999e+00, 0.0000e+00, 2.5406e+01, 1.8281e+01],\n",
       "          [5.2416e-01, 3.2162e+00, 1.1623e+00, 3.8389e+00],\n",
       "          [3.4250e+01, 8.2162e+00, 5.4465e+01, 8.3957e+00],\n",
       "          [6.1150e+01, 8.3476e+00, 6.4000e+01, 8.8173e+00],\n",
       "          [2.6562e+00, 1.1778e+01, 6.5095e+00, 1.2152e+01],\n",
       "          [2.5255e+00, 9.0096e+00, 5.8746e+00, 9.3638e+00],\n",
       "          [5.9225e+01, 4.2317e+01, 6.4000e+01, 4.3269e+01],\n",
       "          [6.9900e+00, 1.9012e+00, 1.9174e+01, 2.0914e+00],\n",
       "          [2.1101e+01, 0.0000e+00, 6.4000e+01, 2.5969e+01],\n",
       "          [1.3329e+01, 4.4249e+00, 2.7624e+01, 4.5716e+00],\n",
       "          [6.0690e+01, 2.4006e+01, 6.4000e+01, 2.4248e+01],\n",
       "          [1.1197e+01, 4.3447e+00, 2.4371e+01, 4.5878e+00],\n",
       "          [3.6137e+01, 0.0000e+00, 4.7137e+01, 6.4000e+01],\n",
       "          [2.0716e+00, 3.5386e+00, 4.4622e+00, 3.9589e+00],\n",
       "          [5.7837e+00, 2.7960e+00, 1.5623e+01, 2.9411e+00],\n",
       "          [2.5776e+00, 7.0084e+00, 5.3618e+00, 7.3299e+00],\n",
       "          [1.1579e+00, 5.6925e+00, 2.4069e+00, 6.0507e+00],\n",
       "          [2.0833e+01, 2.0478e+00, 4.8487e+01, 2.2407e+00],\n",
       "          [2.8634e+00, 0.0000e+00, 6.4640e+00, 3.4449e-01],\n",
       "          [4.8572e+01, 0.0000e+00, 6.4000e+01, 8.7939e-01],\n",
       "          [1.3336e+01, 6.8102e-02, 2.7035e+01, 2.4250e-01],\n",
       "          [3.0598e+00, 6.2847e+01, 4.6457e+01, 6.3838e+01],\n",
       "          [7.8191e+00, 4.0863e+00, 2.0582e+01, 4.2205e+00],\n",
       "          [1.0600e+01, 2.3588e+00, 2.4092e+01, 2.5313e+00],\n",
       "          [6.2378e+01, 4.2280e+00, 6.4000e+01, 4.4107e+00],\n",
       "          [6.6572e+00, 6.3559e+00, 1.4561e+01, 7.0119e+00],\n",
       "          [3.8930e+00, 7.1481e-01, 7.6903e+00, 2.5847e+00],\n",
       "          [4.3244e+01, 0.0000e+00, 5.1231e+01, 6.4000e+01],\n",
       "          [1.4646e+00, 1.6603e-01, 2.8971e+00, 2.2550e+00],\n",
       "          [7.2289e+00, 6.2228e+01, 3.4125e+01, 6.3652e+01],\n",
       "          [5.5749e+01, 3.0296e+01, 6.4000e+01, 3.1154e+01],\n",
       "          [4.8395e+01, 0.0000e+00, 6.4000e+01, 3.3317e+00],\n",
       "          [2.5441e+01, 5.6143e+01, 6.4000e+01, 6.3254e+01],\n",
       "          [7.9757e+00, 0.0000e+00, 4.9795e+01, 2.8478e+01],\n",
       "          [5.1939e+01, 1.1199e+01, 5.6994e+01, 1.1399e+01],\n",
       "          [2.2109e-01, 0.0000e+00, 3.4962e+00, 6.4000e+01],\n",
       "          [5.1439e+01, 0.0000e+00, 6.4000e+01, 6.4000e+01],\n",
       "          [2.9274e+01, 9.0661e+00, 5.0881e+01, 9.2844e+00],\n",
       "          [2.2129e-01, 0.0000e+00, 6.3549e+00, 3.4693e+01],\n",
       "          [3.5641e+01, 0.0000e+00, 5.0305e+01, 1.1339e+01],\n",
       "          [7.7345e-01, 0.0000e+00, 1.1757e+01, 1.6453e+01],\n",
       "          [2.4599e-02, 0.0000e+00, 6.3451e+00, 1.6934e+01],\n",
       "          [1.3135e+01, 2.4488e+01, 2.3006e+01, 2.4855e+01],\n",
       "          [5.5448e+01, 1.2810e+01, 6.3449e+01, 1.3263e+01],\n",
       "          [1.3926e+01, 0.0000e+00, 1.8209e+01, 6.4000e+01],\n",
       "          [4.3542e+01, 1.1681e+01, 4.6440e+01, 1.2161e+01]], device='cuda:0',\n",
       "         grad_fn=<StackBackward0>),\n",
       "  'labels': tensor([42, 42, 42, 42, 42, 42, 42, 42, 42, 42, 42, 42, 42, 42, 42, 42, 42, 42,\n",
       "          42, 42, 42, 42, 42, 42, 42, 42, 42, 42, 32, 42, 42, 42, 42, 32, 50, 42,\n",
       "          42, 50, 42, 42, 32, 42, 50, 42, 42, 50, 50, 32, 42, 42, 42, 42, 50, 50,\n",
       "          42, 50, 50, 50, 50, 50, 50, 50, 42, 50, 50, 50, 42, 50, 50, 50, 50, 50,\n",
       "          50, 42, 50,  4, 50, 50, 50, 50, 50, 32, 50, 42, 50, 42, 42, 42, 50, 42,\n",
       "          42, 50, 42, 42, 42, 42, 50, 50, 32, 50], device='cuda:0'),\n",
       "  'scores': tensor([0.9999, 0.9998, 0.9994, 0.9986, 0.9983, 0.9973, 0.9973, 0.9961, 0.9955,\n",
       "          0.9947, 0.9942, 0.9934, 0.9932, 0.9931, 0.9920, 0.9911, 0.9885, 0.9849,\n",
       "          0.9833, 0.9830, 0.9820, 0.9817, 0.9814, 0.9800, 0.9792, 0.9776, 0.9766,\n",
       "          0.9737, 0.9719, 0.9635, 0.9632, 0.9485, 0.9455, 0.9104, 0.9060, 0.9052,\n",
       "          0.9031, 0.8976, 0.8943, 0.8896, 0.8807, 0.8727, 0.8717, 0.8691, 0.8562,\n",
       "          0.8472, 0.8408, 0.8377, 0.8310, 0.8237, 0.8119, 0.8064, 0.7746, 0.7723,\n",
       "          0.7700, 0.7507, 0.7433, 0.7330, 0.7310, 0.7276, 0.7129, 0.7123, 0.7077,\n",
       "          0.7020, 0.6919, 0.6716, 0.6645, 0.6622, 0.6590, 0.6418, 0.6343, 0.5992,\n",
       "          0.5883, 0.5668, 0.5634, 0.5622, 0.5537, 0.5528, 0.5525, 0.5483, 0.5456,\n",
       "          0.5447, 0.5334, 0.5288, 0.5090, 0.5076, 0.4848, 0.4797, 0.4775, 0.4645,\n",
       "          0.4535, 0.4357, 0.4245, 0.4087, 0.4081, 0.4069, 0.3979, 0.3963, 0.3906,\n",
       "          0.3740], device='cuda:0', grad_fn=<IndexBackward0>)}]"
      ]
     },
     "execution_count": 78,
     "metadata": {},
     "output_type": "execute_result"
    }
   ],
   "source": [
    "\n"
   ]
  },
  {
   "cell_type": "code",
   "execution_count": 65,
   "metadata": {},
   "outputs": [
    {
     "ename": "AttributeError",
     "evalue": "'ResNet' object has no attribute 'out_channels'",
     "output_type": "error",
     "traceback": [
      "\u001b[0;31m---------------------------------------------------------------------------\u001b[0m",
      "\u001b[0;31mAttributeError\u001b[0m                            Traceback (most recent call last)",
      "Cell \u001b[0;32mIn[65], line 67\u001b[0m\n\u001b[1;32m     52\u001b[0m     \u001b[38;5;28;01mreturn\u001b[39;00m model\n\u001b[1;32m     56\u001b[0m \u001b[38;5;66;03m# # mean=[0.508, 0.492, 0.476], std=[0.241, 0.244, 0.255]\u001b[39;00m\n\u001b[1;32m     57\u001b[0m \u001b[38;5;66;03m# m = FasterRCNN(\u001b[39;00m\n\u001b[1;32m     58\u001b[0m \u001b[38;5;66;03m#     num_classes=None,\u001b[39;00m\n\u001b[0;32m   (...)\u001b[0m\n\u001b[1;32m     65\u001b[0m \u001b[38;5;66;03m# )\u001b[39;00m\n\u001b[1;32m     66\u001b[0m \u001b[38;5;66;03m# m.transform\u001b[39;00m\n\u001b[0;32m---> 67\u001b[0m m \u001b[38;5;241m=\u001b[39m \u001b[43mfasterrcnn_resnet50_fpn_v2\u001b[49m\u001b[43m(\u001b[49m\u001b[43m)\u001b[49m\n",
      "Cell \u001b[0;32mIn[65], line 32\u001b[0m, in \u001b[0;36mfasterrcnn_resnet50_fpn_v2\u001b[0;34m(**kwargs)\u001b[0m\n\u001b[1;32m     29\u001b[0m backbone \u001b[38;5;241m=\u001b[39m resnet50(weights\u001b[38;5;241m=\u001b[39m\u001b[38;5;28;01mNone\u001b[39;00m, progress\u001b[38;5;241m=\u001b[39m\u001b[38;5;28;01mFalse\u001b[39;00m)\n\u001b[1;32m     30\u001b[0m rpn_anchor_generator \u001b[38;5;241m=\u001b[39m _default_anchorgen()\n\u001b[1;32m     31\u001b[0m rpn_head \u001b[38;5;241m=\u001b[39m RPNHead(\n\u001b[0;32m---> 32\u001b[0m     \u001b[43mbackbone\u001b[49m\u001b[38;5;241;43m.\u001b[39;49m\u001b[43mout_channels\u001b[49m,\n\u001b[1;32m     33\u001b[0m     rpn_anchor_generator\u001b[38;5;241m.\u001b[39mnum_anchors_per_location()[\u001b[38;5;241m0\u001b[39m],\n\u001b[1;32m     34\u001b[0m     conv_depth\u001b[38;5;241m=\u001b[39m\u001b[38;5;241m2\u001b[39m,\n\u001b[1;32m     35\u001b[0m )\n\u001b[1;32m     36\u001b[0m box_head \u001b[38;5;241m=\u001b[39m FastRCNNConvFCHead(\n\u001b[1;32m     37\u001b[0m     (backbone\u001b[38;5;241m.\u001b[39mout_channels, \u001b[38;5;241m7\u001b[39m, \u001b[38;5;241m7\u001b[39m),\n\u001b[1;32m     38\u001b[0m     [\u001b[38;5;241m256\u001b[39m, \u001b[38;5;241m256\u001b[39m, \u001b[38;5;241m256\u001b[39m, \u001b[38;5;241m256\u001b[39m],\n\u001b[1;32m     39\u001b[0m     [\u001b[38;5;241m1024\u001b[39m],\n\u001b[1;32m     40\u001b[0m     norm_layer\u001b[38;5;241m=\u001b[39mnn\u001b[38;5;241m.\u001b[39mBatchNorm2d,\n\u001b[1;32m     41\u001b[0m )\n\u001b[1;32m     42\u001b[0m dual_head \u001b[38;5;241m=\u001b[39m DualFastRCNNPredictor()\n",
      "File \u001b[0;32m/usr/local/lib/python3.10/dist-packages/torch/nn/modules/module.py:1729\u001b[0m, in \u001b[0;36mModule.__getattr__\u001b[0;34m(self, name)\u001b[0m\n\u001b[1;32m   1727\u001b[0m     \u001b[38;5;28;01mif\u001b[39;00m name \u001b[38;5;129;01min\u001b[39;00m modules:\n\u001b[1;32m   1728\u001b[0m         \u001b[38;5;28;01mreturn\u001b[39;00m modules[name]\n\u001b[0;32m-> 1729\u001b[0m \u001b[38;5;28;01mraise\u001b[39;00m \u001b[38;5;167;01mAttributeError\u001b[39;00m(\u001b[38;5;124mf\u001b[39m\u001b[38;5;124m\"\u001b[39m\u001b[38;5;124m'\u001b[39m\u001b[38;5;132;01m{\u001b[39;00m\u001b[38;5;28mtype\u001b[39m(\u001b[38;5;28mself\u001b[39m)\u001b[38;5;241m.\u001b[39m\u001b[38;5;18m__name__\u001b[39m\u001b[38;5;132;01m}\u001b[39;00m\u001b[38;5;124m'\u001b[39m\u001b[38;5;124m object has no attribute \u001b[39m\u001b[38;5;124m'\u001b[39m\u001b[38;5;132;01m{\u001b[39;00mname\u001b[38;5;132;01m}\u001b[39;00m\u001b[38;5;124m'\u001b[39m\u001b[38;5;124m\"\u001b[39m)\n",
      "\u001b[0;31mAttributeError\u001b[0m: 'ResNet' object has no attribute 'out_channels'"
     ]
    }
   ],
   "source": [
    "from torchvision.models.detection.faster_rcnn import (\n",
    "    FastRCNNPredictor,\n",
    "    FasterRCNN,\n",
    "    _default_anchorgen,\n",
    "    RPNHead,\n",
    "    FastRCNNConvFCHead,\n",
    ")\n",
    "from torchvision.models.resnet import resnet50\n",
    "import torch.nn as nn\n",
    "\n",
    "\n",
    "class DualFastRCNNPredictor(nn.Module):\n",
    "    def __init__(self, in_channels=1024):\n",
    "        super(DualFastRCNNPredictor, self).__init__()\n",
    "        self.quantity_predictor = FastRCNNPredictor(in_channels, 65)\n",
    "        self.label_predictor = FastRCNNPredictor(in_channels, 900)\n",
    "\n",
    "    def forward(self, x):\n",
    "        return (self.quantity_predictor(x), self.label_predictor(x))\n",
    "\n",
    "def fasterrcnn_resnet50_fpn_v2(\n",
    "    **kwargs\n",
    ") -> FasterRCNN:\n",
    "    \"\"\"\n",
    "    Constructs an improved Faster R-CNN model with a ResNet-50-FPN backbone from `Benchmarking Detection\n",
    "    Transfer Learning with Vision Transformers <https://arxiv.org/abs/2111.11429>`__ paper.\n",
    "    \"\"\"\n",
    "    backbone = resnet50(weights=None, progress=False)\n",
    "    rpn_anchor_generator = _default_anchorgen()\n",
    "    rpn_head = RPNHead(\n",
    "        backbone.out_channels,\n",
    "        rpn_anchor_generator.num_anchors_per_location()[0],\n",
    "        conv_depth=2,\n",
    "    )\n",
    "    box_head = FastRCNNConvFCHead(\n",
    "        (backbone.out_channels, 7, 7),\n",
    "        [256, 256, 256, 256],\n",
    "        [1024],\n",
    "        norm_layer=nn.BatchNorm2d,\n",
    "    )\n",
    "    dual_head = DualFastRCNNPredictor()\n",
    "    model = FasterRCNN(\n",
    "        backbone,\n",
    "        num_classes=None,\n",
    "        rpn_anchor_generator=rpn_anchor_generator,\n",
    "        rpn_head=rpn_head,\n",
    "        box_head=box_head,\n",
    "        box_predictor=dual_head,\n",
    "        **kwargs,\n",
    "    )\n",
    "    return model\n",
    "\n",
    "\n",
    "\n",
    "# # mean=[0.508, 0.492, 0.476], std=[0.241, 0.244, 0.255]\n",
    "# m = FasterRCNN(\n",
    "#     num_classes=None,\n",
    "#     pretrained=False,\n",
    "#     \n",
    "#     box_predictor=dual_head,\n",
    "# )\n",
    "# m.transform\n",
    "m = fasterrcnn_resnet50_fpn_v2()"
   ]
  },
  {
   "cell_type": "code",
   "execution_count": 60,
   "metadata": {},
   "outputs": [
    {
     "ename": "TypeError",
     "evalue": "FasterRCNN.__init__() missing 1 required positional argument: 'backbone'",
     "output_type": "error",
     "traceback": [
      "\u001b[0;31m---------------------------------------------------------------------------\u001b[0m",
      "\u001b[0;31mTypeError\u001b[0m                                 Traceback (most recent call last)",
      "Cell \u001b[0;32mIn[60], line 18\u001b[0m\n\u001b[1;32m     15\u001b[0m dual_head \u001b[38;5;241m=\u001b[39m DualFastRCNNPredictor()\n\u001b[1;32m     17\u001b[0m \u001b[38;5;66;03m# mean=[0.508, 0.492, 0.476], std=[0.241, 0.244, 0.255]\u001b[39;00m\n\u001b[0;32m---> 18\u001b[0m m \u001b[38;5;241m=\u001b[39m \u001b[43mFasterRCNN\u001b[49m\u001b[43m(\u001b[49m\n\u001b[1;32m     19\u001b[0m \u001b[43m    \u001b[49m\u001b[43mnum_classes\u001b[49m\u001b[38;5;241;43m=\u001b[39;49m\u001b[38;5;28;43;01mNone\u001b[39;49;00m\u001b[43m,\u001b[49m\n\u001b[1;32m     20\u001b[0m \u001b[43m    \u001b[49m\u001b[43mpretrained\u001b[49m\u001b[38;5;241;43m=\u001b[39;49m\u001b[38;5;28;43;01mFalse\u001b[39;49;00m\u001b[43m,\u001b[49m\n\u001b[1;32m     21\u001b[0m \u001b[43m    \u001b[49m\u001b[43mimage_mean\u001b[49m\u001b[38;5;241;43m=\u001b[39;49m\u001b[43m[\u001b[49m\u001b[38;5;241;43m0.508\u001b[39;49m\u001b[43m,\u001b[49m\u001b[43m \u001b[49m\u001b[38;5;241;43m0.492\u001b[39;49m\u001b[43m,\u001b[49m\u001b[43m \u001b[49m\u001b[38;5;241;43m0.476\u001b[39;49m\u001b[43m]\u001b[49m\u001b[43m,\u001b[49m\n\u001b[1;32m     22\u001b[0m \u001b[43m    \u001b[49m\u001b[43mimage_std\u001b[49m\u001b[38;5;241;43m=\u001b[39;49m\u001b[43m[\u001b[49m\u001b[38;5;241;43m0.241\u001b[39;49m\u001b[43m,\u001b[49m\u001b[43m \u001b[49m\u001b[38;5;241;43m0.244\u001b[39;49m\u001b[43m,\u001b[49m\u001b[43m \u001b[49m\u001b[38;5;241;43m0.255\u001b[39;49m\u001b[43m]\u001b[49m\u001b[43m,\u001b[49m\n\u001b[1;32m     23\u001b[0m \u001b[43m    \u001b[49m\u001b[43mmin_size\u001b[49m\u001b[38;5;241;43m=\u001b[39;49m\u001b[38;5;241;43m64\u001b[39;49m\u001b[43m,\u001b[49m\n\u001b[1;32m     24\u001b[0m \u001b[43m    \u001b[49m\u001b[43mmax_size\u001b[49m\u001b[38;5;241;43m=\u001b[39;49m\u001b[38;5;241;43m64\u001b[39;49m\u001b[43m,\u001b[49m\n\u001b[1;32m     25\u001b[0m \u001b[43m    \u001b[49m\u001b[43mbox_predictor\u001b[49m\u001b[38;5;241;43m=\u001b[39;49m\u001b[43mdual_head\u001b[49m\u001b[43m,\u001b[49m\n\u001b[1;32m     26\u001b[0m \u001b[43m)\u001b[49m\n\u001b[1;32m     27\u001b[0m m\u001b[38;5;241m.\u001b[39mtransform\n",
      "\u001b[0;31mTypeError\u001b[0m: FasterRCNN.__init__() missing 1 required positional argument: 'backbone'"
     ]
    }
   ],
   "source": []
  },
  {
   "cell_type": "code",
   "execution_count": 47,
   "metadata": {},
   "outputs": [
    {
     "name": "stderr",
     "output_type": "stream",
     "text": [
      "/usr/local/lib/python3.10/dist-packages/torchvision/models/_utils.py:223: UserWarning: Arguments other than a weight enum or `None` for 'weights' are deprecated since 0.13 and may be removed in the future. The current behavior is equivalent to passing `weights=MobileNet_V3_Small_Weights.IMAGENET1K_V1`. You can also use `weights=MobileNet_V3_Small_Weights.DEFAULT` to get the most up-to-date weights.\n",
      "  warnings.warn(msg)\n"
     ]
    },
    {
     "name": "stdout",
     "output_type": "stream",
     "text": [
      "tensor(6.8835, device='cuda:0', grad_fn=<NllLossBackward0>)\n",
      "tensor(6.8073, device='cuda:0', grad_fn=<NllLossBackward0>)\n",
      "tensor(6.6006, device='cuda:0', grad_fn=<NllLossBackward0>)\n",
      "tensor(6.4154, device='cuda:0', grad_fn=<NllLossBackward0>)\n",
      "tensor(6.2746, device='cuda:0', grad_fn=<NllLossBackward0>)\n",
      "tensor(6.1978, device='cuda:0', grad_fn=<NllLossBackward0>)\n",
      "tensor(6.3079, device='cuda:0', grad_fn=<NllLossBackward0>)\n",
      "tensor(6.2432, device='cuda:0', grad_fn=<NllLossBackward0>)\n",
      "tensor(6.2325, device='cuda:0', grad_fn=<NllLossBackward0>)\n",
      "tensor(6.1161, device='cuda:0', grad_fn=<NllLossBackward0>)\n",
      "tensor(6.1746, device='cuda:0', grad_fn=<NllLossBackward0>)\n",
      "tensor(6.1343, device='cuda:0', grad_fn=<NllLossBackward0>)\n",
      "tensor(6.1622, device='cuda:0', grad_fn=<NllLossBackward0>)\n"
     ]
    }
   ],
   "source": [
    "# from train_fast_rcnn import M2\n",
    "import glob\n",
    "import torch\n",
    "import torch.nn as nn\n",
    "import torchvision.transforms.v2 as v2\n",
    "from torchvision.models import mobilenet_v3_small\n",
    "from torch.utils.data import DataLoader, Dataset\n",
    "from minerl.herobraine.hero.mc import ALL_ITEMS\n",
    "import wandb\n",
    "from PIL import Image\n",
    "\n",
    "wandb.require(\"core\")\n",
    "\n",
    "# model = M2()\n",
    "# model = model.cuda()\n",
    "\n",
    "img_encoder = mobilenet_v3_small(\n",
    "    pretrained=True,\n",
    "    image_mean=[0.508, 0.492, 0.476],\n",
    "    image_std=[0.241, 0.244, 0.255],\n",
    "    min_size=64,\n",
    "    max_size=64,\n",
    ")\n",
    "img_encoder.classifier = nn.Linear(576, len(ALL_ITEMS))\n",
    "img_encoder.cuda()\n",
    "\n",
    "# images are in data/bboxes/*.png\n",
    "class BboxDataset(Dataset):\n",
    "    def __init__(self, img_dir):\n",
    "        self.img_dir = img_dir\n",
    "        self.transform = v2.Compose(\n",
    "            [\n",
    "                v2.ToImage(),\n",
    "                v2.ToDtype(torch.float32, scale=True),\n",
    "                # v2.Normalize(mean=[0.508, 0.492, 0.476], std=[0.241, 0.244, 0.255]),\n",
    "            ]\n",
    "        )\n",
    "        self.paths = glob.glob(f\"{img_dir}/*.png\")\n",
    "    def __len__(self):\n",
    "        return len(self.paths)\n",
    "    def __getitem__(self, idx):\n",
    "        img_path = self.paths[idx]\n",
    "        img = Image.open(img_path)\n",
    "        if self.transform:\n",
    "            img = self.transform(img)\n",
    "        target = \"_\".join(img_path.split(\"/\")[-1].split(\".\")[0].split(\"_\")[1:])\n",
    "        return img, ALL_ITEMS.index(target)\n",
    "\n",
    "\n",
    "dataset = BboxDataset(\"data/bboxes\")\n",
    "dataloader = DataLoader(dataset, batch_size=128, shuffle=True, drop_last=True)\n",
    "m2_optimizer = torch.optim.AdamW(img_encoder.parameters(), lr=0.001)\n",
    "\n",
    "# wandb.init(project=\"plancraft-img-encoder\", entity=\"itl\")  # , mode=\"disabled\")\n",
    "\n",
    "i = 0\n",
    "for images, labels in dataloader:\n",
    "    # for i in range(1000):\n",
    "    encoded_image = img_encoder(images.cuda())\n",
    "    loss = nn.CrossEntropyLoss()(nn.Softmax(dim=1)(encoded_image), labels.cuda())\n",
    "    # wandb.log({\"loss\": loss})\n",
    "    if i%100 == 0:\n",
    "        print(loss)\n",
    "        # torch.save(img_encoder.state_dict(), \"mobilenet.pth\")\n",
    "\n",
    "    m2_optimizer.zero_grad()\n",
    "    loss.backward()\n",
    "    m2_optimizer.step()\n",
    "        # model(batch.cuda())\n",
    "    i+=1\n",
    "\n"
   ]
  },
  {
   "cell_type": "code",
   "execution_count": 42,
   "metadata": {},
   "outputs": [
    {
     "data": {
      "text/plain": [
       "torch.Size([2, 3, 64, 64])"
      ]
     },
     "execution_count": 42,
     "metadata": {},
     "output_type": "execute_result"
    }
   ],
   "source": [
    "images.shape"
   ]
  },
  {
   "cell_type": "code",
   "execution_count": 49,
   "metadata": {},
   "outputs": [
    {
     "data": {
      "text/plain": [
       "tensor(0.7266, device='cuda:0')"
      ]
     },
     "execution_count": 49,
     "metadata": {},
     "output_type": "execute_result"
    }
   ],
   "source": [
    "preds = img_encoder(images.cuda()).softmax(dim=1).argmax(dim=1)\n",
    "(preds == labels.cuda()).sum() / len(labels)\n",
    "# for pred, label in zip(preds, labels):\n",
    "#     print(ALL_ITEMS[pred], ALL_ITEMS[label])"
   ]
  },
  {
   "cell_type": "code",
   "execution_count": 19,
   "metadata": {},
   "outputs": [],
   "source": [
    "img_encoder.classifier = nn.Identity()\n",
    "torch.save(img_encoder.state_dict(), \"mobilenet.pth\")"
   ]
  },
  {
   "cell_type": "code",
   "execution_count": 41,
   "metadata": {},
   "outputs": [
    {
     "name": "stderr",
     "output_type": "stream",
     "text": [
      "/usr/local/lib/python3.10/dist-packages/wandb/sdk/lib/ipython.py:77: DeprecationWarning: Importing display from IPython.core.display is deprecated since IPython 7.14, please import from IPython display\n",
      "  from IPython.core.display import HTML, display  # type: ignore\n"
     ]
    },
    {
     "data": {
      "text/html": [
       "<style>\n",
       "    table.wandb td:nth-child(1) { padding: 0 10px; text-align: left ; width: auto;} td:nth-child(2) {text-align: left ; width: 100%}\n",
       "    .wandb-row { display: flex; flex-direction: row; flex-wrap: wrap; justify-content: flex-start; width: 100% }\n",
       "    .wandb-col { display: flex; flex-direction: column; flex-basis: 100%; flex: 1; padding: 10px; }\n",
       "    </style>\n",
       "<div class=\"wandb-row\"><div class=\"wandb-col\"><h3>Run history:</h3><br/><table class=\"wandb\"><tr><td>loss</td><td>█████▇▇▆▆▅▄▃▃▄▃▃▂▃▃▂▂▂▂▂▂▁▂▂▂▂▂▁▂▂▂▂▁▂▂▁</td></tr></table><br/></div><div class=\"wandb-col\"><h3>Run summary:</h3><br/><table class=\"wandb\"><tr><td>loss</td><td>6.81455</td></tr></table><br/></div></div>"
      ],
      "text/plain": [
       "<IPython.core.display.HTML object>"
      ]
     },
     "metadata": {},
     "output_type": "display_data"
    },
    {
     "data": {
      "text/html": [
       " View run <strong style=\"color:#cdcd00\">sunny-sea-46</strong> at: <a href='https://wandb.ai/itl/plancraft-img-encoder/runs/s1ojjltx' target=\"_blank\">https://wandb.ai/itl/plancraft-img-encoder/runs/s1ojjltx</a><br/> View project at: <a href='https://wandb.ai/itl/plancraft-img-encoder' target=\"_blank\">https://wandb.ai/itl/plancraft-img-encoder</a><br/>Synced 7 W&B file(s), 0 media file(s), 0 artifact file(s) and 0 other file(s)"
      ],
      "text/plain": [
       "<IPython.core.display.HTML object>"
      ]
     },
     "metadata": {},
     "output_type": "display_data"
    },
    {
     "data": {
      "text/html": [
       "Find logs at: <code>./wandb/run-20240821_103645-s1ojjltx/logs</code>"
      ],
      "text/plain": [
       "<IPython.core.display.HTML object>"
      ]
     },
     "metadata": {},
     "output_type": "display_data"
    }
   ],
   "source": [
    "# encoded_image[0].softmax()\n",
    "wandb.finish()\n"
   ]
  },
  {
   "cell_type": "code",
   "execution_count": 14,
   "metadata": {},
   "outputs": [
    {
     "data": {
      "text/plain": [
       "161026"
      ]
     },
     "execution_count": 14,
     "metadata": {},
     "output_type": "execute_result"
    }
   ],
   "source": [
    "len(glob.glob(f\"data/bboxes/*.png\"))"
   ]
  },
  {
   "cell_type": "code",
   "execution_count": 1,
   "metadata": {},
   "outputs": [
    {
     "name": "stderr",
     "output_type": "stream",
     "text": [
      "100%|██████████| 72568/72568 [00:22<00:00, 3201.76it/s]\n"
     ]
    }
   ],
   "source": [
    "from PIL import Image\n",
    "from glob import glob\n",
    "import numpy as np\n",
    "from tqdm import tqdm\n",
    "\n",
    "image_paths = glob(\"data/bboxes/*.png\")\n",
    "img_arrs = []\n",
    "for image_path in tqdm(image_paths):\n",
    "    img = Image.open(image_path)\n",
    "    img_arr = np.array(img)\n",
    "    img_arrs.append(img_arr)\n",
    "\n",
    "# get mean and std\n",
    "img_arrs = np.array(img_arrs)"
   ]
  },
  {
   "cell_type": "code",
   "execution_count": 6,
   "metadata": {},
   "outputs": [],
   "source": [
    "img_arrs = img_arrs / 255\n",
    "# (72568, 64, 64, 3)"
   ]
  },
  {
   "cell_type": "code",
   "execution_count": 7,
   "metadata": {},
   "outputs": [],
   "source": [
    "mean = np.mean(img_arrs, axis=(0, 1, 2))"
   ]
  },
  {
   "cell_type": "code",
   "execution_count": 8,
   "metadata": {},
   "outputs": [],
   "source": [
    "std = np.std(img_arrs, axis=(0, 1, 2))"
   ]
  },
  {
   "cell_type": "code",
   "execution_count": 9,
   "metadata": {},
   "outputs": [
    {
     "data": {
      "text/plain": [
       "(array([0.50857319, 0.49239744, 0.47603964]),\n",
       " array([0.24135882, 0.24416414, 0.254905  ]))"
      ]
     },
     "execution_count": 9,
     "metadata": {},
     "output_type": "execute_result"
    }
   ],
   "source": [
    "mean, std"
   ]
  },
  {
   "cell_type": "code",
   "execution_count": 4,
   "metadata": {},
   "outputs": [
    {
     "data": {
      "image/jpeg": "[encoded data removed]",
      "image/png": "[encoded data removed]",
      "text/plain": [
       "<PIL.Image.Image image mode=RGB size=171x164>"
      ]
     },
     "metadata": {},
     "output_type": "display_data"
    }
   ],
   "source": [
    "from PIL import Image, ImageDraw\n",
    "from torchvision import transforms\n",
    "import torch\n",
    "from train_fast_rcnn import slot_to_bbox, sample_starting_inv\n",
    "\n",
    "starting_inv = sample_starting_inv()\n",
    "env.fast_reset(new_inventory=starting_inv)\n",
    "obs, _, _, _ = env.step(env.action_space.no_op())\n",
    "\n",
    "img = Image.fromarray(obs[\"pov\"])\n",
    "for item in obs[\"inventory\"]:\n",
    "    draw = ImageDraw.Draw(img)\n",
    "    bbox = slot_to_bbox(item[\"index\"])\n",
    "    draw.rectangle(bbox, outline=\"red\")\n",
    "\n",
    "img_tensor = transforms.ToTensor()(obs[\"pov\"].copy()).cuda()\n",
    "# with torch.no_grad():\n",
    "#     predictions = model(img_tensor.unsqueeze(0)) \n",
    "\n",
    "# for box_idx in range(len(predictions[0][\"boxes\"])):\n",
    "#     if predictions[0][\"scores\"][box_idx] < 0.3:\n",
    "#         continue\n",
    "#     box = predictions[0][\"boxes\"][box_idx]\n",
    "#     label = predictions[0][\"labels\"][box_idx]\n",
    "#     draw = ImageDraw.Draw(img)\n",
    "#     draw.rectangle([(box[0], box[1]), (box[2], box[3])], outline=\"blue\")\n",
    "#     # add text label in middle of box\n",
    "#     draw.text(\n",
    "#         (box[0].item() + (box[2].item() - box[0].item()) / 2, box[1].item() + (box[3].item() - box[1].item()) / 2),\n",
    "#         str(label.item()),\n",
    "#         fill=\"green\",\n",
    "#     )\n",
    "# # show\n",
    "img.show()"
   ]
  },
  {
   "cell_type": "code",
   "execution_count": 45,
   "metadata": {},
   "outputs": [
    {
     "data": {
      "text/plain": [
       "891"
      ]
     },
     "execution_count": 45,
     "metadata": {},
     "output_type": "execute_result"
    }
   ],
   "source": []
  },
  {
   "cell_type": "code",
   "execution_count": 50,
   "metadata": {},
   "outputs": [],
   "source": []
  },
  {
   "cell_type": "code",
   "execution_count": null,
   "metadata": {},
   "outputs": [],
   "source": []
  },
  {
   "cell_type": "code",
   "execution_count": 7,
   "metadata": {},
   "outputs": [
    {
     "data": {
      "image/jpeg": "[encoded data removed]",
      "image/png": "[encoded data removed]",
      "text/plain": [
       "<PIL.Image.Image image mode=RGB size=171x164>"
      ]
     },
     "metadata": {},
     "output_type": "display_data"
    }
   ],
   "source": [
    "from PIL import Image, ImageDraw\n",
    "from train_fast_rcnn import slot_to_bbox, sample_starting_inv\n",
    "\n",
    "from torchvision import transforms\n",
    "from PIL import Image, ImageDraw\n",
    "\n",
    "\n",
    "img = Image.fromarray(obs[\"pov\"])\n",
    "for item in obs[\"inventory\"]:\n",
    "    draw = ImageDraw.Draw(img)\n",
    "    bbox = slot_to_bbox(item[\"index\"])\n",
    "    draw.rectangle(bbox, outline=\"red\")\n",
    "\n",
    "# img_tensor = transforms.ToTensor()(obs[\"pov\"].copy()).cuda()\n",
    "# with torch.no_grad():\n",
    "#     predictions = model(img_tensor.unsqueeze(0)) \n",
    "\n",
    "# print(predictions)\n",
    "\n",
    "# for box_idx in range(len(predictions[0][\"boxes\"])):\n",
    "#     if predictions[0][\"scores\"][box_idx] < 0.3:\n",
    "#         continue\n",
    "#     box = predictions[0][\"boxes\"][box_idx]\n",
    "#     label = predictions[0][\"labels\"][box_idx]\n",
    "#     draw = ImageDraw.Draw(img)\n",
    "#     draw.rectangle([(box[0], box[1]), (box[2], box[3])], outline=\"blue\")\n",
    "#     # add text label in middle of box\n",
    "#     draw.text(\n",
    "#         (box[0].item() + (box[2].item() - box[0].item()) / 2, box[1].item() + (box[3].item() - box[1].item()) / 2),\n",
    "#         str(label.item()+1),\n",
    "#         fill=\"red\",\n",
    "#     )\n",
    "\n",
    "img.show()"
   ]
  },
  {
   "cell_type": "code",
   "execution_count": 87,
   "metadata": {},
   "outputs": [
    {
     "data": {
      "text/plain": [
       "[{'type': 'air', 'quantity': 0, 'index': 0},\n",
       " {'type': 'infested_stone_bricks', 'quantity': 35, 'index': 1},\n",
       " {'type': 'stripped_spruce_log', 'quantity': 59, 'index': 2},\n",
       " {'type': 'terracotta', 'quantity': 59, 'index': 3},\n",
       " {'type': 'air', 'quantity': 0, 'index': 4},\n",
       " {'type': 'warped_hyphae', 'quantity': 32, 'index': 5},\n",
       " {'type': 'air', 'quantity': 0, 'index': 6},\n",
       " {'type': 'orange_terracotta', 'quantity': 36, 'index': 7},\n",
       " {'type': 'air', 'quantity': 0, 'index': 8},\n",
       " {'type': 'air', 'quantity': 0, 'index': 9},\n",
       " {'type': 'salmon_spawn_egg', 'quantity': 47, 'index': 10},\n",
       " {'type': 'polished_diorite_slab', 'quantity': 40, 'index': 11},\n",
       " {'type': 'pufferfish_spawn_egg', 'quantity': 41, 'index': 12},\n",
       " {'type': 'prismarine_wall', 'quantity': 3, 'index': 13},\n",
       " {'type': 'air', 'quantity': 0, 'index': 14},\n",
       " {'type': 'cornflower', 'quantity': 41, 'index': 15},\n",
       " {'type': 'warped_pressure_plate', 'quantity': 34, 'index': 16},\n",
       " {'type': 'warped_stairs', 'quantity': 42, 'index': 17},\n",
       " {'type': 'feather', 'quantity': 64, 'index': 18},\n",
       " {'type': 'light_blue_dye', 'quantity': 11, 'index': 19},\n",
       " {'type': 'shield', 'quantity': 1, 'index': 20},\n",
       " {'type': 'air', 'quantity': 0, 'index': 21},\n",
       " {'type': 'honey_block', 'quantity': 54, 'index': 22},\n",
       " {'type': 'red_glazed_terracotta', 'quantity': 13, 'index': 23},\n",
       " {'type': 'bookshelf', 'quantity': 17, 'index': 24},\n",
       " {'type': 'white_concrete', 'quantity': 17, 'index': 25},\n",
       " {'type': 'cracked_nether_bricks', 'quantity': 49, 'index': 26},\n",
       " {'type': 'brown_banner', 'quantity': 9, 'index': 27},\n",
       " {'type': 'beetroot_seeds', 'quantity': 10, 'index': 28},\n",
       " {'type': 'magenta_glazed_terracotta', 'quantity': 49, 'index': 29},\n",
       " {'type': 'spruce_leaves', 'quantity': 32, 'index': 30},\n",
       " {'type': 'prismarine_wall', 'quantity': 24, 'index': 31},\n",
       " {'type': 'apple', 'quantity': 33, 'index': 32},\n",
       " {'type': 'birch_slab', 'quantity': 42, 'index': 33},\n",
       " {'type': 'yellow_glazed_terracotta', 'quantity': 54, 'index': 34},\n",
       " {'type': 'emerald_ore', 'quantity': 62, 'index': 35},\n",
       " {'type': 'air', 'quantity': 0, 'index': 36},\n",
       " {'type': 'air', 'quantity': 0, 'index': 37},\n",
       " {'type': 'lava_bucket', 'quantity': 1, 'index': 38},\n",
       " {'type': 'air', 'quantity': 0, 'index': 39},\n",
       " {'type': 'air', 'quantity': 0, 'index': 40},\n",
       " {'type': 'golden_pickaxe', 'quantity': 1, 'index': 41},\n",
       " {'type': 'air', 'quantity': 0, 'index': 42},\n",
       " {'type': 'wooden_shovel', 'quantity': 1, 'index': 43},\n",
       " {'type': 'dark_prismarine', 'quantity': 5, 'index': 44},\n",
       " {'type': 'air', 'quantity': 0, 'index': 45}]"
      ]
     },
     "execution_count": 87,
     "metadata": {},
     "output_type": "execute_result"
    }
   ],
   "source": [
    "obs[\"inventory\"]"
   ]
  },
  {
   "cell_type": "code",
   "execution_count": 5,
   "metadata": {},
   "outputs": [
    {
     "ename": "IndexError",
     "evalue": "list index out of range",
     "output_type": "error",
     "traceback": [
      "\u001b[0;31m---------------------------------------------------------------------------\u001b[0m",
      "\u001b[0;31mIndexError\u001b[0m                                Traceback (most recent call last)",
      "Cell \u001b[0;32mIn[5], line 7\u001b[0m\n\u001b[1;32m      4\u001b[0m model\u001b[38;5;241m.\u001b[39meval()\n\u001b[1;32m      6\u001b[0m idx \u001b[38;5;241m=\u001b[39m \u001b[38;5;241m0\u001b[39m\n\u001b[0;32m----> 7\u001b[0m img_tensor \u001b[38;5;241m=\u001b[39m transforms\u001b[38;5;241m.\u001b[39mToTensor()(\u001b[43mdata\u001b[49m\u001b[43m[\u001b[49m\u001b[43midx\u001b[49m\u001b[43m]\u001b[49m[\u001b[38;5;124m\"\u001b[39m\u001b[38;5;124mpov\u001b[39m\u001b[38;5;124m\"\u001b[39m]\u001b[38;5;241m.\u001b[39mcopy())\u001b[38;5;241m.\u001b[39mcuda()\n\u001b[1;32m      9\u001b[0m \u001b[38;5;28;01mwith\u001b[39;00m torch\u001b[38;5;241m.\u001b[39mno_grad():\n\u001b[1;32m     10\u001b[0m     predictions \u001b[38;5;241m=\u001b[39m model(img_tensor\u001b[38;5;241m.\u001b[39munsqueeze(\u001b[38;5;241m0\u001b[39m))  \n",
      "\u001b[0;31mIndexError\u001b[0m: list index out of range"
     ]
    }
   ],
   "source": [
    "from torchvision import transforms\n",
    "from PIL import Image, ImageDraw\n",
    "\n",
    "model.eval()\n",
    "\n",
    "idx = 0\n",
    "img_tensor = transforms.ToTensor()(data[idx][\"pov\"].copy()).cuda()\n",
    "\n",
    "with torch.no_grad():\n",
    "    predictions = model(img_tensor.unsqueeze(0))  \n",
    "\n",
    "img = Image.fromarray(data[idx][\"pov\"])\n",
    "for item in data[-1][\"inventory\"]:\n",
    "    draw = ImageDraw.Draw(img)\n",
    "    draw.rectangle(item[\"bbox\"], outline=\"red\")\n",
    "\n",
    "for box_idx in range(len(predictions[0][\"boxes\"])):\n",
    "    if predictions[0][\"scores\"][box_idx] < 0.5:\n",
    "        continue\n",
    "    box = predictions[0][\"boxes\"][box_idx]\n",
    "    label = predictions[0][\"labels\"][box_idx]\n",
    "    draw = ImageDraw.Draw(img)\n",
    "    draw.rectangle([box[0].item(), box[1].item(), box[2].item(), box[3].item()], outline=\"blue\")\n",
    "\n",
    "    # add text label in middle of box\n",
    "    draw.text(\n",
    "        (box[0].item() + (box[2].item() - box[0].item()) / 2, box[1].item() + (box[3].item() - box[1].item()) / 2),\n",
    "        str(label.item()+1),\n",
    "        fill=\"red\",\n",
    "    )\n",
    "\n",
    "img.show()"
   ]
  },
  {
   "cell_type": "code",
   "execution_count": 1,
   "metadata": {},
   "outputs": [
    {
     "name": "stdout",
     "output_type": "stream",
     "text": [
      "0\n",
      "1\n",
      "2\n",
      "3\n",
      "4\n"
     ]
    }
   ],
   "source": [
    "def tmp():\n",
    "    n = 0\n",
    "    while n < 10:\n",
    "        if n == 5:\n",
    "            return\n",
    "        yield n\n",
    "        n += 1\n",
    "\n",
    "for i in tmp():\n",
    "    print(i) "
   ]
  },
  {
   "cell_type": "code",
   "execution_count": 2,
   "metadata": {},
   "outputs": [
    {
     "data": {
      "text/plain": [
       "tensor([[[[1.0000, 1.0000, 1.0000,  ..., 1.0000, 1.0000, 1.0000],\n",
       "          [1.0000, 1.0000, 1.0000,  ..., 1.0000, 1.0000, 1.0000],\n",
       "          [1.0000, 1.0000, 0.7765,  ..., 0.7765, 0.7765, 0.7765],\n",
       "          ...,\n",
       "          [1.0000, 0.7765, 0.7765,  ..., 0.7765, 0.7765, 0.3333],\n",
       "          [0.7765, 0.3333, 0.3333,  ..., 0.3333, 0.3333, 0.3333],\n",
       "          [0.0000, 0.3333, 0.3333,  ..., 0.3333, 0.3333, 0.3333]],\n",
       "\n",
       "         [[1.0000, 1.0000, 1.0000,  ..., 1.0000, 1.0000, 1.0000],\n",
       "          [1.0000, 1.0000, 1.0000,  ..., 1.0000, 1.0000, 1.0000],\n",
       "          [1.0000, 1.0000, 0.7765,  ..., 0.7765, 0.7765, 0.7765],\n",
       "          ...,\n",
       "          [1.0000, 0.7765, 0.7765,  ..., 0.7765, 0.7765, 0.3333],\n",
       "          [0.7765, 0.3333, 0.3333,  ..., 0.3333, 0.3333, 0.3333],\n",
       "          [0.0000, 0.3333, 0.3333,  ..., 0.3333, 0.3333, 0.3333]],\n",
       "\n",
       "         [[1.0000, 1.0000, 1.0000,  ..., 1.0000, 1.0000, 1.0000],\n",
       "          [1.0000, 1.0000, 1.0000,  ..., 1.0000, 1.0000, 1.0000],\n",
       "          [1.0000, 1.0000, 0.7765,  ..., 0.7765, 0.7765, 0.7765],\n",
       "          ...,\n",
       "          [1.0000, 0.7765, 0.7765,  ..., 0.7765, 0.7765, 0.3333],\n",
       "          [0.7765, 0.3333, 0.3333,  ..., 0.3333, 0.3333, 0.3333],\n",
       "          [0.0000, 0.3333, 0.3333,  ..., 0.3333, 0.3333, 0.3333]]],\n",
       "\n",
       "\n",
       "        [[[1.0000, 1.0000, 1.0000,  ..., 1.0000, 1.0000, 1.0000],\n",
       "          [1.0000, 1.0000, 1.0000,  ..., 1.0000, 1.0000, 1.0000],\n",
       "          [1.0000, 1.0000, 0.7765,  ..., 0.7765, 0.7765, 0.7765],\n",
       "          ...,\n",
       "          [1.0000, 0.7765, 0.7765,  ..., 0.7765, 0.7765, 0.3333],\n",
       "          [0.7765, 0.3333, 0.3333,  ..., 0.3333, 0.3333, 0.3333],\n",
       "          [0.0000, 0.3333, 0.3333,  ..., 0.3333, 0.3333, 0.3333]],\n",
       "\n",
       "         [[1.0000, 1.0000, 1.0000,  ..., 1.0000, 1.0000, 1.0000],\n",
       "          [1.0000, 1.0000, 1.0000,  ..., 1.0000, 1.0000, 1.0000],\n",
       "          [1.0000, 1.0000, 0.7765,  ..., 0.7765, 0.7765, 0.7765],\n",
       "          ...,\n",
       "          [1.0000, 0.7765, 0.7765,  ..., 0.7765, 0.7765, 0.3333],\n",
       "          [0.7765, 0.3333, 0.3333,  ..., 0.3333, 0.3333, 0.3333],\n",
       "          [0.0000, 0.3333, 0.3333,  ..., 0.3333, 0.3333, 0.3333]],\n",
       "\n",
       "         [[1.0000, 1.0000, 1.0000,  ..., 1.0000, 1.0000, 1.0000],\n",
       "          [1.0000, 1.0000, 1.0000,  ..., 1.0000, 1.0000, 1.0000],\n",
       "          [1.0000, 1.0000, 0.7765,  ..., 0.7765, 0.7765, 0.7765],\n",
       "          ...,\n",
       "          [1.0000, 0.7765, 0.7765,  ..., 0.7765, 0.7765, 0.3333],\n",
       "          [0.7765, 0.3333, 0.3333,  ..., 0.3333, 0.3333, 0.3333],\n",
       "          [0.0000, 0.3333, 0.3333,  ..., 0.3333, 0.3333, 0.3333]]],\n",
       "\n",
       "\n",
       "        [[[1.0000, 1.0000, 1.0000,  ..., 1.0000, 1.0000, 1.0000],\n",
       "          [1.0000, 1.0000, 1.0000,  ..., 1.0000, 1.0000, 1.0000],\n",
       "          [1.0000, 1.0000, 0.7765,  ..., 0.7765, 0.7765, 0.7765],\n",
       "          ...,\n",
       "          [1.0000, 0.7765, 0.7765,  ..., 0.7765, 0.7765, 0.3333],\n",
       "          [0.7765, 0.3333, 0.3333,  ..., 0.3333, 0.3333, 0.3333],\n",
       "          [0.0000, 0.3333, 0.3333,  ..., 0.3333, 0.3333, 0.3333]],\n",
       "\n",
       "         [[1.0000, 1.0000, 1.0000,  ..., 1.0000, 1.0000, 1.0000],\n",
       "          [1.0000, 1.0000, 1.0000,  ..., 1.0000, 1.0000, 1.0000],\n",
       "          [1.0000, 1.0000, 0.7765,  ..., 0.7765, 0.7765, 0.7765],\n",
       "          ...,\n",
       "          [1.0000, 0.7765, 0.7765,  ..., 0.7765, 0.7765, 0.3333],\n",
       "          [0.7765, 0.3333, 0.3333,  ..., 0.3333, 0.3333, 0.3333],\n",
       "          [0.0000, 0.3333, 0.3333,  ..., 0.3333, 0.3333, 0.3333]],\n",
       "\n",
       "         [[1.0000, 1.0000, 1.0000,  ..., 1.0000, 1.0000, 1.0000],\n",
       "          [1.0000, 1.0000, 1.0000,  ..., 1.0000, 1.0000, 1.0000],\n",
       "          [1.0000, 1.0000, 0.7765,  ..., 0.7765, 0.7765, 0.7765],\n",
       "          ...,\n",
       "          [1.0000, 0.7765, 0.7765,  ..., 0.7765, 0.7765, 0.3333],\n",
       "          [0.7765, 0.3333, 0.3333,  ..., 0.3333, 0.3333, 0.3333],\n",
       "          [0.0000, 0.3333, 0.3333,  ..., 0.3333, 0.3333, 0.3333]]],\n",
       "\n",
       "\n",
       "        [[[1.0000, 1.0000, 1.0000,  ..., 1.0000, 1.0000, 1.0000],\n",
       "          [1.0000, 1.0000, 1.0000,  ..., 1.0000, 1.0000, 1.0000],\n",
       "          [1.0000, 1.0000, 0.7765,  ..., 0.7765, 0.7765, 0.7765],\n",
       "          ...,\n",
       "          [1.0000, 0.7765, 0.7765,  ..., 0.7765, 0.7765, 0.3333],\n",
       "          [0.7765, 0.3333, 0.3333,  ..., 0.3333, 0.3333, 0.3333],\n",
       "          [0.0000, 0.3333, 0.3333,  ..., 0.3333, 0.3333, 0.3333]],\n",
       "\n",
       "         [[1.0000, 1.0000, 1.0000,  ..., 1.0000, 1.0000, 1.0000],\n",
       "          [1.0000, 1.0000, 1.0000,  ..., 1.0000, 1.0000, 1.0000],\n",
       "          [1.0000, 1.0000, 0.7765,  ..., 0.7765, 0.7765, 0.7765],\n",
       "          ...,\n",
       "          [1.0000, 0.7765, 0.7765,  ..., 0.7765, 0.7765, 0.3333],\n",
       "          [0.7765, 0.3333, 0.3333,  ..., 0.3333, 0.3333, 0.3333],\n",
       "          [0.0000, 0.3333, 0.3333,  ..., 0.3333, 0.3333, 0.3333]],\n",
       "\n",
       "         [[1.0000, 1.0000, 1.0000,  ..., 1.0000, 1.0000, 1.0000],\n",
       "          [1.0000, 1.0000, 1.0000,  ..., 1.0000, 1.0000, 1.0000],\n",
       "          [1.0000, 1.0000, 0.7765,  ..., 0.7765, 0.7765, 0.7765],\n",
       "          ...,\n",
       "          [1.0000, 0.7765, 0.7765,  ..., 0.7765, 0.7765, 0.3333],\n",
       "          [0.7765, 0.3333, 0.3333,  ..., 0.3333, 0.3333, 0.3333],\n",
       "          [0.0000, 0.3333, 0.3333,  ..., 0.3333, 0.3333, 0.3333]]]])"
      ]
     },
     "execution_count": 2,
     "metadata": {},
     "output_type": "execute_result"
    }
   ],
   "source": []
  },
  {
   "cell_type": "code",
   "execution_count": 128,
   "metadata": {},
   "outputs": [],
   "source": [
    "import torch\n",
    "from torch.utils.data import Dataset\n",
    "from torchvision import transforms\n",
    "\n",
    "class InventoryDataset(Dataset):\n",
    "    def __init__(self, data):\n",
    "        self.data = data\n",
    "        self.transform = transforms.Compose(\n",
    "            [\n",
    "                transforms.ToTensor(),\n",
    "            ]\n",
    "        )\n",
    "\n",
    "    def __len__(self):\n",
    "        return len(self.data)\n",
    "    \n",
    "    def __getitem__(self, idx):\n",
    "        img = self.transform(self.data[idx][\"pov\"].copy())\n",
    "        target = {\n",
    "            \"labels\": [],\n",
    "            \"boxes\": []\n",
    "        }\n",
    "\n",
    "        for i in self.data[idx][\"inventory\"]:\n",
    "            target[\"labels\"].append(i[\"quantity\"])\n",
    "            target[\"boxes\"].append(i[\"bbox\"])\n",
    "        \n",
    "        target[\"labels\"] = torch.tensor(target[\"labels\"], dtype=torch.int64)-1\n",
    "        target[\"boxes\"] = torch.tensor(target[\"boxes\"], dtype=torch.int64)\n",
    "        \n",
    "        return img, target\n",
    "    \n",
    "# N = len(data)\n",
    "train_dataset = InventoryDataset(data)\n",
    "# val_dataset = InventoryDataset(data[int(N*0.9):])"
   ]
  },
  {
   "cell_type": "code",
   "execution_count": 123,
   "metadata": {},
   "outputs": [],
   "source": [
    "import wandb\n",
    "wandb.require(\"core\")"
   ]
  },
  {
   "cell_type": "code",
   "execution_count": 130,
   "metadata": {},
   "outputs": [
    {
     "name": "stderr",
     "output_type": "stream",
     "text": [
      "/usr/local/lib/python3.10/dist-packages/wandb/sdk/lib/ipython.py:77: DeprecationWarning: Importing display from IPython.core.display is deprecated since IPython 7.14, please import from IPython display\n",
      "  from IPython.core.display import HTML, display  # type: ignore\n"
     ]
    },
    {
     "data": {
      "text/html": [
       "Changes to your `wandb` environment variables will be ignored because your `wandb` session has already started. For more information on how to modify your settings with `wandb.init()` arguments, please refer to <a href='https://wandb.me/wandb-init' target=\"_blank\">the W&B docs</a>."
      ],
      "text/plain": [
       "<IPython.core.display.HTML object>"
      ]
     },
     "metadata": {},
     "output_type": "display_data"
    },
    {
     "ename": "CommError",
     "evalue": "Run initialization has timed out after 90.0 sec. \nPlease refer to the documentation for additional information: https://docs.wandb.ai/guides/track/tracking-faq#initstarterror-error-communicating-with-wandb-process-",
     "output_type": "error",
     "traceback": [
      "\u001b[0;31m---------------------------------------------------------------------------\u001b[0m",
      "\u001b[0;31mCommError\u001b[0m                                 Traceback (most recent call last)",
      "Cell \u001b[0;32mIn[130], line 22\u001b[0m\n\u001b[1;32m     18\u001b[0m \u001b[38;5;66;03m# val_loader = DataLoader(val_dataset, batch_size=batch_size, shuffle=False, num_workers=1, collate_fn=collate_fn)\u001b[39;00m\n\u001b[1;32m     20\u001b[0m optimizer \u001b[38;5;241m=\u001b[39m torch\u001b[38;5;241m.\u001b[39moptim\u001b[38;5;241m.\u001b[39mAdamW(model\u001b[38;5;241m.\u001b[39mparameters(), lr\u001b[38;5;241m=\u001b[39mlr)\n\u001b[0;32m---> 22\u001b[0m \u001b[43mwandb\u001b[49m\u001b[38;5;241;43m.\u001b[39;49m\u001b[43minit\u001b[49m\u001b[43m(\u001b[49m\u001b[43mproject\u001b[49m\u001b[38;5;241;43m=\u001b[39;49m\u001b[38;5;124;43m\"\u001b[39;49m\u001b[38;5;124;43mplancraft-img-encoder\u001b[39;49m\u001b[38;5;124;43m\"\u001b[39;49m\u001b[43m,\u001b[49m\u001b[43m \u001b[49m\u001b[43mentity\u001b[49m\u001b[38;5;241;43m=\u001b[39;49m\u001b[38;5;124;43m\"\u001b[39;49m\u001b[38;5;124;43mitl\u001b[39;49m\u001b[38;5;124;43m\"\u001b[39;49m\u001b[43m)\u001b[49m\n\u001b[1;32m     24\u001b[0m batch_num \u001b[38;5;241m=\u001b[39m \u001b[38;5;241m1\u001b[39m\n\u001b[1;32m     25\u001b[0m \u001b[38;5;28;01mfor\u001b[39;00m epoch \u001b[38;5;129;01min\u001b[39;00m \u001b[38;5;28mrange\u001b[39m(num_epochs):\n",
      "File \u001b[0;32m/usr/local/lib/python3.10/dist-packages/wandb/sdk/wandb_init.py:1195\u001b[0m, in \u001b[0;36minit\u001b[0;34m(job_type, dir, config, project, entity, reinit, tags, group, name, notes, magic, config_exclude_keys, config_include_keys, anonymous, mode, allow_val_change, resume, force, tensorboard, sync_tensorboard, monitor_gym, save_code, id, fork_from, resume_from, settings)\u001b[0m\n\u001b[1;32m   1191\u001b[0m     logger\u001b[38;5;241m.\u001b[39mexception(\u001b[38;5;124m\"\u001b[39m\u001b[38;5;124merror in wandb.init()\u001b[39m\u001b[38;5;124m\"\u001b[39m, exc_info\u001b[38;5;241m=\u001b[39me)\n\u001b[1;32m   1193\u001b[0m \u001b[38;5;66;03m# Need to build delay into this sentry capture because our exit hooks\u001b[39;00m\n\u001b[1;32m   1194\u001b[0m \u001b[38;5;66;03m# mess with sentry's ability to send out errors before the program ends.\u001b[39;00m\n\u001b[0;32m-> 1195\u001b[0m \u001b[43mwandb\u001b[49m\u001b[38;5;241;43m.\u001b[39;49m\u001b[43m_sentry\u001b[49m\u001b[38;5;241;43m.\u001b[39;49m\u001b[43mreraise\u001b[49m\u001b[43m(\u001b[49m\u001b[43me\u001b[49m\u001b[43m)\u001b[49m\n\u001b[1;32m   1196\u001b[0m \u001b[38;5;28;01mraise\u001b[39;00m \u001b[38;5;167;01mAssertionError\u001b[39;00m()\n",
      "File \u001b[0;32m/usr/local/lib/python3.10/dist-packages/wandb/analytics/sentry.py:155\u001b[0m, in \u001b[0;36mSentry.reraise\u001b[0;34m(self, exc)\u001b[0m\n\u001b[1;32m    152\u001b[0m \u001b[38;5;28mself\u001b[39m\u001b[38;5;241m.\u001b[39mexception(exc)\n\u001b[1;32m    153\u001b[0m \u001b[38;5;66;03m# this will messily add this \"reraise\" function to the stack trace,\u001b[39;00m\n\u001b[1;32m    154\u001b[0m \u001b[38;5;66;03m# but hopefully it's not too bad\u001b[39;00m\n\u001b[0;32m--> 155\u001b[0m \u001b[38;5;28;01mraise\u001b[39;00m exc\u001b[38;5;241m.\u001b[39mwith_traceback(sys\u001b[38;5;241m.\u001b[39mexc_info()[\u001b[38;5;241m2\u001b[39m])\n",
      "File \u001b[0;32m/usr/local/lib/python3.10/dist-packages/wandb/sdk/wandb_init.py:1181\u001b[0m, in \u001b[0;36minit\u001b[0;34m(job_type, dir, config, project, entity, reinit, tags, group, name, notes, magic, config_exclude_keys, config_include_keys, anonymous, mode, allow_val_change, resume, force, tensorboard, sync_tensorboard, monitor_gym, save_code, id, fork_from, resume_from, settings)\u001b[0m\n\u001b[1;32m   1179\u001b[0m     wi \u001b[38;5;241m=\u001b[39m _WandbInit()\n\u001b[1;32m   1180\u001b[0m     wi\u001b[38;5;241m.\u001b[39msetup(kwargs)\n\u001b[0;32m-> 1181\u001b[0m     \u001b[38;5;28;01mreturn\u001b[39;00m \u001b[43mwi\u001b[49m\u001b[38;5;241;43m.\u001b[39;49m\u001b[43minit\u001b[49m\u001b[43m(\u001b[49m\u001b[43m)\u001b[49m\n\u001b[1;32m   1183\u001b[0m \u001b[38;5;28;01mexcept\u001b[39;00m \u001b[38;5;167;01mKeyboardInterrupt\u001b[39;00m \u001b[38;5;28;01mas\u001b[39;00m e:\n\u001b[1;32m   1184\u001b[0m     \u001b[38;5;28;01mif\u001b[39;00m logger \u001b[38;5;129;01mis\u001b[39;00m \u001b[38;5;129;01mnot\u001b[39;00m \u001b[38;5;28;01mNone\u001b[39;00m:\n",
      "File \u001b[0;32m/usr/local/lib/python3.10/dist-packages/wandb/sdk/wandb_init.py:785\u001b[0m, in \u001b[0;36m_WandbInit.init\u001b[0;34m(self)\u001b[0m\n\u001b[1;32m    783\u001b[0m         backend\u001b[38;5;241m.\u001b[39mcleanup()\n\u001b[1;32m    784\u001b[0m         \u001b[38;5;28mself\u001b[39m\u001b[38;5;241m.\u001b[39mteardown()\n\u001b[0;32m--> 785\u001b[0m     \u001b[38;5;28;01mraise\u001b[39;00m error\n\u001b[1;32m    787\u001b[0m \u001b[38;5;28;01massert\u001b[39;00m run_result \u001b[38;5;129;01mis\u001b[39;00m \u001b[38;5;129;01mnot\u001b[39;00m \u001b[38;5;28;01mNone\u001b[39;00m  \u001b[38;5;66;03m# for mypy\u001b[39;00m\n\u001b[1;32m    789\u001b[0m \u001b[38;5;28;01mif\u001b[39;00m \u001b[38;5;129;01mnot\u001b[39;00m run_result\u001b[38;5;241m.\u001b[39mHasField(\u001b[38;5;124m\"\u001b[39m\u001b[38;5;124mrun\u001b[39m\u001b[38;5;124m\"\u001b[39m):\n",
      "\u001b[0;31mCommError\u001b[0m: Run initialization has timed out after 90.0 sec. \nPlease refer to the documentation for additional information: https://docs.wandb.ai/guides/track/tracking-faq#initstarterror-error-communicating-with-wandb-process-"
     ]
    }
   ],
   "source": [
    "import wandb\n",
    "from torch.utils.data import DataLoader\n",
    "\n",
    "num_epochs = 10\n",
    "batch_size = 2\n",
    "lr = 0.005\n",
    "\n",
    "def collate_fn(batch):\n",
    "    image_stack = []\n",
    "    target_stack = []\n",
    "    for img, target in batch:\n",
    "        image_stack.append(img)\n",
    "        target_stack.append(target)\n",
    "    return torch.stack(image_stack), target_stack\n",
    "\n",
    "\n",
    "train_loader = DataLoader(train_dataset, batch_size=batch_size, shuffle=True, num_workers=1, collate_fn=collate_fn)\n",
    "# val_loader = DataLoader(val_dataset, batch_size=batch_size, shuffle=False, num_workers=1, collate_fn=collate_fn)\n",
    "\n",
    "optimizer = torch.optim.AdamW(model.parameters(), lr=lr)\n",
    "\n",
    "wandb.init(project=\"plancraft-img-encoder\", entity=\"itl\")\n",
    "\n",
    "batch_num = 1\n",
    "for epoch in range(num_epochs):\n",
    "    model.train()\n",
    "    for imgs, labels in train_loader:\n",
    "        imgs = imgs.cuda()\n",
    "        for i in range(len(labels)):\n",
    "            labels[i][\"boxes\"] = labels[i][\"boxes\"].cuda()\n",
    "            labels[i][\"labels\"] = labels[i][\"labels\"].cuda()\n",
    "        loss_dict = model(imgs, labels)\n",
    "        wandb.log(loss_dict)\n",
    "        losses = sum(loss for loss in loss_dict.values())\n",
    "        optimizer.zero_grad()\n",
    "        losses.backward()\n",
    "        optimizer.step()\n",
    "        batch_num += 1\n",
    "        if batch_num % 100 == 0:\n",
    "            print(f\"Epoch {epoch}, Batch {batch_num}, Loss: {losses}\")\n",
    "\n",
    "    # model.eval()\n",
    "    # with torch.no_grad():\n",
    "    #     for imgs, labels in val_loader:\n",
    "    #         imgs = imgs.cuda()\n",
    "    #         for i in range(len(labels)):\n",
    "    #             labels[i][\"boxes\"] = labels[i][\"boxes\"].cuda()\n",
    "    #             labels[i][\"labels\"] = labels[i][\"labels\"].cuda()\n",
    "\n",
    "    #         loss_dict = model(imgs, labels)\n",
    "\n",
    "    #         val_loss_dict = {}\n",
    "    #         for k, v in loss_dict.items():\n",
    "    #             val_loss_dict[f\"val_{k}\"] = v.item()\n",
    "    #         wandb.log(val_loss_dict)\n",
    "\n",
    "    #         losses = sum(loss for loss in loss_dict.values())\n",
    "    # print(f\"Epoch {epoch}, Loss: {losses}\")\n",
    "\n",
    "# wandb.finish()"
   ]
  },
  {
   "cell_type": "code",
   "execution_count": 5,
   "metadata": {},
   "outputs": [
    {
     "name": "stdout",
     "output_type": "stream",
     "text": [
      "1\n",
      "1\n",
      "1\n",
      "1\n",
      "1\n",
      "1\n",
      "1\n",
      "1\n",
      "1\n",
      "1\n"
     ]
    }
   ],
   "source": [
    "class GenerativeDataset:\n",
    "    def __iter__(self):\n",
    "        return self\n",
    "    def __next__(self):\n",
    "        return 1\n",
    "\n",
    "a = GenerativeDataset()\n",
    "\n",
    "c = 0\n",
    "for i in a:\n",
    "    print(i)\n",
    "    c += 1\n",
    "    if c == 10:\n",
    "        break\n"
   ]
  },
  {
   "cell_type": "code",
   "execution_count": 28,
   "metadata": {},
   "outputs": [],
   "source": []
  },
  {
   "cell_type": "code",
   "execution_count": 29,
   "metadata": {},
   "outputs": [
    {
     "data": {
      "image/jpeg": "[encoded data removed]",
      "image/png": "[encoded data removed]",
      "text/plain": [
       "<PIL.Image.Image image mode=RGB size=171x164>"
      ]
     },
     "metadata": {},
     "output_type": "display_data"
    }
   ],
   "source": []
  },
  {
   "cell_type": "code",
   "execution_count": 13,
   "metadata": {},
   "outputs": [],
   "source": [
    "losses = sum(loss for loss in loss_dict.values())"
   ]
  },
  {
   "cell_type": "code",
   "execution_count": 55,
   "metadata": {},
   "outputs": [
    {
     "data": {
      "text/plain": [
       "tensor([1])"
      ]
     },
     "execution_count": 55,
     "metadata": {},
     "output_type": "execute_result"
    }
   ],
   "source": [
    "# data[0][\"pov\"]\n",
    "torch.tensor([1])"
   ]
  },
  {
   "cell_type": "code",
   "execution_count": 24,
   "metadata": {},
   "outputs": [
    {
     "data": {
      "text/plain": [
       "1"
      ]
     },
     "execution_count": 24,
     "metadata": {},
     "output_type": "execute_result"
    }
   ],
   "source": [
    "\n",
    "\n",
    "\n"
   ]
  },
  {
   "cell_type": "code",
   "execution_count": 28,
   "metadata": {},
   "outputs": [],
   "source": []
  },
  {
   "cell_type": "code",
   "execution_count": 33,
   "metadata": {},
   "outputs": [
    {
     "name": "stdout",
     "output_type": "stream",
     "text": [
      "Help on method forward in module torchvision.models.detection.generalized_rcnn:\n",
      "\n",
      "forward(images, targets=None) method of torchvision.models.detection.faster_rcnn.FasterRCNN instance\n",
      "    Args:\n",
      "        images (list[Tensor]): images to be processed\n",
      "        targets (list[Dict[str, Tensor]]): ground-truth boxes present in the image (optional)\n",
      "    \n",
      "    Returns:\n",
      "        result (list[BoxList] or dict[Tensor]): the output from the model.\n",
      "            During training, it returns a dict[Tensor] which contains the losses.\n",
      "            During testing, it returns list[BoxList] contains additional fields\n",
      "            like `scores`, `labels` and `mask` (for Mask R-CNN models).\n",
      "\n"
     ]
    }
   ],
   "source": [
    "help(model.forward)"
   ]
  },
  {
   "cell_type": "code",
   "execution_count": 89,
   "metadata": {},
   "outputs": [
    {
     "name": "stdout",
     "output_type": "stream",
     "text": [
      "/plancraft/outputs/oracle_real/train/0/TRAIN0157.json\n",
      "/plancraft/outputs/oracle_real/train/0/TRAIN0071.json\n"
     ]
    }
   ],
   "source": [
    "import glob\n",
    "import numpy as np\n",
    "from PIL import Image, ImageSequence\n",
    "\n",
    "observed_data = []\n",
    "\n",
    "for f in glob.glob(\"/plancraft/outputs/oracle_real/train/0/*.json\"):\n",
    "    with open(f, \"r\") as file:\n",
    "        inventories = json.load(file)[\"model_trace\"][\"inventory_history\"]\n",
    "    gif_path = str(f).replace(\".json\", \".gif\")\n",
    "    # load gif as list of images\n",
    "    gif = Image.open(gif_path)\n",
    "    frames = [frame.copy() for frame in ImageSequence.Iterator(gif)]\n",
    "    if len(frames) != len(inventories):\n",
    "        print(f)\n",
    "    else:\n",
    "        for frame, inv in zip(frames, inventories):\n",
    "            clean_inv = []\n",
    "            for item in inv:\n",
    "                if item[\"quantity\"] > 0:\n",
    "                    clean_inv.append(\n",
    "                        {\n",
    "                            \"type\": item[\"type\"],\n",
    "                            \"slot\": item[\"index\"],\n",
    "                            \"quantity\": item[\"quantity\"],\n",
    "                            \"bbox\": slot_to_bbox(item[\"index\"]),\n",
    "                        }\n",
    "                    )\n",
    "            observed_data.append(\n",
    "                {\"inventory\": clean_inv, \"pov\": np.array(frame.convert(\"RGB\"))}\n",
    "            )\n",
    "    # assert len(frames) == len(inv), (len(frames), len(inv))"
   ]
  },
  {
   "cell_type": "code",
   "execution_count": 125,
   "metadata": {},
   "outputs": [],
   "source": [
    "import torch\n",
    "from torch.utils.data import Dataset\n",
    "import torchvision.transforms as transforms\n",
    "\n",
    "\n",
    "class InventoryDataset(Dataset):\n",
    "    def __init__(self, data):\n",
    "        self.data = data\n",
    "        self.transform = transforms.Compose(\n",
    "            [\n",
    "                transforms.ToTensor(),\n",
    "                transforms.Resize((224, 224)),  # Resize images to 224x224\n",
    "            ]\n",
    "        )\n",
    "\n",
    "    def __len__(self):\n",
    "        return len(self.data)\n",
    "\n",
    "    def __getitem__(self, idx):\n",
    "        item = self.data[idx]\n",
    "        pov = item[\"pov\"]\n",
    "        pov = self.transform(pov)\n",
    "\n",
    "        inventory = item[\"inventory\"]\n",
    "        types = [i[\"type\"] for i in inventory]\n",
    "        slots = [i[\"slot\"] for i in inventory]\n",
    "        quantities = [i[\"quantity\"] for i in inventory]\n",
    "        bboxes = [i[\"bbox\"] for i in inventory]\n",
    "\n",
    "        return pov, types, slots, quantities, bboxes\n",
    "\n",
    "\n",
    "def collate_fn(batch):\n",
    "    return tuple(zip(*batch))\n",
    "\n",
    "dataset = InventoryDataset(observed_data)\n",
    "train_loader = torch.utils.data.DataLoader(\n",
    "    dataset, batch_size=32, shuffle=True, collate_fn=collate_fn\n",
    ")\n",
    "batch = next(iter(train_loader))"
   ]
  },
  {
   "cell_type": "code",
   "execution_count": 135,
   "metadata": {},
   "outputs": [
    {
     "name": "stderr",
     "output_type": "stream",
     "text": [
      "/usr/local/lib/python3.10/dist-packages/torchvision/models/_utils.py:208: UserWarning: The parameter 'pretrained' is deprecated since 0.13 and may be removed in the future, please use 'weights' instead.\n",
      "  warnings.warn(\n",
      "/usr/local/lib/python3.10/dist-packages/torchvision/models/_utils.py:223: UserWarning: Arguments other than a weight enum or `None` for 'weights' are deprecated since 0.13 and may be removed in the future. The current behavior is equivalent to passing `weights=ResNet18_Weights.IMAGENET1K_V1`. You can also use `weights=ResNet18_Weights.DEFAULT` to get the most up-to-date weights.\n",
      "  warnings.warn(msg)\n"
     ]
    },
    {
     "name": "stdout",
     "output_type": "stream",
     "text": [
      "Model has 11M parameters\n"
     ]
    }
   ],
   "source": [
    "import torch.nn as nn\n",
    "import torchvision.models as models\n",
    "\n",
    "class InventoryModel(nn.Module):\n",
    "    def __init__(self, num_types, num_slots):\n",
    "        super(InventoryModel, self).__init__()\n",
    "        self.backbone = models.resnet18(pretrained=True)\n",
    "        self.backbone.fc = nn.Identity()  # Remove the classification layer\n",
    "\n",
    "        # Bounding box head\n",
    "        self.bbox_head = nn.Sequential(\n",
    "            nn.Linear(512, 128),\n",
    "            nn.ReLU(),\n",
    "            nn.Linear(128, 4),  # 4 coordinates for the bounding box\n",
    "        )\n",
    "\n",
    "        # Slot index prediction head\n",
    "        self.slot_head = nn.Sequential(\n",
    "            nn.Linear(512, 128), nn.ReLU(), nn.Linear(128, num_slots), nn.Softmax(dim=1)\n",
    "        )\n",
    "\n",
    "        # Quantity prediction head\n",
    "        self.quantity_head = nn.Sequential(\n",
    "            nn.Linear(512, 128),\n",
    "            nn.ReLU(),\n",
    "            nn.Linear(128, 64),\n",
    "            nn.Softmax(dim=1), \n",
    "        )\n",
    "\n",
    "    def count_parameters(self):\n",
    "        return sum(p.numel() for p in self.parameters() if p.requires_grad) // 1000000\n",
    "\n",
    "    def forward(self, x):\n",
    "        features = self.backbone(x)\n",
    "        bbox = self.bbox_head(features)\n",
    "        # types = self.type_head(features)\n",
    "        slots = self.slot_head(features)\n",
    "        quantity = self.quantity_head(features)\n",
    "        return bbox, slots, quantity\n",
    "\n",
    "\n",
    "# Example usage\n",
    "model = InventoryModel(num_types=100, num_slots=45)  # Replace with actual numbers\n",
    "model = model.cuda()\n",
    "# Count number of parameters\n",
    "print(f\"Model has {model.count_parameters()}M parameters\")"
   ]
  },
  {
   "cell_type": "markdown",
   "metadata": {},
   "source": [
    "# Get oracle O,A Dialogues"
   ]
  },
  {
   "cell_type": "code",
   "execution_count": 1,
   "metadata": {},
   "outputs": [],
   "source": [
    "import json\n",
    "import glob\n",
    "import numpy as np\n",
    "from PIL import Image, ImageSequence\n",
    "\n",
    "oracle_trajectories_train = []\n",
    "oracle_results = {\n",
    "    \"/plancraft/outputs/oracle_real/train/0/*.json\": [],\n",
    "    \"/plancraft/outputs/oracle_real/val/0/*.json\": [],\n",
    "}\n",
    "for path in oracle_results.keys():\n",
    "    for f in glob.glob(path):\n",
    "        with open(f, \"r\") as file:\n",
    "            traj = json.load(file)\n",
    "\n",
    "        images = []\n",
    "        gif_path = str(f).replace(\".json\", \".gif\")\n",
    "        gif = Image.open(gif_path)\n",
    "        for frame in ImageSequence.Iterator(gif):\n",
    "            images.append(np.array(frame.convert(\"RGB\")))\n",
    "        traj[\"model_trace\"][\"images\"] = images\n",
    "\n",
    "        if (\n",
    "            len(traj[\"model_trace\"][\"images\"])\n",
    "            == len(traj[\"model_trace\"][\"inventory_history\"])\n",
    "            == len(traj[\"model_trace\"][\"action_history\"])\n",
    "        ):\n",
    "            oracle_results[path].append(traj)\n",
    "        else:\n",
    "            print(f)"
   ]
  },
  {
   "cell_type": "code",
   "execution_count": 26,
   "metadata": {},
   "outputs": [],
   "source": [
    "import os\n",
    "from plancraft.models.react_prompts import REACT_SYSTEM_PROMPT\n",
    "from collections import defaultdict\n",
    "\n",
    "\n",
    "def convert_obs_to_text(objective: str, inventory: list[dict]):\n",
    "    return f\"TASK: {objective}\\ninventory={json.dumps(inventory)}\"\n",
    "\n",
    "\n",
    "def convert_action_to_text(action: dict):\n",
    "    # {'action_type': 'move', 'slot_from': 17, 'slot_to': 1, 'quantity': 1}\n",
    "    return f\"act: {action['action_type']} from slot {action['slot_from']} to slot {action['slot_to']} with quantity {action['quantity']}\"\n",
    "\n",
    "\n",
    "# convert action and inventory to dialogue history\n",
    "def convert_trajectory_to_base_dialogue(traj: dict):\n",
    "    dialogue = [{\"role\": \"system\", \"content\": REACT_SYSTEM_PROMPT}]\n",
    "    objective = traj[\"model_trace\"][\"objective\"]\n",
    "    for _, action, inventory in zip(\n",
    "        traj[\"model_trace\"][\"images\"],\n",
    "        traj[\"model_trace\"][\"action_history\"],\n",
    "        traj[\"model_trace\"][\"inventory_history\"],\n",
    "    ):\n",
    "        dialogue.append(\n",
    "            {\n",
    "                \"role\": \"user\",\n",
    "                \"content\": convert_obs_to_text(objective, inventory),\n",
    "            }\n",
    "        )\n",
    "        dialogue.append(\n",
    "            {\n",
    "                \"role\": \"assistant\",\n",
    "                \"content\": convert_action_to_text(action),\n",
    "            }\n",
    "        )\n",
    "    example = {\n",
    "        \"messages\": dialogue,\n",
    "        \"example_id\": traj[\"example_id\"],\n",
    "    }\n",
    "    return example\n",
    "\n",
    "\n",
    "# convert action and inventory to dialogue history\n",
    "def convert_trajectory_to_image_dialogue(traj: dict):\n",
    "    dialogue = [\n",
    "        {\"role\": \"system\", \"content\": [{\"type\": \"text\", \"text\": REACT_SYSTEM_PROMPT}]}\n",
    "    ]\n",
    "    objective = traj[\"model_trace\"][\"objective\"]\n",
    "    images = []\n",
    "    for image, action, inventory in zip(\n",
    "        traj[\"model_trace\"][\"images\"],\n",
    "        traj[\"model_trace\"][\"action_history\"],\n",
    "        traj[\"model_trace\"][\"inventory_history\"],\n",
    "    ):\n",
    "        dialogue.append(\n",
    "            {\n",
    "                \"role\": \"user\",\n",
    "                \"content\": [{\"type\": \"image\"}, {\"type\": \"text\", \"text\": objective}],\n",
    "            }\n",
    "        )\n",
    "        dialogue.append(\n",
    "            {\n",
    "                \"role\": \"assistant\",\n",
    "                \"content\": [{\"type\": \"text\", \"text\": convert_action_to_text(action)}],\n",
    "            }\n",
    "        )\n",
    "        images.append(image)\n",
    "    example = {\n",
    "        \"messages\": dialogue,\n",
    "        \"example_id\": traj[\"example_id\"],\n",
    "    }\n",
    "    return example, images\n",
    "\n",
    "\n",
    "text_data = defaultdict(list)\n",
    "mm_data = defaultdict(list)\n",
    "for path, trajs in oracle_results.items():\n",
    "    split = path.split(\"/\")[-3]\n",
    "    for traj in trajs:\n",
    "        text_example = convert_trajectory_to_base_dialogue(traj)\n",
    "        text_data[split].append(text_example)\n",
    "        mm_example, example_imgs = convert_trajectory_to_image_dialogue(traj)\n",
    "        mm_data[split].append(mm_example)\n",
    "        # save imgs as png in format \"data/oracle/{split}/{example_id}_{step}.gif\"\n",
    "        os.makedirs(f\"data/oracle/{split}\", exist_ok=True)\n",
    "        for i, img in enumerate(example_imgs):\n",
    "            Image.fromarray(img).save(\n",
    "                f\"data/oracle/{split}/{traj['example_id']}_{i}.png\"\n",
    "            )\n",
    "\n",
    "    # save as jsonl file\n",
    "    with open(f\"data/oracle/{split}.jsonl\", \"w\") as f:\n",
    "        for example in text_data[split]:\n",
    "            f.write(json.dumps(example) + \"\\n\")\n",
    "\n",
    "    with open(f\"data/oracle/{split}.mm.jsonl\", \"w\") as f:\n",
    "        for example in mm_data[split]:\n",
    "            f.write(json.dumps(example) + \"\\n\")"
   ]
  },
  {
   "cell_type": "markdown",
   "metadata": {},
   "source": [
    "# Generate Thought traces"
   ]
  },
  {
   "cell_type": "code",
   "execution_count": 1,
   "metadata": {},
   "outputs": [],
   "source": [
    "import json\n",
    "import pandas as pd\n",
    "\n",
    "split = \"train\"\n",
    "with open(f\"data/{split}.json\", \"r\") as f:\n",
    "    examples = json.load(f)\n",
    "df = pd.DataFrame(examples)\n",
    "\n",
    "dialogues = []\n",
    "with open(f\"data/oracle/{split}.jsonl\", \"r\") as f:\n",
    "    for line in f:\n",
    "        dialogues.append(json.loads(line))\n",
    "\n",
    "dialogue_df = pd.DataFrame(dialogues)\n",
    "\n",
    "df = pd.merge(df, dialogue_df, left_on=\"id\", right_on=\"example_id\", how=\"inner\")"
   ]
  },
  {
   "cell_type": "code",
   "execution_count": 16,
   "metadata": {},
   "outputs": [],
   "source": [
    "BASE_PROMPT = \"\"\"\n",
    "You are crafting in Minecraft.\n",
    "\n",
    "The first 10 slots in the inventory are reserved for crafting and correspond to the minecraft crafting table.\n",
    "[1, 2, 3]\n",
    "[4, 5, 6] -> [0]\n",
    "[7, 8, 9]\n",
    "\n",
    "The crafting matrix is a 3x3 grid, and the output is sent to slot 0.\n",
    "You cannot move or smelt items into output slot 0.\n",
    "The remaining slots (10-45) are for storing items.\n",
    "\n",
    "For a given observation action pair, you should explain the reasoning behind taking that action. Mention the state of the environment, what the next recipe to craft is (in the context of the greater planning problem) and why this move should be taken.\n",
    "\n",
    "Examples:\n",
    "\n",
    "TASK: Craft an item of type: andesite\n",
    "Crafting path: [andesite]\n",
    "\n",
    "1. inventory='[{\"type\": \"diorite\", \"slot\": 27, \"quantity\": 1},{\"type\": \"cobblestone\", \"slot\": 39, \"quantity\": 1}]'\n",
    "action: move from slot 27 to slot 4 with quantity 1\n",
    "thought: To solve this task I need to craft andesite. Andesite requires placing 1 diorite and 1 cobblestone side by side in the crafting table, therefore I will first need to move the diorite from slot 27 into the crafting grid. \n",
    "\n",
    "2. inventory=[{\"type\": \"diorite\", \"slot\": 4, \"quantity\": 1},{\"type\": \"cobblestone\", \"slot\": 39, \"quantity\": 1}]\n",
    "action: move from slot 39 to slot 5 with quantity 1\n",
    "thought: Since the diorite has been moved into the crafting grid, I now need to move the cobblestone to the right of it. Slot 5 is to the right of slot 4, and therefore I will move the cobblestone to slot 5.\n",
    "\n",
    "3. inventory=[{\"type\": \"andesite\", \"slot\": 0, \"quantity\": 1},{\"type\": \"diorite\", \"slot\": 4, \"quantity\": 1},{\"type\": \"cobblestone\", \"slot\": 5, \"quantity\": 1}]\n",
    "action: move from slot 0 to slot 15 with quantity 1\n",
    "thought: Now I can craft the andesite by moving it from the craft slot (0) to a free inventory slot (eg., 15). \n",
    "\n",
    "TASK: Craft an item of type: iron_ingot\n",
    "Crafting path: [iron_ingot]\n",
    "\n",
    "1. inventory='[{\"type\": \"iron_ore\", \"slot\": 45, \"quantity\": 1},{\"type\": \"cobblestone\", \"slot\": 39, \"quantity\": 1}]\n",
    "action: smelt from slot 45 to slot 44 with quantity 1\n",
    "thought: To craft an iron_ingot, I need to smelt the iron_ore at slot 45 into an empty slot (eg., 44).\n",
    "\n",
    "\"\"\""
   ]
  },
  {
   "cell_type": "code",
   "execution_count": 3,
   "metadata": {},
   "outputs": [
    {
     "name": "stderr",
     "output_type": "stream",
     "text": [
      "/usr/local/lib/python3.10/dist-packages/tqdm/auto.py:21: TqdmWarning: IProgress not found. Please update jupyter and ipywidgets. See https://ipywidgets.readthedocs.io/en/stable/user_install.html\n",
      "  from .autonotebook import tqdm as notebook_tqdm\n",
      "Special tokens have been added in the vocabulary, make sure the associated word embeddings are fine-tuned or trained.\n",
      "Loading checkpoint shards: 100%|██████████| 30/30 [00:24<00:00,  1.24it/s]\n"
     ]
    }
   ],
   "source": [
    "from transformers import AutoTokenizer, AutoModelForCausalLM\n",
    "import torch\n",
    "\n",
    "model_name = \"/nfs/public/hf/models/meta-llama/Meta-Llama-3-70B\"\n",
    "tokenizer = AutoTokenizer.from_pretrained(model_name, local_files_only=True)\n",
    "model = AutoModelForCausalLM.from_pretrained(\n",
    "    model_name,\n",
    "    local_files_only=True,\n",
    "    device_map=\"auto\",\n",
    "    torch_dtype=torch.bfloat16,\n",
    ")"
   ]
  },
  {
   "cell_type": "code",
   "execution_count": 12,
   "metadata": {},
   "outputs": [],
   "source": [
    "from transformers import StopStringCriteria, StoppingCriteriaList\n",
    "\n",
    "stopping_criteria = StoppingCriteriaList([StopStringCriteria(\n",
    "    tokenizer=tokenizer, stop_strings=[\"\\n\", \"\\n\\n\", \".\\n\\n\", \"\\n\\n\\n\"]\n",
    ")])"
   ]
  },
  {
   "cell_type": "code",
   "execution_count": 19,
   "metadata": {},
   "outputs": [
    {
     "name": "stderr",
     "output_type": "stream",
     "text": [
      "Setting `pad_token_id` to `eos_token_id`:128001 for open-end generation.\n",
      "/usr/local/lib/python3.10/dist-packages/transformers/generation/utils.py:1797: UserWarning: You are calling .generate() with the `input_ids` being on a device type different than your model's device. `input_ids` is on cpu, whereas the model is on cuda. You may experience unexpected behaviors or slower generation. Please make sure that you have put `input_ids` to the correct device by calling for example input_ids = input_ids.to('cuda') before running `.generate()`.\n",
      "  warnings.warn(\n",
      "Setting `pad_token_id` to `eos_token_id`:128001 for open-end generation.\n"
     ]
    },
    {
     "name": "stdout",
     "output_type": "stream",
     "text": [
      "[{'role': 'user', 'content': 'TASK: Craft an item of type: red_dye\\ninventory=[{\"type\": \"torch\", \"quantity\": 57, \"index\": 19}, {\"type\": \"wooden_pickaxe\", \"quantity\": 1, \"index\": 21}, {\"type\": \"map\", \"quantity\": 22, \"index\": 26}, {\"type\": \"beetroot\", \"quantity\": 1, \"index\": 35}, {\"type\": \"lodestone\", \"quantity\": 50, \"index\": 36}]'}, {'role': 'assistant', 'content': 'To craft a red_dye, I need to move the beetroot from slot 35 to slot 1.'}, {'role': 'user', 'content': 'Ok'}, {'role': 'assistant', 'content': 'act: move from slot 35 to slot 1 with quantity 1'}, {'role': 'user', 'content': 'TASK: Craft an item of type: red_dye\\ninventory=[{\"type\": \"red_dye\", \"quantity\": 1, \"index\": 0}, {\"type\": \"beetroot\", \"quantity\": 1, \"index\": 1}, {\"type\": \"torch\", \"quantity\": 57, \"index\": 19}, {\"type\": \"wooden_pickaxe\", \"quantity\": 1, \"index\": 21}, {\"type\": \"map\", \"quantity\": 22, \"index\": 26}, {\"type\": \"lodestone\", \"quantity\": 50, \"index\": 36}]'}, {'role': 'assistant', 'content': 'Now that the red_dye is in the crafting slot, I can move it to the inventory slot 11.'}, {'role': 'user', 'content': 'Ok'}, {'role': 'assistant', 'content': 'act: move from slot 0 to slot 11 with quantity 1'}]\n"
     ]
    }
   ],
   "source": [
    "def generate_thoughts(row):\n",
    "    step = 1\n",
    "    task_message = BASE_PROMPT + row.messages[1][\"content\"].split(\"\\n\")[0]\n",
    "    task_message += f\"\\nCrafting path: {row.optimal_path}\"\n",
    "    OTA_messages = []\n",
    "    for i in range(1, len(row.messages), 2):\n",
    "        user_entry = row.messages[i]\n",
    "        assert user_entry[\"role\"] == \"user\"\n",
    "        assistant_entry = row.messages[i + 1]\n",
    "        assert assistant_entry[\"role\"] == \"assistant\"\n",
    "        inventory = user_entry[\"content\"].split(\"inventory=\")[1]\n",
    "        action = assistant_entry[\"content\"]\n",
    "        task_message += f\"\\n\\n{step}. inventory={inventory}\\naction: {action}\\nthought:\"\n",
    "        tokenized_prompt = tokenizer(task_message, return_tensors=\"pt\")\n",
    "        outputs = model.generate(\n",
    "            **tokenized_prompt,\n",
    "            tokenizer=tokenizer,\n",
    "            max_new_tokens=128,\n",
    "            do_sample=True,\n",
    "            temperature=0.6,\n",
    "            top_p=0.9,\n",
    "            stopping_criteria=[stopping_criteria],\n",
    "        )\n",
    "        # Decode the generated output\n",
    "        generated_text = tokenizer.decode(outputs[0], skip_special_tokens=True).rstrip(\n",
    "            \"\\n\"\n",
    "        )\n",
    "        thought = generated_text.split(\"thought:\")[-1].strip()\n",
    "        OTA_messages.append(user_entry)  # Observation\n",
    "        OTA_messages.append({\"role\": \"assistant\", \"content\": f\"thought: {thought}\"})  # Thought\n",
    "        OTA_messages.append({\"role\": \"user\", \"content\": \"Ok\"})\n",
    "        OTA_messages.append(assistant_entry) # Action\n",
    "        task_message = generated_text\n",
    "        step += 1\n",
    "    return OTA_messages\n",
    "\n",
    "# Convert and print the result\n",
    "output = generate_thoughts(df.iloc[0])\n",
    "print(output)"
   ]
  },
  {
   "cell_type": "code",
   "execution_count": 24,
   "metadata": {},
   "outputs": [
    {
     "data": {
      "text/plain": [
       "'TRAIN0001'"
      ]
     },
     "execution_count": 24,
     "metadata": {},
     "output_type": "execute_result"
    }
   ],
   "source": [
    "df.iloc[0][\"id\"]"
   ]
  }
 ],
 "metadata": {
  "kernelspec": {
   "display_name": "Python 3",
   "language": "python",
   "name": "python3"
  },
  "language_info": {
   "codemirror_mode": {
    "name": "ipython",
    "version": 3
   },
   "file_extension": ".py",
   "mimetype": "text/x-python",
   "name": "python",
   "nbconvert_exporter": "python",
   "pygments_lexer": "ipython3",
   "version": "3.10.12"
  }
 },
 "nbformat": 4,
 "nbformat_minor": 2
}
