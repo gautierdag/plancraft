{
 "cells": [
  {
   "cell_type": "markdown",
   "metadata": {},
   "source": [
    "# Train image classifier with Huggingface"
   ]
  },
  {
   "cell_type": "code",
   "execution_count": null,
   "metadata": {},
   "outputs": [],
   "source": [
    "from train_fast_rcnn import sample_environment\n",
    "for batch in sample_environment(batch_size=32, N=100):\n",
    "    break"
   ]
  },
  {
   "cell_type": "code",
   "execution_count": null,
   "metadata": {},
   "outputs": [],
   "source": [
    "images, targets, raw_images, inv = batch"
   ]
  },
  {
   "cell_type": "code",
   "execution_count": null,
   "metadata": {},
   "outputs": [],
   "source": [
    "from PIL import Image\n",
    "import numpy as np\n",
    "\n",
    "img = Image.fromarray((images[0].cpu().numpy()*255).astype(np.uint8).transpose(1, 2, 0))\n",
    "img.show()"
   ]
  },
  {
   "cell_type": "code",
   "execution_count": null,
   "metadata": {},
   "outputs": [],
   "source": [
    "import torch\n",
    "# save images\n",
    "torch.save(images, 'images.pth')"
   ]
  },
  {
   "cell_type": "code",
   "execution_count": null,
   "metadata": {},
   "outputs": [],
   "source": [
    "import torch\n",
    "from train_fast_rcnn import IntegratedBoundingBoxModel\n",
    "\n",
    "model = IntegratedBoundingBoxModel()\n",
    "model.load(\"/plancraft/plancraft_fast_rcnn.pth\")\n",
    "model.eval()\n",
    "model = model.cuda()\n",
    "\n",
    "images = torch.load(\"images.pth\")\n",
    "with torch.no_grad():\n",
    "    images = images.cuda()\n",
    "    predictions = model(images)"
   ]
  },
  {
   "cell_type": "code",
   "execution_count": null,
   "metadata": {},
   "outputs": [],
   "source": [
    "from minerl.herobraine.hero.mc import ALL_ITEMS\n",
    "from PIL import Image, ImageDraw\n",
    "\n",
    "for img_idx in range(len(images)):\n",
    "    # generate image and target for validation\n",
    "    img = Image.fromarray(raw_images[img_idx].copy())\n",
    "    for box in targets[img_idx][\"boxes\"]:\n",
    "        draw = ImageDraw.Draw(img)\n",
    "\n",
    "    for box_idx in range(len(predictions[img_idx][\"boxes\"])):\n",
    "        box = predictions[img_idx][\"boxes\"][box_idx]\n",
    "        score = predictions[img_idx][\"scores\"][box_idx]\n",
    "        label = predictions[img_idx][\"labels\"][box_idx]\n",
    "        quantity = predictions[img_idx][\"quantities\"][box_idx]\n",
    "\n",
    "        if score > 0.05:\n",
    "            draw = ImageDraw.Draw(img)\n",
    "            draw.rectangle(box.cpu().tolist(), outline=\"green\")\n",
    "            label_name = ALL_ITEMS[label.item()]\n",
    "            draw.text(\n",
    "                (box[0], box[1]),\n",
    "                f\"{label_name}\",\n",
    "                fill=\"green\",\n",
    "            )\n",
    "            draw.text(\n",
    "                (box[0], box[1] + 10),\n",
    "                f\"{quantity.item()}\",\n",
    "                fill=\"blue\",\n",
    "            )\n",
    "\n",
    "    img.show()\n",
    "    # break"
   ]
  }
 ],
 "metadata": {
  "kernelspec": {
   "display_name": "Python 3",
   "language": "python",
   "name": "python3"
  },
  "language_info": {
   "codemirror_mode": {
    "name": "ipython",
    "version": 3
   },
   "file_extension": ".py",
   "mimetype": "text/x-python",
   "name": "python",
   "nbconvert_exporter": "python",
   "pygments_lexer": "ipython3",
   "version": "3.10.12"
  }
 },
 "nbformat": 4,
 "nbformat_minor": 2
}
