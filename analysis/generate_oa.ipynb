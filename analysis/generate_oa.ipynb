{
 "cells": [
  {
   "cell_type": "code",
   "execution_count": 75,
   "metadata": {},
   "outputs": [],
   "source": [
    "import json\n",
    "import glob\n",
    "import imageio.v2 as imageio\n",
    "\n",
    "\n",
    "oracle_trajectories_train = []\n",
    "oracle_results = {\n",
    "    \"/plancraft/outputs/oracle_real/train/0/*.json\": [],\n",
    "    \"/plancraft/outputs/oracle_real/val/0/*.json\": [],\n",
    "}\n",
    "x, c = 0,0\n",
    "for path in oracle_results.keys():\n",
    "    for json_path in sorted(glob.glob(path)):\n",
    "        with open(json_path, \"r\") as file:\n",
    "            traj = json.load(file)\n",
    "        if (\n",
    "             traj[\"success\"] and len(traj[\"model_trace\"][\"inventory_history\"]) == len(traj[\"model_trace\"][\"action_history\"])\n",
    "        ):\n",
    "            # find gif of the trajectory\n",
    "            gif_path = json_path.replace(\"json\", \"gif\")\n",
    "            # load the gif as list of images\n",
    "            images = imageio.mimread(gif_path)\n",
    "\n",
    "            assert len(images) == len(traj[\"model_trace\"][\"action_history\"])\n",
    "            traj[\"images\"] = images\n",
    "            # ignore impossible actions\n",
    "            oracle_results[path].append(traj)"
   ]
  },
  {
   "cell_type": "code",
   "execution_count": 76,
   "metadata": {},
   "outputs": [
    {
     "data": {
      "text/plain": [
       "'You are crafting in Minecraft. You need to decide on the next action.\\n\\nCrafting Grid: The crafting table is organized into a 3x3 grid. Each slot in the grid has a unique identifier:\\n    - Top row: [A1] [A2] [A3]\\n    - Middle row: [B1] [B2] [B3]\\n    - Bottom row: [C1] [C2] [C3]\\n\\nThe output of the crafting process is placed in a designated output slot labeled [0] You cannot move or smelt items directly into slot [0]\\n\\nInventory Slots: The remaining inventory slots (outside of the crafting grid) are used for storing items. These slots are labeled as [I1] to [I36]\\n\\nActions:\\n\\t- move: Transfer a specific quantity of an item from one slot to another\\n\\t- smelt: Smelt an item in a furnace and moves the output to a specific slot\\n\\nFormat\\n\\t- `move: from [Source] to [Target] with quantity N`\\n\\t- `smelt: from [Source] to [Target] with quantity N`\\n\\nExample:\\n    - `move: from [I2] to [A1] with quantity 3`\\n    - `smelt: from [I5] to [I6] with quantity 1`\\n\\nConstraints:\\n   - You cannot move or smelt items into [0]\\n   - If an item is not in slot [0] then the recipe is incorrect\\n   - You need to move items from [0] to a free inventory slot to complete the crafting process'"
      ]
     },
     "execution_count": 76,
     "metadata": {},
     "output_type": "execute_result"
    }
   ],
   "source": [
    "from plancraft.models.prompts import get_system_prompt\n",
    "from collections import defaultdict\n",
    "\n",
    "SYSTEM_PROMPT = get_system_prompt(actions=[\"move\", \"smelt\"])\n",
    "\n",
    "SYSTEM_PROMPT"
   ]
  },
  {
   "cell_type": "code",
   "execution_count": 77,
   "metadata": {},
   "outputs": [],
   "source": [
    "import os\n",
    "from plancraft.environments.actions import convert_from_slot_index\n",
    "from plancraft.models.utils import objective_and_inventory_to_str\n",
    "\n",
    "def convert_action_to_text(action: dict):\n",
    "    slot_from = convert_from_slot_index(action['slot_from'])\n",
    "    slot_to = convert_from_slot_index(action['slot_to'])\n",
    "    action_type = action[\"action_type\"]\n",
    "    return f\"{action_type}: from {slot_from} to {slot_to} with quantity {action['quantity']}\"\n",
    "\n",
    "\n",
    "# convert action and inventory to dialogue history\n",
    "def convert_trajectory_to_base_dialogue(traj: dict):\n",
    "    dialogue = [{\"role\": \"system\", \"content\": SYSTEM_PROMPT}]\n",
    "    objective = traj[\"model_trace\"][\"objective\"]\n",
    "    for action, inventory in zip(\n",
    "        traj[\"model_trace\"][\"action_history\"],\n",
    "        traj[\"model_trace\"][\"inventory_history\"],\n",
    "    ):\n",
    "        dialogue.append(\n",
    "            {\n",
    "                \"role\": \"user\",\n",
    "                \"content\": objective_and_inventory_to_str(objective, inventory),\n",
    "            }\n",
    "        )\n",
    "        dialogue.append(\n",
    "            {\n",
    "                \"role\": \"assistant\",\n",
    "                \"content\": convert_action_to_text(action),\n",
    "            }\n",
    "        )\n",
    "    example = {\n",
    "        \"messages\": dialogue,\n",
    "        \"example_id\": traj[\"example_id\"],\n",
    "    }\n",
    "    return example"
   ]
  },
  {
   "cell_type": "code",
   "execution_count": 78,
   "metadata": {},
   "outputs": [],
   "source": [
    "data = defaultdict(list)\n",
    "for path, trajs in oracle_results.items():\n",
    "    split = path.split(\"/\")[-3]\n",
    "    for traj in trajs:\n",
    "        text_example = convert_trajectory_to_base_dialogue(traj)\n",
    "        images = traj[\"images\"]\n",
    "        data[split].append((text_example, images))"
   ]
  },
  {
   "cell_type": "code",
   "execution_count": 86,
   "metadata": {},
   "outputs": [],
   "source": [
    "for split in data:\n",
    "    for example, images in data[split]:\n",
    "        # save under data/oracle/{split}/oa/{example_id}.json\n",
    "        example_id = example[\"example_id\"]\n",
    "        example_path = os.path.join(\n",
    "            \"/plancraft/data/oracle\", split, \"oa\", f\"{example_id}.json\"\n",
    "        )\n",
    "        os.makedirs(os.path.dirname(example_path), exist_ok=True)\n",
    "        with open(example_path, \"w\") as f:\n",
    "            f.write(json.dumps(example, indent=2))\n",
    "\n",
    "        # save under data/oracle/{split}/images/{example_id}.gif\n",
    "        gif_folder = os.path.join(\n",
    "            \"/plancraft/data/oracle\", split, \"images\"\n",
    "        )\n",
    "        os.makedirs(gif_folder, exist_ok=True)\n",
    "        gif_path = os.path.join(gif_folder, f\"{example_id}.gif\")\n",
    "        imageio.mimsave(gif_path, images, duration=0.5)\n"
   ]
  },
  {
   "cell_type": "markdown",
   "metadata": {},
   "source": [
    "## Ensure images are correct"
   ]
  },
  {
   "cell_type": "code",
   "execution_count": 87,
   "metadata": {},
   "outputs": [
    {
     "name": "stdout",
     "output_type": "stream",
     "text": [
      "Split: train, 945 out of 945 have images\n",
      "Split: val, 470 out of 470 have images\n"
     ]
    }
   ],
   "source": [
    "import glob\n",
    "import json\n",
    "\n",
    "splits = [\"train\", \"val\"]\n",
    "\n",
    "cannot_solve = []\n",
    "\n",
    "for split in splits:\n",
    "    c = 0\n",
    "    paths = glob.glob(f\"/plancraft/data/oracle/{split}/oa/*.json\")\n",
    "    for json_example in paths:\n",
    "        with open(json_example, \"r\") as f:\n",
    "            example = json.load(f)\n",
    "        action_messages = []\n",
    "        for m in example[\"messages\"]:\n",
    "            if m[\"role\"] == \"assistant\":\n",
    "                action_messages.append(m[\"content\"])\n",
    "        gif_path = f\"/plancraft/data/oracle/{split}/images/{example['example_id']}.gif\"\n",
    "        images_for_example = imageio.mimread(gif_path)\n",
    "        if len(images_for_example) == len(action_messages):\n",
    "            c += 1\n",
    "        else:\n",
    "            cannot_solve.append(example[\"example_id\"])\n",
    "\n",
    "    print(f\"Split: {split}, {c} out of {len(paths)} have images\")"
   ]
  },
  {
   "cell_type": "code",
   "execution_count": 82,
   "metadata": {},
   "outputs": [
    {
     "data": {
      "text/plain": [
       "[]"
      ]
     },
     "execution_count": 82,
     "metadata": {},
     "output_type": "execute_result"
    }
   ],
   "source": [
    "cannot_solve"
   ]
  },
  {
   "cell_type": "markdown",
   "metadata": {},
   "source": [
    "### fix dataset after a oracle run"
   ]
  },
  {
   "cell_type": "code",
   "execution_count": null,
   "metadata": {},
   "outputs": [],
   "source": [
    "import glob\n",
    "import json\n",
    "\n",
    "examples = glob.glob(\"/plancraft/outputs/oracle_real/*/0/*.json\")\n",
    "non_valid_ids = set()\n",
    "\n",
    "for example in examples:\n",
    "    data = json.load(open(example))\n",
    "    if not data[\"success\"]:\n",
    "        non_valid_ids.add(data[\"example_id\"])\n",
    "\n",
    "print(len(non_valid_ids))\n"
   ]
  },
  {
   "cell_type": "code",
   "execution_count": null,
   "metadata": {},
   "outputs": [],
   "source": [
    "for dataset_name in glob.glob(\"data/*.json\"):\n",
    "    dataset = json.load(open(dataset_name))\n",
    "    new_dataset = []\n",
    "    for example in dataset:\n",
    "        if example[\"id\"] not in non_valid_ids:\n",
    "            new_dataset.append(example)\n",
    "    print(dataset_name, len(dataset), len(new_dataset))\n",
    "    # replace\n",
    "    json.dump(new_dataset, open(dataset_name, \"w\"), indent=2)\n"
   ]
  }
 ],
 "metadata": {
  "kernelspec": {
   "display_name": "Python 3",
   "language": "python",
   "name": "python3"
  },
  "language_info": {
   "codemirror_mode": {
    "name": "ipython",
    "version": 3
   },
   "file_extension": ".py",
   "mimetype": "text/x-python",
   "name": "python",
   "nbconvert_exporter": "python",
   "pygments_lexer": "ipython3",
   "version": "3.10.12"
  }
 },
 "nbformat": 4,
 "nbformat_minor": 2
}
