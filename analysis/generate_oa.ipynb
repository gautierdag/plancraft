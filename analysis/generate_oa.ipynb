{
 "cells": [
  {
   "cell_type": "code",
   "execution_count": null,
   "metadata": {},
   "outputs": [],
   "source": [
    "import json\n",
    "import glob\n",
    "\n",
    "\n",
    "oracle_trajectories_train = []\n",
    "oracle_results = {\n",
    "    \"/plancraft/outputs/oracle_symb/train/0/*.json\": [],\n",
    "    \"/plancraft/outputs/oracle_symb/val/0/*.json\": [],\n",
    "}\n",
    "x, c = 0,0\n",
    "for path in oracle_results.keys():\n",
    "    for f in glob.glob(path):\n",
    "        with open(f, \"r\") as file:\n",
    "            traj = json.load(file)\n",
    "        if (\n",
    "            len(traj[\"model_trace\"][\"inventory_history\"]) == len(traj[\"model_trace\"][\"action_history\"])\n",
    "        ):\n",
    "            # ignore impossible actions\n",
    "            oracle_results[path].append(traj)"
   ]
  },
  {
   "cell_type": "code",
   "execution_count": null,
   "metadata": {},
   "outputs": [],
   "source": [
    "from plancraft.models.prompts import get_system_prompt\n",
    "from collections import defaultdict\n",
    "\n",
    "SYSTEM_PROMPT = get_system_prompt(actions=[\"move\", \"smelt\"])\n",
    "\n",
    "SYSTEM_PROMPT"
   ]
  },
  {
   "cell_type": "code",
   "execution_count": null,
   "metadata": {},
   "outputs": [],
   "source": [
    "import os\n",
    "from plancraft.environments.actions import convert_from_slot_index\n",
    "from plancraft.models.utils import objective_and_inventory_to_str\n",
    "\n",
    "def convert_action_to_text(action: dict):\n",
    "    slot_from = convert_from_slot_index(action['slot_from'])\n",
    "    slot_to = convert_from_slot_index(action['slot_to'])\n",
    "    action_type = action[\"action_type\"]\n",
    "    return f\"{action_type}: from {slot_from} to {slot_to} with quantity {action['quantity']}\"\n",
    "\n",
    "\n",
    "# convert action and inventory to dialogue history\n",
    "def convert_trajectory_to_base_dialogue(traj: dict):\n",
    "    dialogue = [{\"role\": \"system\", \"content\": SYSTEM_PROMPT}]\n",
    "    objective = traj[\"model_trace\"][\"objective\"]\n",
    "    for action, inventory in zip(\n",
    "        traj[\"model_trace\"][\"action_history\"],\n",
    "        traj[\"model_trace\"][\"inventory_history\"],\n",
    "    ):\n",
    "        dialogue.append(\n",
    "            {\n",
    "                \"role\": \"user\",\n",
    "                \"content\": objective_and_inventory_to_str(objective, inventory),\n",
    "            }\n",
    "        )\n",
    "        dialogue.append(\n",
    "            {\n",
    "                \"role\": \"assistant\",\n",
    "                \"content\": convert_action_to_text(action),\n",
    "            }\n",
    "        )\n",
    "    example = {\n",
    "        \"messages\": dialogue,\n",
    "        \"example_id\": traj[\"example_id\"],\n",
    "    }\n",
    "    return example"
   ]
  },
  {
   "cell_type": "code",
   "execution_count": null,
   "metadata": {},
   "outputs": [],
   "source": [
    "text_data = defaultdict(list)\n",
    "for path, trajs in oracle_results.items():\n",
    "    split = path.split(\"/\")[-3]\n",
    "    for traj in trajs:\n",
    "        text_example = convert_trajectory_to_base_dialogue(traj)\n",
    "        text_data[split].append(text_example)"
   ]
  },
  {
   "cell_type": "code",
   "execution_count": null,
   "metadata": {},
   "outputs": [],
   "source": [
    "for split in text_data:\n",
    "    for example in text_data[split]:\n",
    "        # save under data/oracle/{split}/oa/{example_id}.json\n",
    "        example_id = example[\"example_id\"]\n",
    "        example_path = os.path.join(\"../data/oracle\", split, \"oa\", f\"{example_id}.json\")\n",
    "        os.makedirs(os.path.dirname(example_path), exist_ok=True)\n",
    "        with open(example_path, \"w\") as f:\n",
    "            f.write(json.dumps(example, indent=2))"
   ]
  }
 ],
 "metadata": {
  "kernelspec": {
   "display_name": "Python 3",
   "language": "python",
   "name": "python3"
  },
  "language_info": {
   "codemirror_mode": {
    "name": "ipython",
    "version": 3
   },
   "file_extension": ".py",
   "mimetype": "text/x-python",
   "name": "python",
   "nbconvert_exporter": "python",
   "pygments_lexer": "ipython3",
   "version": "3.10.12"
  }
 },
 "nbformat": 4,
 "nbformat_minor": 2
}
