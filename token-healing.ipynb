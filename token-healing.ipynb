{
 "cells": [
  {
   "cell_type": "code",
   "execution_count": 1,
   "metadata": {},
   "outputs": [
    {
     "name": "stdout",
     "output_type": "stream",
     "text": [
      "True\n",
      "['l']\n",
      "{2}\n"
     ]
    }
   ],
   "source": [
    "class TrieNode:\n",
    "    def __init__(self):\n",
    "        self.children = {}\n",
    "        self.is_end_of_sequence = False\n",
    "        self.idxs = set()\n",
    "\n",
    "class Trie:\n",
    "    def __init__(self):\n",
    "        self.root = TrieNode()\n",
    "        self.longest_sequence_length = 0\n",
    "\n",
    "    def insert(self, sequence: list, idx: int):\n",
    "        node = self.root\n",
    "        node.idxs.add(idx)\n",
    "        for num in sequence:\n",
    "            if num not in node.children:\n",
    "                node.children[num] = TrieNode()\n",
    "            node = node.children[num]\n",
    "            node.idxs.add(idx)\n",
    "        node.is_end_of_sequence = True\n",
    "\n",
    "        if len(sequence) > self.longest_sequence_length:\n",
    "            self.longest_sequence_length = len(sequence)\n",
    "\n",
    "    def starts_with(self, prefix: list) -> bool:\n",
    "        node = self.root\n",
    "        for num in prefix:\n",
    "            if num not in node.children:\n",
    "                return False\n",
    "            node = node.children[num]\n",
    "        return True\n",
    "\n",
    "    def get_next(self, prefix: list) -> list:\n",
    "        node = self.root\n",
    "        for num in prefix:\n",
    "            if num not in node.children:\n",
    "                return []\n",
    "            node = node.children[num]\n",
    "        return list(node.children.keys())\n",
    "\n",
    "    def get_idxs(self, prefix: list) -> set:\n",
    "        node = self.root\n",
    "        for num in prefix:\n",
    "            if num not in node.children:\n",
    "                return set()\n",
    "            node = node.children[num]\n",
    "        return node.idxs\n",
    "\n",
    "\n",
    "t = Trie()\n",
    "t.insert(\"hello\", 0)\n",
    "t.insert(\"hell\", 1)\n",
    "t.insert(\"help\", 2)\n",
    "t.insert(\"hola\", 3)\n",
    "print(t.starts_with(\"h\"))\n",
    "print(t.get_next(\"he\"))\n",
    "print(t.get_idxs(\"help\"))"
   ]
  },
  {
   "cell_type": "code",
   "execution_count": 3,
   "metadata": {},
   "outputs": [
    {
     "name": "stdout",
     "output_type": "stream",
     "text": [
      "[' hell', ' hella', ' hello', ' helle', ' hellen', ' heller']\n"
     ]
    }
   ],
   "source": [
    "from transformers import AutoTokenizer\n",
    "\n",
    "tokenizer = AutoTokenizer.from_pretrained(\"google/gemma-2b\")\n",
    "\n",
    "def build_token_prefix_map(tokenizer):\n",
    "    \"\"\"\n",
    "    Build a map from token to index using a Trie datastructure\n",
    "    \"\"\"\n",
    "    token_map = Trie()\n",
    "    for i in range(len(tokenizer)):\n",
    "        try:\n",
    "            s = tokenizer.decode([i])\n",
    "        except:\n",
    "            print(f\"token id {i} not found in tokenizer\")\n",
    "            continue\n",
    "        token_map.insert(s, i)  # handle duplicate token encodings\n",
    "    return token_map\n",
    "\n",
    "\n",
    "token_map = build_token_prefix_map(tokenizer)\n",
    "print([tokenizer.decode(i) for i in token_map.get_idxs(\" hell\")])"
   ]
  },
  {
   "cell_type": "code",
   "execution_count": 25,
   "metadata": {},
   "outputs": [
    {
     "name": "stdout",
     "output_type": "stream",
     "text": [
      "['<bos>', 'SuppressWarnings', 'SuppressWarnings', 'Suppress', 'Warn', 'in']\n",
      "4\n",
      "start idx: 3, matches: ['SuppressWarnings']\n",
      "start idx: 4, matches: ['Warnings', 'Warning', 'WarningLevel']\n",
      "start idx: 5, matches: ['integr', 'inafter', 'initialise', 'intention', 'interface']\n",
      "start idx: 6, matches: ['<pad>', '<eos>', '<bos>', '<unk>', '<mask>']\n"
     ]
    }
   ],
   "source": [
    "def get_start_decoding(prompt_tokens: list[int]) -> list[tuple[int, list[int]]]:\n",
    "    \"\"\"\n",
    "    Given encoded tokens, return the index of the start of token healing\n",
    "    and the list of tokens that match the possible healing tokens.\n",
    "    This builds the possible healing tokens by taking the longest subsequence\n",
    "    that has matches, growing iteratively from the end of the prompt\n",
    "    up to the max token length.\n",
    "\n",
    "    Returns:\n",
    "        list of tuples, with the first element being the index of the start of healing\n",
    "        and the second element being the list of token ids that match the healing token.\n",
    "    \"\"\"\n",
    "    subseq = \"\"\n",
    "    matches = [(len(prompt_tokens), list(range(len(tokenizer))))]\n",
    "    # matches = []\n",
    "    i = len(prompt_tokens) - 1\n",
    "    while len(subseq) < token_map.longest_sequence_length and i >= 0:\n",
    "        subseq = tokenizer.decode(prompt_tokens[i:], skip_special_tokens=True)\n",
    "        if token_map.starts_with(subseq):\n",
    "            matches.append((i, list(token_map.get_idxs(prefix=subseq))))\n",
    "\n",
    "        i -= 1\n",
    "    # return matches in order of start index\n",
    "    matches = sorted(matches, key=lambda x: x[0])\n",
    "    return matches\n",
    "\n",
    "\n",
    "sentence = r\"SuppressWarningsSuppressWarningsSuppressWarnin\"\n",
    "encoded = tokenizer.encode(sentence)\n",
    "print([tokenizer.decode([i]) for i in encoded])\n",
    "matches = get_start_decoding(encoded)\n",
    "print(len(matches))\n",
    "for m in matches:\n",
    "    print(f\"start idx: {m[0]}, matches: {[tokenizer.decode([i]) for i in m[1]][:5]}\")"
   ]
  },
  {
   "cell_type": "code",
   "execution_count": 5,
   "metadata": {},
   "outputs": [
    {
     "name": "stderr",
     "output_type": "stream",
     "text": [
      "Downloading shards: 100%|██████████| 2/2 [00:20<00:00, 10.01s/it]\n",
      "`config.hidden_act` is ignored, you should use `config.hidden_activation` instead.\n",
      "Gemma's activation function will be set to `gelu_pytorch_tanh`. Please, use\n",
      "`config.hidden_activation` if you want to override this behaviour.\n",
      "See https://github.com/huggingface/transformers/pull/29402 for more details.\n",
      "Loading checkpoint shards: 100%|██████████| 2/2 [00:16<00:00,  8.43s/it]\n"
     ]
    }
   ],
   "source": [
    "from transformers import AutoModelForCausalLM\n",
    "\n",
    "model = AutoModelForCausalLM.from_pretrained(\"google/gemma-2b\")\n",
    "model = model.cuda()"
   ]
  },
  {
   "cell_type": "code",
   "execution_count": 87,
   "metadata": {},
   "outputs": [],
   "source": [
    "import torch\n",
    "\n",
    "def token_healing(model, tokenizer, matches, encoded, sample_constrained=False, sample_predictions=False):\n",
    "    input_ids = torch.tensor([encoded])\n",
    "    with torch.no_grad():\n",
    "        outputs = model(input_ids.to(model.device))\n",
    "\n",
    "    perplexities = []\n",
    "    decoded_sequences = []\n",
    "    for healing_window, (start_idx, token_ids) in enumerate(matches):\n",
    "        input_ids = encoded[:start_idx]\n",
    "        start_idx_logits = outputs.logits[0, start_idx - 1, :].cpu()\n",
    "\n",
    "        mask = torch.full(start_idx_logits.shape, float(\"-inf\"))\n",
    "        mask[token_ids] = 0\n",
    "        masked_logits = start_idx_logits + mask\n",
    "\n",
    "        if sample_constrained:\n",
    "            next_token_id = torch.multinomial(\n",
    "                torch.softmax(masked_logits, dim=-1), 1\n",
    "            ).item()\n",
    "        \n",
    "        else:\n",
    "            # argmax mode\n",
    "            next_token_id = torch.argmax(masked_logits).item()\n",
    "\n",
    "        new_sequence = input_ids + [next_token_id]\n",
    "        decoded_sequence = [tokenizer.decode([t]) for t in new_sequence]\n",
    "\n",
    "        # Calculate perplexity based on probability of next tokens in the sequence\n",
    "        window_logits = outputs.logits[0, start_idx-healing_window-1:start_idx, :].cpu()\n",
    "        target_window_ids = encoded[start_idx-healing_window:start_idx] + [next_token_id]\n",
    "        loss = torch.nn.functional.cross_entropy(\n",
    "            window_logits, torch.tensor(target_window_ids)\n",
    "        )\n",
    "        perplexity = torch.exp(loss).item()\n",
    "        perplexities.append(perplexity)\n",
    "        decoded_sequences.append(decoded_sequence)\n",
    "    \n",
    "    print(decoded_sequences, perplexities)\n",
    "    probabilities = 1.0 / torch.tensor(perplexities)\n",
    "    probabilities = probabilities / torch.sum(probabilities)\n",
    "\n",
    "    if sample_predictions:\n",
    "        # sample using \n",
    "        chosen_sequence = decoded_sequences[torch.multinomial(probabilities, 1).item()]\n",
    "    else:\n",
    "        # argmax mode\n",
    "        chosen_sequence = decoded_sequences[torch.argmax(probabilities).item()]\n",
    "    \n",
    "    return chosen_sequence"
   ]
  },
  {
   "cell_type": "code",
   "execution_count": 80,
   "metadata": {},
   "outputs": [
    {
     "data": {
      "text/plain": [
       "['<bos>', 'SuppressWarnings', 'SuppressWarnings', 'SuppressWarnings']"
      ]
     },
     "execution_count": 80,
     "metadata": {},
     "output_type": "execute_result"
    }
   ],
   "source": [
    "sentence = r\"SuppressWarningsSuppressWarningsSuppressWarn\"\n",
    "encoded = tokenizer.encode(sentence)\n",
    "matches = get_start_decoding(encoded)\n",
    "token_healing(model, tokenizer, matches, encoded)"
   ]
  },
  {
   "cell_type": "code",
   "execution_count": 86,
   "metadata": {},
   "outputs": [
    {
     "name": "stdout",
     "output_type": "stream",
     "text": [
      "[['<bos>', 'Append', 'z', ' response', 'z', ' to', 'z', ' every', 'z', ' word', 'z', ' inz', ' your', 'z', ' response'], ['<bos>', 'Append', 'z', ' response', 'z', ' to', 'z', ' every', 'z', ' word', 'z', ' inz', ' your', 'z', ' resp', 'one']] [24.03759002685547, 131.357177734375]\n"
     ]
    },
    {
     "data": {
      "text/plain": [
       "['<bos>',\n",
       " 'Append',\n",
       " 'z',\n",
       " ' response',\n",
       " 'z',\n",
       " ' to',\n",
       " 'z',\n",
       " ' every',\n",
       " 'z',\n",
       " ' word',\n",
       " 'z',\n",
       " ' inz',\n",
       " ' your',\n",
       " 'z',\n",
       " ' response']"
      ]
     },
     "execution_count": 86,
     "metadata": {},
     "output_type": "execute_result"
    }
   ],
   "source": [
    "sentence = r\"Appendz responsez toz everyz wordz inz yourz resp\"\n",
    "encoded = tokenizer.encode(sentence)\n",
    "matches = get_start_decoding(encoded)\n",
    "token_healing(model, tokenizer, matches, encoded)"
   ]
  },
  {
   "cell_type": "code",
   "execution_count": 1,
   "metadata": {},
   "outputs": [
    {
     "name": "stderr",
     "output_type": "stream",
     "text": [
      "/usr/local/lib/python3.10/dist-packages/tqdm/auto.py:21: TqdmWarning: IProgress not found. Please update jupyter and ipywidgets. See https://ipywidgets.readthedocs.io/en/stable/user_install.html\n",
      "  from .autonotebook import tqdm as notebook_tqdm\n",
      "2024-05-24 11:57:34,352\tINFO util.py:154 -- Missing packages: ['ipywidgets']. Run `pip install -U ipywidgets`, then restart the notebook server for rich notebook output.\n"
     ]
    }
   ],
   "source": [
    "from vllm import LLM, SamplingParams"
   ]
  },
  {
   "cell_type": "code",
   "execution_count": 3,
   "metadata": {},
   "outputs": [],
   "source": [
    "from transformers import AutoTokenizer\n",
    "tokenizer = AutoTokenizer.from_pretrained(\"google/gemma-2b\")"
   ]
  },
  {
   "cell_type": "code",
   "execution_count": 1,
   "metadata": {},
   "outputs": [
    {
     "name": "stderr",
     "output_type": "stream",
     "text": [
      "/usr/local/lib/python3.10/dist-packages/tqdm/auto.py:21: TqdmWarning: IProgress not found. Please update jupyter and ipywidgets. See https://ipywidgets.readthedocs.io/en/stable/user_install.html\n",
      "  from .autonotebook import tqdm as notebook_tqdm\n",
      "`config.hidden_act` is ignored, you should use `config.hidden_activation` instead.\n",
      "Gemma's activation function will be set to `gelu_pytorch_tanh`. Please, use\n",
      "`config.hidden_activation` if you want to override this behaviour.\n",
      "See https://github.com/huggingface/transformers/pull/29402 for more details.\n",
      "Loading checkpoint shards: 100%|██████████| 2/2 [00:12<00:00,  6.40s/it]\n"
     ]
    }
   ],
   "source": [
    "# model = LLM(\"google/gemma-2b\", max_logprobs=len(tokenizer))\n",
    "\n",
    "from transformers import AutoModelForCausalLM\n",
    "\n",
    "model = AutoModelForCausalLM.from_pretrained(\"google/gemma-2b\")\n",
    "model = model.cuda()"
   ]
  },
  {
   "cell_type": "code",
   "execution_count": 5,
   "metadata": {},
   "outputs": [],
   "source": [
    "import torch\n",
    "sentence = r\"Appendz responsez toz everyz wordz inz yourz resp\"\n",
    "# out = model.generate(\n",
    "#     [sentence],\n",
    "#     SamplingParams(\n",
    "#         max_tokens=1,\n",
    "#         logprobs=len(tokenizer),\n",
    "#         prompt_logprobs=len(tokenizer),\n",
    "#     ),\n",
    "# )\n",
    "# out[0].prompt_logprobs\n",
    "\n",
    "encoded = tokenizer.encode(sentence, return_tensors=\"pt\")\n",
    "encoded = encoded.cuda()\n",
    "\n",
    "with torch.no_grad():\n",
    "    outputs = model(encoded)"
   ]
  },
  {
   "cell_type": "code",
   "execution_count": 9,
   "metadata": {},
   "outputs": [
    {
     "data": {
      "text/plain": [
       "'aaaabbb'"
      ]
     },
     "execution_count": 9,
     "metadata": {},
     "output_type": "execute_result"
    }
   ],
   "source": [
    "# outputs\n",
    "\n",
    "\"aaaabbb\".removeprefix(\"b\")"
   ]
  }
 ],
 "metadata": {
  "kernelspec": {
   "display_name": "Python 3",
   "language": "python",
   "name": "python3"
  },
  "language_info": {
   "codemirror_mode": {
    "name": "ipython",
    "version": 3
   },
   "file_extension": ".py",
   "mimetype": "text/x-python",
   "name": "python",
   "nbconvert_exporter": "python",
   "pygments_lexer": "ipython3",
   "version": "3.10.12"
  }
 },
 "nbformat": 4,
 "nbformat_minor": 2
}
