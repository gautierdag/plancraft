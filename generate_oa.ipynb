{
 "cells": [
  {
   "cell_type": "code",
   "execution_count": 8,
   "metadata": {},
   "outputs": [],
   "source": [
    "import json\n",
    "import glob\n",
    "# import numpy as np\n",
    "# from PIL import Image, ImageSequence\n",
    "\n",
    "oracle_trajectories_train = []\n",
    "oracle_results = {\n",
    "    \"/plancraft/outputs/oracle_symb/train/0/*.json\": [],\n",
    "    \"/plancraft/outputs/oracle_symb/val/0/*.json\": [],\n",
    "}\n",
    "x, c = 0,0\n",
    "for path in oracle_results.keys():\n",
    "    for f in glob.glob(path):\n",
    "        with open(f, \"r\") as file:\n",
    "            traj = json.load(file)\n",
    "        if (\n",
    "            len(traj[\"model_trace\"][\"inventory_history\"]) == len(traj[\"model_trace\"][\"action_history\"])\n",
    "        ):\n",
    "            # ignore impossible actions\n",
    "            oracle_results[path].append(traj)"
   ]
  },
  {
   "cell_type": "code",
   "execution_count": 22,
   "metadata": {},
   "outputs": [
    {
     "data": {
      "text/plain": [
       "{'slot_from': 1, 'slot_to': 2, 'quantity': 1, 'action_type': 'move'}"
      ]
     },
     "execution_count": 22,
     "metadata": {},
     "output_type": "execute_result"
    }
   ],
   "source": [
    "from pydantic import BaseModel, field_validator\n",
    "\n",
    "class SymbolicMoveAction(BaseModel):\n",
    "    \"\"\" \"Moves an item from one slot to another\"\"\"\n",
    "\n",
    "    slot_from: int\n",
    "    slot_to: int\n",
    "    quantity: int\n",
    "\n",
    "    action_type: str = \"move\"\n",
    "\n",
    "\n",
    "    @field_validator(\"action_type\", mode=\"before\")\n",
    "    def transform_quantity(cls, value) -> str:\n",
    "        return \"move\"\n",
    "\n",
    "\n",
    "SymbolicMoveAction(slot_from=1, slot_to=2, quantity=1, action_type=\"ahjajahja\").model_dump()"
   ]
  },
  {
   "cell_type": "code",
   "execution_count": 10,
   "metadata": {},
   "outputs": [
    {
     "data": {
      "text/plain": [
       "'You are crafting in Minecraft. You need to decide on the next action.\\n\\nCrafting Grid: The crafting table is organized into a 3x3 grid. Each slot in the grid has a unique identifier:\\n    - Top row: [A1] [A2] [A3]\\n    - Middle row: [B1] [B2] [B3]\\n    - Bottom row: [C1] [C2] [C3]\\n\\nThe output of the crafting process is placed in a designated output slot labeled [0] You cannot move or smelt items directly into slot [0]\\n\\nInventory Slots: The remaining inventory slots (outside of the crafting grid) are used for storing items. These slots are labeled as [I1] to [I36]\\n\\nActions:\\n\\t- move: Transfer a specific quantity of an item from one slot to another\\n\\t- smelt: Smelt an item in a furnace and moves the output to a specific slot\\n\\nFormat\\n\\t- `move: from [Source] to [Target] with quantity N`\\n\\t- `smelt: from [Source] to [Target] with quantity N`\\n\\nExample:\\n    - `move: from [I2] to [A1] with quantity 3`\\n    - `smelt: from [I5] to [I6] with quantity 1`\\n\\nConstraints:\\n   - You cannot move or smelt items into [0]\\n   - If an item is not in slot [0] then the recipe is incorrect\\n   - You need to move items from [0] to a free inventory slot to complete the crafting process'"
      ]
     },
     "execution_count": 10,
     "metadata": {},
     "output_type": "execute_result"
    }
   ],
   "source": [
    "from plancraft.models.prompts import get_system_prompt\n",
    "from collections import defaultdict\n",
    "\n",
    "SYSTEM_PROMPT = get_system_prompt(actions=[\"move\", \"smelt\"])\n",
    "\n",
    "SYSTEM_PROMPT\n"
   ]
  },
  {
   "cell_type": "code",
   "execution_count": 13,
   "metadata": {},
   "outputs": [
    {
     "ename": "KeyError",
     "evalue": "'action_type'",
     "output_type": "error",
     "traceback": [
      "\u001b[0;31m---------------------------------------------------------------------------\u001b[0m",
      "\u001b[0;31mKeyError\u001b[0m                                  Traceback (most recent call last)",
      "Cell \u001b[0;32mIn[13], line 47\u001b[0m\n\u001b[1;32m     40\u001b[0m     example \u001b[38;5;241m=\u001b[39m {\n\u001b[1;32m     41\u001b[0m         \u001b[38;5;124m\"\u001b[39m\u001b[38;5;124mmessages\u001b[39m\u001b[38;5;124m\"\u001b[39m: dialogue,\n\u001b[1;32m     42\u001b[0m         \u001b[38;5;124m\"\u001b[39m\u001b[38;5;124mexample_id\u001b[39m\u001b[38;5;124m\"\u001b[39m: traj[\u001b[38;5;124m\"\u001b[39m\u001b[38;5;124mexample_id\u001b[39m\u001b[38;5;124m\"\u001b[39m],\n\u001b[1;32m     43\u001b[0m     }\n\u001b[1;32m     44\u001b[0m     \u001b[38;5;28;01mreturn\u001b[39;00m example\n\u001b[0;32m---> 47\u001b[0m \u001b[43mconvert_trajectory_to_base_dialogue\u001b[49m\u001b[43m(\u001b[49m\u001b[43moracle_results\u001b[49m\u001b[43m[\u001b[49m\u001b[38;5;124;43m\"\u001b[39;49m\u001b[38;5;124;43m/plancraft/outputs/oracle_symb/train/0/*.json\u001b[39;49m\u001b[38;5;124;43m\"\u001b[39;49m\u001b[43m]\u001b[49m\u001b[43m[\u001b[49m\u001b[38;5;241;43m0\u001b[39;49m\u001b[43m]\u001b[49m\u001b[43m)\u001b[49m\n",
      "Cell \u001b[0;32mIn[13], line 37\u001b[0m, in \u001b[0;36mconvert_trajectory_to_base_dialogue\u001b[0;34m(traj)\u001b[0m\n\u001b[1;32m     24\u001b[0m \u001b[38;5;28;01mfor\u001b[39;00m action, inventory \u001b[38;5;129;01min\u001b[39;00m \u001b[38;5;28mzip\u001b[39m(\n\u001b[1;32m     25\u001b[0m     traj[\u001b[38;5;124m\"\u001b[39m\u001b[38;5;124mmodel_trace\u001b[39m\u001b[38;5;124m\"\u001b[39m][\u001b[38;5;124m\"\u001b[39m\u001b[38;5;124maction_history\u001b[39m\u001b[38;5;124m\"\u001b[39m],\n\u001b[1;32m     26\u001b[0m     traj[\u001b[38;5;124m\"\u001b[39m\u001b[38;5;124mmodel_trace\u001b[39m\u001b[38;5;124m\"\u001b[39m][\u001b[38;5;124m\"\u001b[39m\u001b[38;5;124minventory_history\u001b[39m\u001b[38;5;124m\"\u001b[39m],\n\u001b[1;32m     27\u001b[0m ):\n\u001b[1;32m     28\u001b[0m     dialogue\u001b[38;5;241m.\u001b[39mappend(\n\u001b[1;32m     29\u001b[0m         {\n\u001b[1;32m     30\u001b[0m             \u001b[38;5;124m\"\u001b[39m\u001b[38;5;124mrole\u001b[39m\u001b[38;5;124m\"\u001b[39m: \u001b[38;5;124m\"\u001b[39m\u001b[38;5;124muser\u001b[39m\u001b[38;5;124m\"\u001b[39m,\n\u001b[1;32m     31\u001b[0m             \u001b[38;5;124m\"\u001b[39m\u001b[38;5;124mcontent\u001b[39m\u001b[38;5;124m\"\u001b[39m: convert_obs_to_text(objective, inventory),\n\u001b[1;32m     32\u001b[0m         }\n\u001b[1;32m     33\u001b[0m     )\n\u001b[1;32m     34\u001b[0m     dialogue\u001b[38;5;241m.\u001b[39mappend(\n\u001b[1;32m     35\u001b[0m         {\n\u001b[1;32m     36\u001b[0m             \u001b[38;5;124m\"\u001b[39m\u001b[38;5;124mrole\u001b[39m\u001b[38;5;124m\"\u001b[39m: \u001b[38;5;124m\"\u001b[39m\u001b[38;5;124massistant\u001b[39m\u001b[38;5;124m\"\u001b[39m,\n\u001b[0;32m---> 37\u001b[0m             \u001b[38;5;124m\"\u001b[39m\u001b[38;5;124mcontent\u001b[39m\u001b[38;5;124m\"\u001b[39m: \u001b[43mconvert_action_to_text\u001b[49m\u001b[43m(\u001b[49m\u001b[43maction\u001b[49m\u001b[43m)\u001b[49m,\n\u001b[1;32m     38\u001b[0m         }\n\u001b[1;32m     39\u001b[0m     )\n\u001b[1;32m     40\u001b[0m example \u001b[38;5;241m=\u001b[39m {\n\u001b[1;32m     41\u001b[0m     \u001b[38;5;124m\"\u001b[39m\u001b[38;5;124mmessages\u001b[39m\u001b[38;5;124m\"\u001b[39m: dialogue,\n\u001b[1;32m     42\u001b[0m     \u001b[38;5;124m\"\u001b[39m\u001b[38;5;124mexample_id\u001b[39m\u001b[38;5;124m\"\u001b[39m: traj[\u001b[38;5;124m\"\u001b[39m\u001b[38;5;124mexample_id\u001b[39m\u001b[38;5;124m\"\u001b[39m],\n\u001b[1;32m     43\u001b[0m }\n\u001b[1;32m     44\u001b[0m \u001b[38;5;28;01mreturn\u001b[39;00m example\n",
      "Cell \u001b[0;32mIn[13], line 17\u001b[0m, in \u001b[0;36mconvert_action_to_text\u001b[0;34m(action)\u001b[0m\n\u001b[1;32m     15\u001b[0m slot_from \u001b[38;5;241m=\u001b[39m convert_from_slot_index(action[\u001b[38;5;124m'\u001b[39m\u001b[38;5;124mslot_from\u001b[39m\u001b[38;5;124m'\u001b[39m])\n\u001b[1;32m     16\u001b[0m slot_to \u001b[38;5;241m=\u001b[39m convert_from_slot_index(action[\u001b[38;5;124m'\u001b[39m\u001b[38;5;124mslot_to\u001b[39m\u001b[38;5;124m'\u001b[39m])\n\u001b[0;32m---> 17\u001b[0m \u001b[38;5;28;01mreturn\u001b[39;00m \u001b[38;5;124mf\u001b[39m\u001b[38;5;124m\"\u001b[39m\u001b[38;5;132;01m{\u001b[39;00m\u001b[43maction\u001b[49m\u001b[43m[\u001b[49m\u001b[38;5;124;43m'\u001b[39;49m\u001b[38;5;124;43maction_type\u001b[39;49m\u001b[38;5;124;43m'\u001b[39;49m\u001b[43m]\u001b[49m\u001b[38;5;132;01m}\u001b[39;00m\u001b[38;5;124m: from \u001b[39m\u001b[38;5;132;01m{\u001b[39;00mslot_from\u001b[38;5;132;01m}\u001b[39;00m\u001b[38;5;124m to slot \u001b[39m\u001b[38;5;132;01m{\u001b[39;00mslot_to\u001b[38;5;132;01m}\u001b[39;00m\u001b[38;5;124m with quantity \u001b[39m\u001b[38;5;132;01m{\u001b[39;00maction[\u001b[38;5;124m'\u001b[39m\u001b[38;5;124mquantity\u001b[39m\u001b[38;5;124m'\u001b[39m]\u001b[38;5;132;01m}\u001b[39;00m\u001b[38;5;124m\"\u001b[39m\n",
      "\u001b[0;31mKeyError\u001b[0m: 'action_type'"
     ]
    }
   ],
   "source": [
    "import os\n",
    "from plancraft.environments.actions import convert_from_slot_index\n",
    "\n",
    "from collections import defaultdict\n",
    "\n",
    "PROMPT = get_system_prompt(actions = [\"move\", \"smelt\"])\n",
    "\n",
    "\n",
    "def convert_obs_to_text(objective: str, inventory: list[dict]):\n",
    "    return f\"TASK: {objective}\\ninventory={json.dumps(inventory)}\"\n",
    "\n",
    "\n",
    "def convert_action_to_text(action: dict):\n",
    "    # {'action_type': 'move', 'slot_from': 17, 'slot_to': 1, 'quantity': 1}\n",
    "    slot_from = convert_from_slot_index(action['slot_from'])\n",
    "    slot_to = convert_from_slot_index(action['slot_to'])\n",
    "    return f\"{action['action_type']}: from {slot_from} to slot {slot_to} with quantity {action['quantity']}\"\n",
    "\n",
    "\n",
    "# convert action and inventory to dialogue history\n",
    "def convert_trajectory_to_base_dialogue(traj: dict):\n",
    "    dialogue = [{\"role\": \"system\", \"content\": SYSTEM_PROMPT}]\n",
    "    objective = traj[\"model_trace\"][\"objective\"]\n",
    "    for action, inventory in zip(\n",
    "        traj[\"model_trace\"][\"action_history\"],\n",
    "        traj[\"model_trace\"][\"inventory_history\"],\n",
    "    ):\n",
    "        dialogue.append(\n",
    "            {\n",
    "                \"role\": \"user\",\n",
    "                \"content\": convert_obs_to_text(objective, inventory),\n",
    "            }\n",
    "        )\n",
    "        dialogue.append(\n",
    "            {\n",
    "                \"role\": \"assistant\",\n",
    "                \"content\": convert_action_to_text(action),\n",
    "            }\n",
    "        )\n",
    "    example = {\n",
    "        \"messages\": dialogue,\n",
    "        \"example_id\": traj[\"example_id\"],\n",
    "    }\n",
    "    return example\n",
    "\n",
    "\n",
    "convert_trajectory_to_base_dialogue(oracle_results[\"/plancraft/outputs/oracle_symb/train/0/*.json\"][0])\n",
    "\n",
    "\n",
    "\n"
   ]
  },
  {
   "cell_type": "code",
   "execution_count": null,
   "metadata": {},
   "outputs": [],
   "source": [
    "# convert action and inventory to dialogue history\n",
    "def convert_trajectory_to_image_dialogue(traj: dict):\n",
    "    dialogue = [\n",
    "        {\"role\": \"system\", \"content\": [{\"type\": \"text\", \"text\": SYSTEM_PROMPT}]}\n",
    "    ]\n",
    "    objective = traj[\"model_trace\"][\"objective\"]\n",
    "    images = []\n",
    "    for image, action, inventory in zip(\n",
    "        traj[\"model_trace\"][\"images\"],\n",
    "        traj[\"model_trace\"][\"action_history\"],\n",
    "        traj[\"model_trace\"][\"inventory_history\"],\n",
    "    ):\n",
    "        dialogue.append(\n",
    "            {\n",
    "                \"role\": \"user\",\n",
    "                \"content\": [{\"type\": \"image\"}, {\"type\": \"text\", \"text\": objective}],\n",
    "            }\n",
    "        )\n",
    "        dialogue.append(\n",
    "            {\n",
    "                \"role\": \"assistant\",\n",
    "                \"content\": [{\"type\": \"text\", \"text\": convert_action_to_text(action)}],\n",
    "            }\n",
    "        )\n",
    "        images.append(image)\n",
    "    example = {\n",
    "        \"messages\": dialogue,\n",
    "        \"example_id\": traj[\"example_id\"],\n",
    "    }\n",
    "    return example, images\n"
   ]
  },
  {
   "cell_type": "code",
   "execution_count": null,
   "metadata": {},
   "outputs": [],
   "source": [
    "text_data = defaultdict(list)\n",
    "mm_data = defaultdict(list)\n",
    "for path, trajs in oracle_results.items():\n",
    "    split = path.split(\"/\")[-3]\n",
    "    for traj in trajs:\n",
    "        text_example = convert_trajectory_to_base_dialogue(traj)\n",
    "        text_data[split].append(text_example)\n",
    "        mm_example, example_imgs = convert_trajectory_to_image_dialogue(traj)\n",
    "        mm_data[split].append(mm_example)\n",
    "        # save imgs as png in format \"data/oracle/{split}/{example_id}_{step}.gif\"\n",
    "        os.makedirs(f\"data/oracle/{split}\", exist_ok=True)\n",
    "        for i, img in enumerate(example_imgs):\n",
    "            Image.fromarray(img).save(\n",
    "                f\"data/oracle/{split}/{traj['example_id']}_{i}.png\"\n",
    "            )\n",
    "\n",
    "    # save as jsonl file\n",
    "    with open(f\"data/oracle/{split}.jsonl\", \"w\") as f:\n",
    "        for example in text_data[split]:\n",
    "            f.write(json.dumps(example) + \"\\n\")\n",
    "\n",
    "    with open(f\"data/oracle/{split}.mm.jsonl\", \"w\") as f:\n",
    "        for example in mm_data[split]:\n",
    "            f.write(json.dumps(example) + \"\\n\")\n"
   ]
  }
 ],
 "metadata": {
  "kernelspec": {
   "display_name": "Python 3",
   "language": "python",
   "name": "python3"
  },
  "language_info": {
   "codemirror_mode": {
    "name": "ipython",
    "version": 3
   },
   "file_extension": ".py",
   "mimetype": "text/x-python",
   "name": "python",
   "nbconvert_exporter": "python",
   "pygments_lexer": "ipython3",
   "version": "3.10.12"
  }
 },
 "nbformat": 4,
 "nbformat_minor": 2
}
